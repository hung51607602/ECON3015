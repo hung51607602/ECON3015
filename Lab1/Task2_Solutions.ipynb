{
 "cells": [
  {
   "cell_type": "markdown",
   "metadata": {},
   "source": [
    "# Task2 正确解答 - 创建 state_type 列\n",
    "\n",
    "要求：创建新列 `state_type`，值为：\n",
    "- `'big'` 当 `density > 100`\n",
    "- `'small'` 当 `density <= 100`"
   ]
  },
  {
   "cell_type": "code",
   "execution_count": null,
   "metadata": {},
   "outputs": [],
   "source": [
    "import numpy as np\n",
    "import pandas as pd\n",
    "\n",
    "# 重新创建数据（基于原文件）\n",
    "state_dict = {'state':['California','Texas','New York','Florida', 'Illinois'],\n",
    "              'pop':[38332521,26448193,19651127,19552860,12882135],\n",
    "              'area':[423967,695662,141297,170312,149995]}\n",
    "\n",
    "state_df = pd.DataFrame(data = state_dict)\n",
    "state_df.set_index(keys='state', inplace=True)\n",
    "state_df['density'] = state_df['pop'] / state_df['area']\n",
    "\n",
    "print(\"原始数据:\")\n",
    "print(state_df)"
   ]
  },
  {
   "cell_type": "markdown",
   "metadata": {},
   "source": [
    "## 方法1: 使用条件赋值 (推荐)"
   ]
  },
  {
   "cell_type": "code",
   "execution_count": null,
   "metadata": {},
   "outputs": [],
   "source": [
    "# 方法1: 分步条件赋值\n",
    "state_df_method1 = state_df.copy()\n",
    "\n",
    "# 首先给所有行分配默认值\n",
    "state_df_method1['state_type'] = 'small'  # 默认为 'small'\n",
    "\n",
    "# 然后修改满足条件的行\n",
    "state_df_method1.loc[state_df_method1['density'] > 100, 'state_type'] = 'big'\n",
    "\n",
    "print(\"方法1结果:\")\n",
    "print(state_df_method1)\n",
    "print(f\"\\n各类型数量:\")\n",
    "print(state_df_method1['state_type'].value_counts())"
   ]
  },
  {
   "cell_type": "markdown",
   "metadata": {},
   "source": [
    "## 方法2: 使用 np.where() (推荐)"
   ]
  },
  {
   "cell_type": "code",
   "execution_count": null,
   "metadata": {},
   "outputs": [],
   "source": [
    "# 方法2: 使用 np.where()\n",
    "state_df_method2 = state_df.copy()\n",
    "\n",
    "state_df_method2['state_type'] = np.where(\n",
    "    state_df_method2['density'] > 100, \n",
    "    'big',    # 如果条件为真\n",
    "    'small'   # 如果条件为假\n",
    ")\n",
    "\n",
    "print(\"方法2结果:\")\n",
    "print(state_df_method2)\n",
    "print(f\"\\n各类型数量:\")\n",
    "print(state_df_method2['state_type'].value_counts())"
   ]
  },
  {
   "cell_type": "markdown",
   "metadata": {},
   "source": [
    "## 方法3: 使用列表推导式"
   ]
  },
  {
   "cell_type": "code",
   "execution_count": null,
   "metadata": {},
   "outputs": [],
   "source": [
    "# 方法3: 使用列表推导式\n",
    "state_df_method3 = state_df.copy()\n",
    "\n",
    "state_df_method3['state_type'] = [\n",
    "    'big' if density > 100 else 'small' \n",
    "    for density in state_df_method3['density']\n",
    "]\n",
    "\n",
    "print(\"方法3结果:\")\n",
    "print(state_df_method3)\n",
    "print(f\"\\n各类型数量:\")\n",
    "print(state_df_method3['state_type'].value_counts())"
   ]
  },
  {
   "cell_type": "markdown",
   "metadata": {},
   "source": [
    "## 方法4: 使用 pandas.cut() (适用于更复杂的分类)"
   ]
  },
  {
   "cell_type": "code",
   "execution_count": null,
   "metadata": {},
   "outputs": [],
   "source": [
    "# 方法4: 使用 pd.cut() - 适合复杂分类\n",
    "state_df_method4 = state_df.copy()\n",
    "\n",
    "state_df_method4['state_type'] = pd.cut(\n",
    "    state_df_method4['density'],\n",
    "    bins=[0, 100, float('inf')],  # 分割点: 0-100, 100-无穷\n",
    "    labels=['small', 'big'],      # 对应的标签\n",
    "    include_lowest=True\n",
    ")\n",
    "\n",
    "print(\"方法4结果:\")\n",
    "print(state_df_method4)\n",
    "print(f\"\\n各类型数量:\")\n",
    "print(state_df_method4['state_type'].value_counts())"
   ]
  },
  {
   "cell_type": "markdown",
   "metadata": {},
   "source": [
    "## 验证结果正确性"
   ]
  },
  {
   "cell_type": "code",
   "execution_count": null,
   "metadata": {},
   "outputs": [],
   "source": [
    "# 验证所有方法结果一致\n",
    "print(\"=== 验证结果 ===\")\n",
    "print(\"各州密度和分类:\")\n",
    "result_df = state_df_method1[['density', 'state_type']].copy()\n",
    "result_df['density_rounded'] = result_df['density'].round(2)\n",
    "result_df['correct_logic'] = result_df.apply(\n",
    "    lambda row: (row['state_type'] == 'big' and row['density'] > 100) or \n",
    "                (row['state_type'] == 'small' and row['density'] <= 100), \n",
    "    axis=1\n",
    ")\n",
    "\n",
    "print(result_df)\n",
    "print(f\"\\n逻辑正确性: {result_df['correct_logic'].all()}\")\n",
    "\n",
    "# 检查哪些州被分类为 'big'\n",
    "big_states = state_df_method1[state_df_method1['state_type'] == 'big'].index.tolist()\n",
    "print(f\"\\n密度>100的州 (big): {big_states}\")\n",
    "\n",
    "small_states = state_df_method1[state_df_method1['state_type'] == 'small'].index.tolist()\n",
    "print(f\"密度<=100的州 (small): {small_states}\")"
   ]
  },
  {
   "cell_type": "markdown",
   "metadata": {},
   "source": [
    "## 你原始代码的问题解释"
   ]
  },
  {
   "cell_type": "code",
   "execution_count": null,
   "metadata": {},
   "outputs": [],
   "source": [
    "print(\"=== 你的原始代码问题分析 ===\")\n",
    "print()\n",
    "print(\"❌ 错误代码:\")\n",
    "print(\"satet_df['state_type'] = state_df.loc[state_df['density']>100,['state_type', 'Big','Small']]\")\n",
    "print()\n",
    "print(\"问题分析:\")\n",
    "print(\"1. 'satet_df' -> 应该是 'state_df' (拼写错误)\")\n",
    "print(\"2. ['state_type', 'Big','Small'] -> 这些列不存在\")\n",
    "print(\"3. 逻辑错误: 你试图用不存在的列来赋值\")\n",
    "print(\"4. 语法错误: 条件赋值的方式不对\")\n",
    "print()\n",
    "print(\"✅ 正确思路:\")\n",
    "print(\"1. 先创建新列\")\n",
    "print(\"2. 根据条件赋值\")\n",
    "print(\"3. 使用正确的语法\")\n",
    "\n",
    "# 演示错误会发生什么\n",
    "try:\n",
    "    # 模拟你的错误代码\n",
    "    test_df = state_df.copy()\n",
    "    # 这会报错，因为列不存在\n",
    "    result = test_df.loc[test_df['density']>100, ['state_type', 'Big', 'Small']]\n",
    "except KeyError as e:\n",
    "    print(f\"\\n❌ 运行你的代码会出错: {e}\")\n",
    "    print(\"原因: 试图访问不存在的列\")"
   ]
  },
  {
   "cell_type": "markdown",
   "metadata": {},
   "source": [
    "## 总结和建议\n",
    "\n",
    "### 🎯 最佳实践推荐：\n",
    "\n",
    "1. **方法1 (条件赋值)** - 最直观，适合初学者\n",
    "2. **方法2 (np.where)** - 最简洁，适合简单的二元分类\n",
    "3. **方法3 (列表推导式)** - Python风格，但对大数据效率较低\n",
    "4. **方法4 (pd.cut)** - 适合复杂的多分类情况\n",
    "\n",
    "### 📝 记忆要点：\n",
    "- 先创建列，再赋值\n",
    "- 使用 `.loc[]` 进行条件选择\n",
    "- 检查列名拼写\n",
    "- 验证逻辑正确性"
   ]
  }
 ],
 "metadata": {
  "kernelspec": {
   "display_name": "Python 3",
   "language": "python",
   "name": "python3"
  },
  "language_info": {
   "codemirror_mode": {
    "name": "ipython",
    "version": 3
   },
   "file_extension": ".py",
   "mimetype": "text/x-python",
   "name": "python",
   "nbconvert_exporter": "python",
   "pygments_lexer": "ipython3",
   "version": "3.8.5"
  }
 },
 "nbformat": 4,
 "nbformat_minor": 4
}