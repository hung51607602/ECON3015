{
 "cells": [
  {
   "cell_type": "markdown",
   "metadata": {},
   "source": [
    "# Python 數據類型和結構總結指南\n",
    "\n",
    "---\n",
    "\n",
    "## 📋 目錄 (Table of Contents)\n",
    "\n",
    "### 1. [基本數據類型 (Basic Data Types)](#1-基本數據類型-basic-data-types)\n",
    "- Integer (整數)\n",
    "- Float (浮點數)\n",
    "- Boolean (布爾值)\n",
    "- String (字符串)\n",
    "\n",
    "### 2. [數據結構 (Data Structures)](#2-數據結構-data-structures)\n",
    "- **2.1** [List (列表)](#21-list-列表) - 有序、可變、允許重複\n",
    "- **2.2** [Set (集合)](#22-set-集合) - 無序、不可變、不允許重複\n",
    "- **2.3** [NumPy Array (數組)](#23-numpy-array-數組) - 同類型數據的高效存儲\n",
    "- **2.4** [Dictionary (字典)](#24-dictionary-字典) - 鍵值對存儲\n",
    "\n",
    "### 3. [實用技巧和最佳實踐](#3-實用技巧和最佳實踐)\n",
    "\n",
    "---"
   ]
  },
  {
   "cell_type": "markdown",
   "metadata": {},
   "source": [
    "## 1. 基本數據類型 (Basic Data Types)\n",
    "\n",
    "Python 中有四種基本數據類型："
   ]
  },
  {
   "cell_type": "code",
   "execution_count": null,
   "metadata": {},
   "outputs": [],
   "source": [
    "# 基本數據類型示例\n",
    "x1 = 1          # Integer (整數)\n",
    "x2 = 1.5        # Float (浮點數)\n",
    "x3 = True       # Boolean (布爾值)\n",
    "x4 = 'apple'    # String (字符串)\n",
    "\n",
    "print(\"數據類型檢查:\")\n",
    "print(f\"x1 = {x1}, 類型: {type(x1)}\")\n",
    "print(f\"x2 = {x2}, 類型: {type(x2)}\")\n",
    "print(f\"x3 = {x3}, 類型: {type(x3)}\")\n",
    "print(f\"x4 = {x4}, 類型: {type(x4)}\")"
   ]
  },
  {
   "cell_type": "markdown",
   "metadata": {},
   "source": [
    "### 💡 數據類型轉換示例"
   ]
  },
  {
   "cell_type": "code",
   "execution_count": null,
   "metadata": {},
   "outputs": [],
   "source": [
    "# 類型轉換示例\n",
    "num_str = \"123\"\n",
    "num_int = int(num_str)     # 字符串轉整數\n",
    "num_float = float(num_str) # 字符串轉浮點數\n",
    "bool_val = bool(num_int)   # 整數轉布爾值\n",
    "\n",
    "print(f\"原始字符串: {num_str} ({type(num_str)})\")\n",
    "print(f\"轉為整數: {num_int} ({type(num_int)})\")\n",
    "print(f\"轉為浮點數: {num_float} ({type(num_float)})\")\n",
    "print(f\"轉為布爾值: {bool_val} ({type(bool_val)})\")"
   ]
  },
  {
   "cell_type": "markdown",
   "metadata": {},
   "source": [
    "---\n",
    "\n",
    "## 2. 數據結構 (Data Structures)\n",
    "\n",
    "### 2.1 List (列表)\n",
    "\n",
    "**特點:**\n",
    "- ✅ **有序** (Ordered)\n",
    "- ✅ **可變** (Changeable)\n",
    "- ✅ **允許重複** (Allow duplicates)\n",
    "- ✅ **支持不同數據類型** (Mixed data types)"
   ]
  },
  {
   "cell_type": "code",
   "execution_count": 1,
   "metadata": {},
   "outputs": [
    {
     "name": "stdout",
     "output_type": "stream",
     "text": [
      "列表內容: [True, 'apple', 3.0, 4, 'apple']\n",
      "列表類型: <class 'list'>\n",
      "列表長度: 5\n"
     ]
    }
   ],
   "source": [
    "# 創建列表\n",
    "lst1 = [True, \"apple\", 3.0, 4, 'apple']\n",
    "print(f\"列表內容: {lst1}\")\n",
    "print(f\"列表類型: {type(lst1)}\")\n",
    "print(f\"列表長度: {len(lst1)}\")"
   ]
  },
  {
   "cell_type": "markdown",
   "metadata": {},
   "source": [
    "#### 🔍 列表訪問 (List Access)"
   ]
  },
  {
   "cell_type": "code",
   "execution_count": null,
   "metadata": {},
   "outputs": [],
   "source": [
    "# 列表元素訪問\n",
    "print(\"=== 列表訪問示例 ===\")\n",
    "print(f\"第一個元素 lst1[0]: {lst1[0]}\")\n",
    "print(f\"最後一個元素 lst1[-1]: {lst1[-1]}\")\n",
    "print(f\"切片 lst1[2:]: {lst1[2:]}\")\n",
    "print(f\"切片 lst1[1:4]: {lst1[1:4]}\")\n",
    "\n",
    "print(\"\\n=== 列表查找操作 ===\")\n",
    "print(f\"'apple' 出現次數: {lst1.count('apple')}\")\n",
    "print(f\"'apple' 第一次出現的位置: {lst1.index('apple')}\")"
   ]
  },
  {
   "cell_type": "markdown",
   "metadata": {},
   "source": [
    "#### ✏️ 列表修改 (List Modification)"
   ]
  },
  {
   "cell_type": "code",
   "execution_count": 2,
   "metadata": {},
   "outputs": [
    {
     "name": "stdout",
     "output_type": "stream",
     "text": [
      "原始列表: [True, 'apple', 3.0, 4, 'apple']\n",
      "替換第一個元素後: [False, 'apple', 3.0, 4, 'apple']\n",
      "在位置2插入'watermelon'後: [False, 'apple', 'watermelon', 3.0, 4, 'apple']\n",
      "追加12後: [False, 'apple', 'watermelon', 3.0, 4, 'apple', 12]\n",
      "移除'watermelon'後: [False, 'apple', 3.0, 4, 'apple', 12]\n"
     ]
    }
   ],
   "source": [
    "# 創建一個新的列表來演示修改操作\n",
    "demo_list = [True, \"apple\", 3.0, 4, 'apple']\n",
    "print(f\"原始列表: {demo_list}\")\n",
    "\n",
    "# 1. 替換元素\n",
    "demo_list[0] = False\n",
    "print(f\"替換第一個元素後: {demo_list}\")\n",
    "\n",
    "# 2. 插入元素\n",
    "demo_list.insert(2, \"watermelon\")\n",
    "print(f\"在位置2插入'watermelon'後: {demo_list}\")\n",
    "\n",
    "# 3. 追加元素\n",
    "demo_list.append(12)\n",
    "print(f\"追加12後: {demo_list}\")\n",
    "\n",
    "# 4. 移除元素\n",
    "demo_list.remove(\"watermelon\")\n",
    "print(f\"移除'watermelon'後: {demo_list}\")"
   ]
  },
  {
   "cell_type": "markdown",
   "metadata": {},
   "source": [
    "#### 📊 列表排序 (List Sorting)"
   ]
  },
  {
   "cell_type": "code",
   "execution_count": null,
   "metadata": {},
   "outputs": [],
   "source": [
    "# 列表排序示例\n",
    "numbers = [100, 50, 65, 82, 23]\n",
    "print(f\"原始數字列表: {numbers}\")\n",
    "\n",
    "# 升序排序\n",
    "numbers_asc = numbers.copy()  # 創建副本以保留原始數據\n",
    "numbers_asc.sort()\n",
    "print(f\"升序排序: {numbers_asc}\")\n",
    "\n",
    "# 降序排序\n",
    "numbers_desc = numbers.copy()\n",
    "numbers_desc.sort(reverse=True)\n",
    "print(f\"降序排序: {numbers_desc}\")\n",
    "\n",
    "# 使用 sorted() 函數（不改變原列表）\n",
    "print(f\"原列表保持不變: {numbers}\")\n",
    "print(f\"sorted() 升序: {sorted(numbers)}\")\n",
    "print(f\"sorted() 降序: {sorted(numbers, reverse=True)}\")"
   ]
  },
  {
   "cell_type": "markdown",
   "metadata": {},
   "source": [
    "#### 🔗 列表合併和循環 (List Joining and Iteration)"
   ]
  },
  {
   "cell_type": "code",
   "execution_count": null,
   "metadata": {},
   "outputs": [],
   "source": [
    "# 列表合併\n",
    "list1 = [1, 2, 3]\n",
    "list2 = [4, 5, 6]\n",
    "combined = list1 + list2\n",
    "print(f\"合併列表: {combined}\")\n",
    "\n",
    "# 列表循環和篩選\n",
    "fruits = [\"apple\", \"banana\", \"cherry\", \"kiwi\", \"mango\"]\n",
    "print(f\"\\n水果列表: {fruits}\")\n",
    "\n",
    "# 方法1: 使用 for 循環\n",
    "fruits_with_a = []\n",
    "for fruit in fruits:\n",
    "    if \"a\" in fruit:\n",
    "        fruits_with_a.append(fruit)\n",
    "print(f\"包含字母'a'的水果 (for循環): {fruits_with_a}\")\n",
    "\n",
    "# 方法2: 使用列表推導式 (List Comprehension)\n",
    "fruits_with_a_comp = [fruit for fruit in fruits if \"a\" in fruit]\n",
    "print(f\"包含字母'a'的水果 (列表推導式): {fruits_with_a_comp}\")"
   ]
  },
  {
   "cell_type": "markdown",
   "metadata": {},
   "source": [
    "#### 🏋️ 練習 1: 數據類型篩選"
   ]
  },
  {
   "cell_type": "code",
   "execution_count": null,
   "metadata": {},
   "outputs": [],
   "source": [
    "# 練習1：從混合數據類型列表中篩選字符串\n",
    "mixed_list = [True, \"apple\", 3.0, 4, 'banana', False, \"cherry\", 7.5]\n",
    "print(f\"原始混合列表: {mixed_list}\")\n",
    "\n",
    "# 方法1: 使用 for 循環\n",
    "strings_only = []\n",
    "for item in mixed_list:\n",
    "    if type(item) == str:\n",
    "        strings_only.append(item)\n",
    "print(f\"只包含字符串 (for循環): {strings_only}\")\n",
    "\n",
    "# 方法2: 使用列表推導式\n",
    "strings_only_comp = [item for item in mixed_list if isinstance(item, str)]\n",
    "print(f\"只包含字符串 (列表推導式): {strings_only_comp}\")\n",
    "\n",
    "# 額外示例：篩選不同類型\n",
    "numbers_only = [item for item in mixed_list if isinstance(item, (int, float))]\n",
    "booleans_only = [item for item in mixed_list if isinstance(item, bool)]\n",
    "print(f\"只包含數字: {numbers_only}\")\n",
    "print(f\"只包含布爾值: {booleans_only}\")"
   ]
  },
  {
   "cell_type": "markdown",
   "metadata": {},
   "source": [
    "---\n",
    "\n",
    "### 2.2 Set (集合)\n",
    "\n",
    "**特點:**\n",
    "- ❌ **無序** (Unordered)\n",
    "- ❌ **不可變項目** (Unchangeable items)\n",
    "- ❌ **不可索引** (Unindexed)\n",
    "- ✅ **唯一元素** (Unique items)\n",
    "- ✅ **可添加/刪除項目** (Can add/remove items)"
   ]
  },
  {
   "cell_type": "code",
   "execution_count": null,
   "metadata": {},
   "outputs": [],
   "source": [
    "# 創建集合\n",
    "set1 = {\"apple\", \"banana\", \"cherry\"}\n",
    "set2 = {\"apple\", \"mango\", \"orange\"}\n",
    "\n",
    "print(f\"集合1: {set1}\")\n",
    "print(f\"集合2: {set2}\")\n",
    "print(f\"集合類型: {type(set1)}\")\n",
    "\n",
    "# 展示唯一性\n",
    "duplicate_list = [\"apple\", \"banana\", \"apple\", \"cherry\", \"banana\"]\n",
    "unique_set = set(duplicate_list)\n",
    "print(f\"\\n原始列表 (有重複): {duplicate_list}\")\n",
    "print(f\"轉換為集合 (去重複): {unique_set}\")"
   ]
  },
  {
   "cell_type": "markdown",
   "metadata": {},
   "source": [
    "#### 🧮 集合運算 (Set Operations)"
   ]
  },
  {
   "cell_type": "code",
   "execution_count": null,
   "metadata": {},
   "outputs": [],
   "source": [
    "print(\"=== 集合運算示例 ===\")\n",
    "print(f\"集合1: {set1}\")\n",
    "print(f\"集合2: {set2}\")\n",
    "print()\n",
    "\n",
    "# 1. 聯合 (Union) - 所有元素\n",
    "union_result = set1.union(set2)\n",
    "print(f\"聯合 (Union): {union_result}\")\n",
    "print(f\"使用 | 操作符: {set1 | set2}\")\n",
    "\n",
    "# 2. 交集 (Intersection) - 共同元素\n",
    "intersection_result = set1.intersection(set2)\n",
    "print(f\"交集 (Intersection): {intersection_result}\")\n",
    "print(f\"使用 & 操作符: {set1 & set2}\")\n",
    "\n",
    "# 3. 差集 (Difference) - 在set1但不在set2\n",
    "difference_result = set1.difference(set2)\n",
    "print(f\"差集 (set1 - set2): {difference_result}\")\n",
    "print(f\"使用 - 操作符: {set1 - set2}\")\n",
    "\n",
    "# 4. 對稱差集 (Symmetric Difference) - 在兩個集合中但不在交集中\n",
    "sym_diff_result = set1.symmetric_difference(set2)\n",
    "print(f\"對稱差集 (Symmetric Difference): {sym_diff_result}\")\n",
    "print(f\"使用 ^ 操作符: {set1 ^ set2}\")"
   ]
  },
  {
   "cell_type": "markdown",
   "metadata": {},
   "source": [
    "#### 🛠️ 集合操作方法"
   ]
  },
  {
   "cell_type": "code",
   "execution_count": 3,
   "metadata": {},
   "outputs": [
    {
     "name": "stdout",
     "output_type": "stream",
     "text": [
      "原始集合: {'apple', 'cherry', 'banana'}\n",
      "添加 'orange' 後: {'orange', 'apple', 'cherry', 'banana'}\n",
      "添加多個元素後: {'grape', 'kiwi', 'apple', 'orange', 'cherry', 'banana'}\n",
      "移除 'banana' 後: {'grape', 'kiwi', 'apple', 'orange', 'cherry'}\n",
      "安全移除後: {'grape', 'kiwi', 'apple', 'orange'}\n",
      "'apple' 在集合中嗎？ True\n",
      "'banana' 在集合中嗎？ False\n"
     ]
    }
   ],
   "source": [
    "# 集合修改操作\n",
    "demo_set = {\"apple\", \"banana\", \"cherry\"}\n",
    "print(f\"原始集合: {demo_set}\")\n",
    "\n",
    "# 添加元素\n",
    "demo_set.add(\"orange\")\n",
    "print(f\"添加 'orange' 後: {demo_set}\")\n",
    "\n",
    "# 添加多個元素\n",
    "demo_set.update([\"grape\", \"kiwi\"])\n",
    "print(f\"添加多個元素後: {demo_set}\")\n",
    "\n",
    "# 移除元素\n",
    "demo_set.remove(\"banana\")  # 如果元素不存在會拋出錯誤\n",
    "print(f\"移除 'banana' 後: {demo_set}\")\n",
    "\n",
    "# 安全移除（不會拋出錯誤）\n",
    "demo_set.discard(\"non_existent\")  # 不會報錯\n",
    "demo_set.discard(\"cherry\")\n",
    "print(f\"安全移除後: {demo_set}\")\n",
    "\n",
    "# 檢查成員資格\n",
    "print(f\"'apple' 在集合中嗎？ {'apple' in demo_set}\")\n",
    "print(f\"'banana' 在集合中嗎？ {'banana' in demo_set}\")"
   ]
  },
  {
   "cell_type": "markdown",
   "metadata": {},
   "source": [
    "---\n",
    "\n",
    "### 2.3 NumPy Array (數組)\n",
    "\n",
    "**特點:**\n",
    "- ✅ **同類型數據** (Homogeneous data)\n",
    "- ✅ **高效運算** (Efficient operations)\n",
    "- ✅ **多維支持** (Multi-dimensional)\n",
    "- ✅ **向量化操作** (Vectorized operations)"
   ]
  },
  {
   "cell_type": "code",
   "execution_count": 4,
   "metadata": {},
   "outputs": [
    {
     "name": "stdout",
     "output_type": "stream",
     "text": [
      "NumPy 版本: 1.26.4\n"
     ]
    }
   ],
   "source": [
    "import numpy as np\n",
    "\n",
    "# 檢查 NumPy 版本\n",
    "print(f\"NumPy 版本: {np.__version__}\")"
   ]
  },
  {
   "cell_type": "markdown",
   "metadata": {},
   "source": [
    "#### 📏 一維數組 (1D Arrays)"
   ]
  },
  {
   "cell_type": "code",
   "execution_count": null,
   "metadata": {},
   "outputs": [],
   "source": [
    "# 創建一維數組\n",
    "arr1 = np.array([1, 4, 2, 5, 3])\n",
    "print(f\"一維數組: {arr1}\")\n",
    "print(f\"數組形狀: {arr1.shape}\")\n",
    "print(f\"數組維度: {arr1.ndim}\")\n",
    "print(f\"數組大小: {arr1.size}\")\n",
    "print(f\"數據類型: {arr1.dtype}\")\n",
    "\n",
    "# 數組訪問\n",
    "print(f\"\\n第一個元素: {arr1[0]}\")\n",
    "print(f\"前三個元素: {arr1[:3]}\")\n",
    "print(f\"最後兩個元素: {arr1[-2:]}\")\n",
    "\n",
    "# 創建數組的不同方法\n",
    "print(\"\\n=== 創建數組的方法 ===\")\n",
    "range_array = np.arange(0, 20, 2)  # 範圍數組\n",
    "zeros_array = np.zeros(5)          # 全零數組\n",
    "ones_array = np.ones(5)            # 全一數組\n",
    "linspace_array = np.linspace(0, 10, 5)  # 線性空間\n",
    "\n",
    "print(f\"範圍數組 (0-20, 步長2): {range_array}\")\n",
    "print(f\"全零數組: {zeros_array}\")\n",
    "print(f\"全一數組: {ones_array}\")\n",
    "print(f\"線性空間 (0-10, 5個點): {linspace_array}\")"
   ]
  },
  {
   "cell_type": "code",
   "execution_count": null,
   "metadata": {},
   "outputs": [],
   "source": [
    "# 數據類型轉換示例\n",
    "mixed_data = np.array([3.14, 4, 2, 3, 'string'])\n",
    "print(f\"混合數據自動轉換: {mixed_data}\")\n",
    "print(f\"數據類型: {mixed_data.dtype}\")\n",
    "\n",
    "# 指定數據類型\n",
    "int_array = np.array([3.14, 4.7, 2.9], dtype=int)\n",
    "float_array = np.array([1, 2, 3], dtype=float)\n",
    "print(f\"強制轉換為整數: {int_array}\")\n",
    "print(f\"強制轉換為浮點數: {float_array}\")"
   ]
  },
  {
   "cell_type": "markdown",
   "metadata": {},
   "source": [
    "#### 🏢 二維數組 (2D Arrays)"
   ]
  },
  {
   "cell_type": "code",
   "execution_count": null,
   "metadata": {},
   "outputs": [],
   "source": [
    "# 創建二維數組\n",
    "arr2 = np.array([[1, 2, 3], [2, 3, 4]])\n",
    "print(f\"二維數組:\\n{arr2}\")\n",
    "print(f\"數組形狀: {arr2.shape}\")\n",
    "print(f\"數組維度: {arr2.ndim}\")\n",
    "\n",
    "# 二維數組訪問\n",
    "print(f\"\\n=== 二維數組訪問 ===\")\n",
    "print(f\"第一行: {arr2[0, :]}\")\n",
    "print(f\"第一列: {arr2[:, 0]}\")\n",
    "print(f\"第一行第二列的元素: {arr2[0, 1]}\")\n",
    "print(f\"子矩陣 [前2行, 前2列]:\\n{arr2[:2, :2]}\")\n",
    "\n",
    "# 創建特殊二維數組\n",
    "identity_matrix = np.eye(3)        # 單位矩陣\n",
    "random_matrix = np.random.rand(2, 3)  # 隨機矩陣\n",
    "print(f\"\\n3x3 單位矩陣:\\n{identity_matrix}\")\n",
    "print(f\"\\n2x3 隨機矩陣:\\n{random_matrix}\")"
   ]
  },
  {
   "cell_type": "markdown",
   "metadata": {},
   "source": [
    "#### 🔄 數組重塑 (Array Reshaping)"
   ]
  },
  {
   "cell_type": "code",
   "execution_count": null,
   "metadata": {},
   "outputs": [],
   "source": [
    "# 數組重塑示例\n",
    "arr3 = np.array([3, 6, 5, 1, 4, 2])\n",
    "print(f\"原始一維數組: {arr3}\")\n",
    "print(f\"原始形狀: {arr3.shape}\")\n",
    "\n",
    "# 重塑為2x3矩陣\n",
    "arr3_2x3 = arr3.reshape(2, 3)\n",
    "print(f\"\\n重塑為2x3矩陣:\\n{arr3_2x3}\")\n",
    "\n",
    "# 重塑為3x2矩陣\n",
    "arr3_3x2 = arr3.reshape(3, 2)\n",
    "print(f\"\\n重塑為3x2矩陣:\\n{arr3_3x2}\")\n",
    "\n",
    "# 使用-1自動計算維度\n",
    "arr3_auto = arr3.reshape(-1, 2)  # 自動計算行數\n",
    "print(f\"\\n自動計算行數(-1, 2):\\n{arr3_auto}\")\n",
    "\n",
    "# 展平數組\n",
    "flattened = arr3_2x3.flatten()\n",
    "print(f\"\\n展平數組: {flattened}\")"
   ]
  },
  {
   "cell_type": "markdown",
   "metadata": {},
   "source": [
    "#### ⚡ 數組運算 (Array Operations)"
   ]
  },
  {
   "cell_type": "code",
   "execution_count": null,
   "metadata": {},
   "outputs": [],
   "source": [
    "# 數組運算示例\n",
    "demo_array = np.array([[3, 6, 5], [1, 4, 2]])\n",
    "print(f\"原始數組:\\n{demo_array}\")\n",
    "\n",
    "# 修改單個元素\n",
    "demo_array[0, 1] = 0\n",
    "print(f\"\\n修改元素後:\\n{demo_array}\")\n",
    "\n",
    "# 向量化運算\n",
    "print(f\"\\n=== 向量化運算 ===\")\n",
    "print(f\"數組 / 10:\\n{demo_array / 10}\")\n",
    "print(f\"數組 * 3:\\n{demo_array * 3}\")\n",
    "print(f\"數組 + 5:\\n{demo_array + 5}\")\n",
    "print(f\"數組平方:\\n{demo_array ** 2}\")\n",
    "\n",
    "# 數學函數\n",
    "print(f\"\\n=== 數學函數 ===\")\n",
    "print(f\"平方根:\\n{np.sqrt(demo_array)}\")\n",
    "print(f\"指數函數:\\n{np.exp(demo_array)}\")\n",
    "print(f\"對數函數:\\n{np.log(demo_array + 1)}\")\n",
    "\n",
    "# 統計函數\n",
    "print(f\"\\n=== 統計函數 ===\")\n",
    "print(f\"總和: {np.sum(demo_array)}\")\n",
    "print(f\"平均值: {np.mean(demo_array)}\")\n",
    "print(f\"標準差: {np.std(demo_array)}\")\n",
    "print(f\"最大值: {np.max(demo_array)}\")\n",
    "print(f\"最小值: {np.min(demo_array)}\")\n",
    "print(f\"按行求和: {np.sum(demo_array, axis=1)}\")\n",
    "print(f\"按列求和: {np.sum(demo_array, axis=0)}\")"
   ]
  },
  {
   "cell_type": "markdown",
   "metadata": {},
   "source": [
    "#### 🏋️ 練習 2: NumPy 數組操作"
   ]
  },
  {
   "cell_type": "code",
   "execution_count": null,
   "metadata": {},
   "outputs": [],
   "source": [
    "# 練習2解答\n",
    "\n",
    "# Task 1: 創建一維數組 arr4\n",
    "arr4 = np.arange(5, 101, 5)  # 從5開始，到100結束（包含），步長為5\n",
    "print(f\"Task 1 - arr4: {arr4}\")\n",
    "print(f\"arr4 長度: {len(arr4)}\")\n",
    "\n",
    "# Task 2: 重塑為 5 行 4 列的二維數組\n",
    "arr4_2D = arr4.reshape(5, 4)\n",
    "print(f\"\\nTask 2 - arr4_2D (5x4):\\n{arr4_2D}\")\n",
    "print(f\"形狀: {arr4_2D.shape}\")\n",
    "\n",
    "# Task 3: 每個值乘以3然後減去10\n",
    "result = arr4_2D * 3 - 10\n",
    "print(f\"\\nTask 3 - 最終結果 (每個值*3-10):\\n{result}\")\n",
    "\n",
    "# 驗證計算\n",
    "print(f\"\\n驗證: 第一個元素 5*3-10 = {5*3-10}\")\n",
    "print(f\"驗證: 最後一個元素 100*3-10 = {100*3-10}\")"
   ]
  },
  {
   "cell_type": "markdown",
   "metadata": {},
   "source": [
    "---\n",
    "\n",
    "### 2.4 Dictionary (字典)\n",
    "\n",
    "**特點:**\n",
    "- ✅ **鍵值對存儲** (Key-value pairs)\n",
    "- ✅ **有序** (Ordered, Python 3.7+)\n",
    "- ✅ **可變** (Changeable)\n",
    "- ❌ **鍵不可重複** (No duplicate keys)\n",
    "- ✅ **不同數據類型** (Mixed data types)"
   ]
  },
  {
   "cell_type": "code",
   "execution_count": null,
   "metadata": {},
   "outputs": [],
   "source": [
    "# 創建字典\n",
    "cars = {\n",
    "    \"brand\": \"Ford\",\n",
    "    \"electric\": False,\n",
    "    \"year\": 1964,\n",
    "    \"colors\": [\"red\", \"white\", \"blue\"]\n",
    "}\n",
    "\n",
    "print(f\"汽車字典: {cars}\")\n",
    "print(f\"字典類型: {type(cars)}\")\n",
    "print(f\"字典長度: {len(cars)}\")"
   ]
  },
  {
   "cell_type": "markdown",
   "metadata": {},
   "source": [
    "#### 🔍 字典訪問 (Dictionary Access)"
   ]
  },
  {
   "cell_type": "code",
   "execution_count": null,
   "metadata": {},
   "outputs": [],
   "source": [
    "# 字典訪問方法\n",
    "print(\"=== 字典訪問方法 ===\")\n",
    "\n",
    "# 方法1: 使用方括號\n",
    "print(f\"顏色 (使用 []): {cars['colors']}\")\n",
    "\n",
    "# 方法2: 使用 get() 方法（更安全）\n",
    "print(f\"品牌 (使用 get): {cars.get('brand')}\")\n",
    "print(f\"不存在的鍵 (使用 get): {cars.get('model', '未指定')}\")\n",
    "\n",
    "# 獲取所有鍵、值、項目\n",
    "print(f\"\\n所有鍵: {list(cars.keys())}\")\n",
    "print(f\"所有值: {list(cars.values())}\")\n",
    "print(f\"所有項目: {list(cars.items())}\")\n",
    "\n",
    "# 檢查鍵是否存在\n",
    "print(f\"\\n'brand' 在字典中嗎？ {'brand' in cars}\")\n",
    "print(f\"'model' 在字典中嗎？ {'model' in cars}\")"
   ]
  },
  {
   "cell_type": "markdown",
   "metadata": {},
   "source": [
    "#### ✏️ 字典修改 (Dictionary Modification)"
   ]
  },
  {
   "cell_type": "code",
   "execution_count": null,
   "metadata": {},
   "outputs": [],
   "source": [
    "# 字典修改操作\n",
    "demo_cars = cars.copy()  # 創建副本以保留原始數據\n",
    "print(f\"原始字典: {demo_cars}\")\n",
    "\n",
    "# 1. 修改值\n",
    "demo_cars[\"colors\"] = \"white\"\n",
    "print(f\"\\n修改顏色後: {demo_cars}\")\n",
    "\n",
    "# 2. 添加新鍵值對\n",
    "demo_cars[\"price\"] = 50000\n",
    "demo_cars[\"model\"] = \"Mustang\"\n",
    "print(f\"\\n添加價格和型號後: {demo_cars}\")\n",
    "\n",
    "# 3. 移除鍵值對\n",
    "removed_year = demo_cars.pop(\"year\")\n",
    "print(f\"\\n移除年份 ({removed_year}) 後: {demo_cars}\")\n",
    "\n",
    "# 4. 使用 update() 批量更新\n",
    "updates = {\"electric\": True, \"range\": 300, \"charging_time\": \"30 min\"}\n",
    "demo_cars.update(updates)\n",
    "print(f\"\\n批量更新後: {demo_cars}\")\n",
    "\n",
    "# 5. 其他移除方法\n",
    "demo_cars.popitem()  # 移除最後一個項目\n",
    "print(f\"\\n移除最後一個項目後: {demo_cars}\")"
   ]
  },
  {
   "cell_type": "markdown",
   "metadata": {},
   "source": [
    "#### 🔄 字典循環 (Dictionary Iteration)"
   ]
  },
  {
   "cell_type": "code",
   "execution_count": null,
   "metadata": {},
   "outputs": [],
   "source": [
    "# 字典循環示例\n",
    "student_grades = {\n",
    "    \"Alice\": 95,\n",
    "    \"Bob\": 87,\n",
    "    \"Charlie\": 92,\n",
    "    \"Diana\": 88\n",
    "}\n",
    "\n",
    "print(\"=== 字典循環方法 ===\")\n",
    "\n",
    "# 1. 循環鍵\n",
    "print(\"1. 循環鍵:\")\n",
    "for name in student_grades:\n",
    "    print(f\"  {name}\")\n",
    "\n",
    "# 2. 循環值\n",
    "print(\"\\n2. 循環值:\")\n",
    "for grade in student_grades.values():\n",
    "    print(f\"  {grade}\")\n",
    "\n",
    "# 3. 循環鍵值對\n",
    "print(\"\\n3. 循環鍵值對:\")\n",
    "for name, grade in student_grades.items():\n",
    "    print(f\"  {name}: {grade}\")\n",
    "\n",
    "# 4. 字典推導式\n",
    "high_achievers = {name: grade for name, grade in student_grades.items() if grade >= 90}\n",
    "print(f\"\\n高分學生 (≥90): {high_achievers}\")\n",
    "\n",
    "# 5. 計算統計\n",
    "average_grade = sum(student_grades.values()) / len(student_grades)\n",
    "highest_grade = max(student_grades.values())\n",
    "top_student = max(student_grades, key=student_grades.get)\n",
    "\n",
    "print(f\"\\n=== 成績統計 ===\")\n",
    "print(f\"平均分: {average_grade:.2f}\")\n",
    "print(f\"最高分: {highest_grade}\")\n",
    "print(f\"最佳學生: {top_student}\")"
   ]
  },
  {
   "cell_type": "markdown",
   "metadata": {},
   "source": [
    "#### 📊 嵌套字典 (Nested Dictionaries)"
   ]
  },
  {
   "cell_type": "code",
   "execution_count": null,
   "metadata": {},
   "outputs": [],
   "source": [
    "# 嵌套字典示例 - 學生信息系統\n",
    "students = {\n",
    "    \"Alice\": {\n",
    "        \"age\": 20,\n",
    "        \"major\": \"Computer Science\",\n",
    "        \"grades\": {\"Math\": 95, \"Physics\": 88, \"Programming\": 97},\n",
    "        \"active\": True\n",
    "    },\n",
    "    \"Bob\": {\n",
    "        \"age\": 19,\n",
    "        \"major\": \"Economics\",\n",
    "        \"grades\": {\"Math\": 87, \"Statistics\": 92, \"Economics\": 85},\n",
    "        \"active\": True\n",
    "    },\n",
    "    \"Charlie\": {\n",
    "        \"age\": 21,\n",
    "        \"major\": \"Physics\",\n",
    "        \"grades\": {\"Math\": 92, \"Physics\": 96, \"Chemistry\": 89},\n",
    "        \"active\": False\n",
    "    }\n",
    "}\n",
    "\n",
    "print(\"=== 嵌套字典訪問 ===\")\n",
    "print(f\"Alice 的年齡: {students['Alice']['age']}\")\n",
    "print(f\"Bob 的數學成績: {students['Bob']['grades']['Math']}\")\n",
    "print(f\"Charlie 的專業: {students['Charlie']['major']}\")\n",
    "\n",
    "# 安全訪問嵌套值\n",
    "alice_programming = students.get('Alice', {}).get('grades', {}).get('Programming', '未找到')\n",
    "print(f\"Alice 的程序設計成績: {alice_programming}\")\n",
    "\n",
    "# 遍歷嵌套字典\n",
    "print(\"\\n=== 所有學生信息 ===\")\n",
    "for name, info in students.items():\n",
    "    print(f\"\\n{name}:\")\n",
    "    print(f\"  年齡: {info['age']}\")\n",
    "    print(f\"  專業: {info['major']}\")\n",
    "    print(f\"  狀態: {'活躍' if info['active'] else '非活躍'}\")\n",
    "    print(f\"  成績:\")\n",
    "    for subject, grade in info['grades'].items():\n",
    "        print(f\"    {subject}: {grade}\")\n",
    "    \n",
    "    # 計算平均成績\n",
    "    avg_grade = sum(info['grades'].values()) / len(info['grades'])\n",
    "    print(f\"  平均成績: {avg_grade:.2f}\")"
   ]
  },
  {
   "cell_type": "markdown",
   "metadata": {},
   "source": [
    "#### 📄 JSON 數據處理示例"
   ]
  },
  {
   "cell_type": "code",
   "execution_count": null,
   "metadata": {},
   "outputs": [],
   "source": [
    "import json\n",
    "\n",
    "# 模擬 JSON 數據（通常從文件或 API 獲取）\n",
    "json_string = '''\n",
    "[\n",
    "    {\n",
    "        \"id\": 1,\n",
    "        \"name\": \"Premium Lipstick\",\n",
    "        \"brand\": \"Luxury Beauty\",\n",
    "        \"price\": 45.99,\n",
    "        \"category\": \"makeup\",\n",
    "        \"in_stock\": true,\n",
    "        \"colors\": [\"red\", \"pink\", \"nude\"]\n",
    "    },\n",
    "    {\n",
    "        \"id\": 2,\n",
    "        \"name\": \"Anti-Age Serum\",\n",
    "        \"brand\": \"Skincare Pro\",\n",
    "        \"price\": 89.50,\n",
    "        \"category\": \"skincare\",\n",
    "        \"in_stock\": false,\n",
    "        \"ingredients\": [\"hyaluronic acid\", \"vitamin C\", \"retinol\"]\n",
    "    }\n",
    "]\n",
    "'''\n",
    "\n",
    "# 解析 JSON 數據\n",
    "products = json.loads(json_string)\n",
    "\n",
    "print(f\"=== JSON 數據分析 ===\")\n",
    "print(f\"產品數量: {len(products)}\")\n",
    "print(f\"\\n第一個產品: {products[0]}\")\n",
    "\n",
    "# 處理 JSON 數據\n",
    "print(\"\\n=== 產品詳細信息 ===\")\n",
    "for product in products:\n",
    "    print(f\"\\n產品 ID: {product['id']}\")\n",
    "    print(f\"名稱: {product['name']}\")\n",
    "    print(f\"品牌: {product['brand']}\")\n",
    "    print(f\"價格: ${product['price']}\")\n",
    "    print(f\"類別: {product['category']}\")\n",
    "    print(f\"庫存狀態: {'有貨' if product['in_stock'] else '缺貨'}\")\n",
    "    \n",
    "    # 處理不同的數組字段\n",
    "    if 'colors' in product:\n",
    "        print(f\"可用顏色: {', '.join(product['colors'])}\")\n",
    "    elif 'ingredients' in product:\n",
    "        print(f\"主要成分: {', '.join(product['ingredients'])}\")\n",
    "\n",
    "# 數據篩選示例\n",
    "in_stock_products = [p for p in products if p['in_stock']]\n",
    "expensive_products = [p for p in products if p['price'] > 50]\n",
    "\n",
    "print(f\"\\n=== 數據統計 ===\")\n",
    "print(f\"有庫存的產品: {len(in_stock_products)} 個\")\n",
    "print(f\"價格超過 $50 的產品: {len(expensive_products)} 個\")\n",
    "print(f\"平均價格: ${sum(p['price'] for p in products) / len(products):.2f}\")"
   ]
  },
  {
   "cell_type": "markdown",
   "metadata": {},
   "source": [
    "---\n",
    "\n",
    "## 3. 實用技巧和最佳實踐\n",
    "\n",
    "### 🎯 選擇合適的數據結構"
   ]
  },
  {
   "cell_type": "code",
   "execution_count": null,
   "metadata": {},
   "outputs": [],
   "source": [
    "# 數據結構選擇指南\n",
    "\n",
    "print(\"=== 數據結構選擇指南 ===\")\n",
    "print()\n",
    "print(\"📝 List (列表) - 使用場景:\")\n",
    "print(\"  ✓ 需要保持元素順序\")\n",
    "print(\"  ✓ 允許重複元素\")\n",
    "print(\"  ✓ 需要頻繁修改\")\n",
    "print(\"  ✓ 需要索引訪問\")\n",
    "print(\"  例如: 購物清單、成績列表、任務序列\")\n",
    "\n",
    "print(\"\\n🔷 Set (集合) - 使用場景:\")\n",
    "print(\"  ✓ 需要唯一元素\")\n",
    "print(\"  ✓ 需要快速查找\")\n",
    "print(\"  ✓ 需要集合運算 (交集、聯合等)\")\n",
    "print(\"  例如: 用戶ID、標籤系統、去重操作\")\n",
    "\n",
    "print(\"\\n🔢 NumPy Array (數組) - 使用場景:\")\n",
    "print(\"  ✓ 數值計算\")\n",
    "print(\"  ✓ 同類型數據\")\n",
    "print(\"  ✓ 需要高性能運算\")\n",
    "print(\"  ✓ 多維數據\")\n",
    "print(\"  例如: 科學計算、圖像處理、機器學習\")\n",
    "\n",
    "print(\"\\n📚 Dictionary (字典) - 使用場景:\")\n",
    "print(\"  ✓ 鍵值對關聯\")\n",
    "print(\"  ✓ 快速查找\")\n",
    "print(\"  ✓ 結構化數據\")\n",
    "print(\"  例如: 配置文件、數據庫記錄、JSON數據\")"
   ]
  },
  {
   "cell_type": "markdown",
   "metadata": {},
   "source": [
    "### ⚡ 性能比較示例"
   ]
  },
  {
   "cell_type": "code",
   "execution_count": null,
   "metadata": {},
   "outputs": [],
   "source": [
    "import time\n",
    "\n",
    "# 性能比較示例\n",
    "def performance_comparison():\n",
    "    # 創建測試數據\n",
    "    size = 100000\n",
    "    test_data = list(range(size))\n",
    "    test_set = set(test_data)\n",
    "    test_dict = {i: f\"value_{i}\" for i in test_data}\n",
    "    test_array = np.array(test_data)\n",
    "    \n",
    "    print(f\"=== 性能比較 ({size:,} 個元素) ===\")\n",
    "    \n",
    "    # 查找性能\n",
    "    target = size - 1  # 查找最後一個元素（最壞情況）\n",
    "    \n",
    "    # List 查找\n",
    "    start = time.time()\n",
    "    result = target in test_data\n",
    "    list_time = time.time() - start\n",
    "    \n",
    "    # Set 查找\n",
    "    start = time.time()\n",
    "    result = target in test_set\n",
    "    set_time = time.time() - start\n",
    "    \n",
    "    # Dictionary 查找\n",
    "    start = time.time()\n",
    "    result = target in test_dict\n",
    "    dict_time = time.time() - start\n",
    "    \n",
    "    print(f\"\\n查找性能比較:\")\n",
    "    print(f\"List:  {list_time:.6f} 秒\")\n",
    "    print(f\"Set:   {set_time:.6f} 秒 ({list_time/set_time:.1f}x 快)\")\n",
    "    print(f\"Dict:  {dict_time:.6f} 秒 ({list_time/dict_time:.1f}x 快)\")\n",
    "    \n",
    "    # NumPy 數組運算性能\n",
    "    python_list = list(range(1000000))\n",
    "    numpy_array = np.array(python_list)\n",
    "    \n",
    "    # Python 列表運算\n",
    "    start = time.time()\n",
    "    result_list = [x * 2 for x in python_list]\n",
    "    python_time = time.time() - start\n",
    "    \n",
    "    # NumPy 數組運算\n",
    "    start = time.time()\n",
    "    result_array = numpy_array * 2\n",
    "    numpy_time = time.time() - start\n",
    "    \n",
    "    print(f\"\\n數值運算性能比較 (1,000,000 個元素 * 2):\")\n",
    "    print(f\"Python List: {python_time:.6f} 秒\")\n",
    "    print(f\"NumPy Array: {numpy_time:.6f} 秒 ({python_time/numpy_time:.1f}x 快)\")\n",
    "\n",
    "performance_comparison()"
   ]
  },
  {
   "cell_type": "markdown",
   "metadata": {},
   "source": [
    "### 🔧 實用函數和技巧"
   ]
  },
  {
   "cell_type": "code",
   "execution_count": null,
   "metadata": {},
   "outputs": [],
   "source": [
    "# 實用技巧合集\n",
    "\n",
    "print(\"=== 實用技巧合集 ===\")\n",
    "\n",
    "# 1. 數據類型轉換\n",
    "mixed_data = [1, '2', 3.0, '4', 5]\n",
    "numbers_only = [float(x) for x in mixed_data if str(x).replace('.', '').isdigit()]\n",
    "print(f\"\\n1. 混合數據轉數字: {mixed_data} → {numbers_only}\")\n",
    "\n",
    "# 2. 列表去重但保持順序\n",
    "data_with_duplicates = [1, 3, 2, 3, 1, 4, 2, 5]\n",
    "unique_ordered = list(dict.fromkeys(data_with_duplicates))\n",
    "print(f\"2. 去重保持順序: {data_with_duplicates} → {unique_ordered}\")\n",
    "\n",
    "# 3. 字典反轉（鍵值交換）\n",
    "original_dict = {'a': 1, 'b': 2, 'c': 3}\n",
    "reversed_dict = {v: k for k, v in original_dict.items()}\n",
    "print(f\"3. 字典反轉: {original_dict} → {reversed_dict}\")\n",
    "\n",
    "# 4. 列表分組\n",
    "numbers = [1, 2, 3, 4, 5, 6, 7, 8, 9]\n",
    "chunk_size = 3\n",
    "chunks = [numbers[i:i+chunk_size] for i in range(0, len(numbers), chunk_size)]\n",
    "print(f\"4. 列表分組: {numbers} → {chunks}\")\n",
    "\n",
    "# 5. 統計元素頻率\n",
    "from collections import Counter\n",
    "text = \"hello world\"\n",
    "char_frequency = Counter(text)\n",
    "print(f\"5. 字符頻率: '{text}' → {dict(char_frequency)}\")\n",
    "\n",
    "# 6. 多個列表合併為字典\n",
    "keys = ['name', 'age', 'city']\n",
    "values = ['Alice', 25, 'New York']\n",
    "person = dict(zip(keys, values))\n",
    "print(f\"6. 列表合併為字典: {keys} + {values} → {person}\")\n",
    "\n",
    "# 7. 條件篩選和轉換\n",
    "scores = [85, 92, 78, 96, 88, 73, 91]\n",
    "grades = ['A' if s >= 90 else 'B' if s >= 80 else 'C' for s in scores]\n",
    "print(f\"7. 分數轉等級: {scores} → {grades}\")\n",
    "\n",
    "# 8. 嵌套數據結構展平\n",
    "nested_list = [[1, 2], [3, 4, 5], [6]]\n",
    "flattened = [item for sublist in nested_list for item in sublist]\n",
    "print(f\"8. 嵌套列表展平: {nested_list} → {flattened}\")\n",
    "\n",
    "# 9. 數據驗證\n",
    "def validate_data(data, data_type, constraints=None):\n",
    "    \"\"\"簡單的數據驗證函數\"\"\"\n",
    "    if not isinstance(data, data_type):\n",
    "        return False, f\"期望 {data_type.__name__}，得到 {type(data).__name__}\"\n",
    "    \n",
    "    if constraints:\n",
    "        for constraint, value in constraints.items():\n",
    "            if constraint == 'min_length' and len(data) < value:\n",
    "                return False, f\"長度不能少於 {value}\"\n",
    "            elif constraint == 'max_value' and data > value:\n",
    "                return False, f\"值不能大於 {value}\"\n",
    "    \n",
    "    return True, \"驗證通過\"\n",
    "\n",
    "# 測試數據驗證\n",
    "test_cases = [\n",
    "    (\"hello\", str, {'min_length': 3}),\n",
    "    (100, int, {'max_value': 50}),\n",
    "    ([1, 2, 3], list, {'min_length': 2})\n",
    "]\n",
    "\n",
    "print(f\"\\n9. 數據驗證示例:\")\n",
    "for data, dtype, constraints in test_cases:\n",
    "    valid, message = validate_data(data, dtype, constraints)\n",
    "    print(f\"  {data} ({dtype.__name__}): {message}\")"
   ]
  },
  {
   "cell_type": "markdown",
   "metadata": {},
   "source": [
    "### 📊 總結表格"
   ]
  },
  {
   "cell_type": "code",
   "execution_count": null,
   "metadata": {},
   "outputs": [],
   "source": [
    "import pandas as pd\n",
    "\n",
    "# 創建數據結構比較表\n",
    "comparison_data = {\n",
    "    '數據結構': ['List', 'Set', 'NumPy Array', 'Dictionary'],\n",
    "    '有序': ['✓', '✗', '✓', '✓ (Python 3.7+)'],\n",
    "    '可變': ['✓', '✓*', '✓', '✓'],\n",
    "    '允許重複': ['✓', '✗', '✓', '✗ (鍵)'],\n",
    "    '索引訪問': ['✓', '✗', '✓', '✓ (鍵)'],\n",
    "    '主要用途': ['通用序列', '唯一元素', '數值計算', '鍵值存儲'],\n",
    "    '性能特點': ['查找慢', '查找快', '運算快', '查找快']\n",
    "}\n",
    "\n",
    "try:\n",
    "    df = pd.DataFrame(comparison_data)\n",
    "    print(\"=== 數據結構比較表 ===\")\n",
    "    print(df.to_string(index=False))\n",
    "except ImportError:\n",
    "    print(\"=== 數據結構比較表 ===\")\n",
    "    for key, values in comparison_data.items():\n",
    "        print(f\"{key:12} | {' | '.join(values)}\")\n",
    "\n",
    "print(\"\\n注意: * Set 的項目不可變，但可以添加/刪除項目\")\n",
    "\n",
    "print(\"\\n=== 最佳實踐建議 ===\")\n",
    "print(\"1. 🎯 根據需求選擇合適的數據結構\")\n",
    "print(\"2. 📊 數值計算優先使用 NumPy\")\n",
    "print(\"3. 🔍 需要快速查找時使用 Set 或 Dictionary\")\n",
    "print(\"4. 📝 需要保持順序和索引時使用 List\")\n",
    "print(\"5. ⚡ 注意不同數據結構的性能差異\")\n",
    "print(\"6. 🛡️ 使用 get() 方法安全訪問字典\")\n",
    "print(\"7. 🔧 善用列表推導式和字典推導式\")\n",
    "print(\"8. 📋 複雜數據使用嵌套結構組織\")"
   ]
  },
  {
   "cell_type": "markdown",
   "metadata": {},
   "source": [
    "---\n",
    "\n",
    "## 🎓 學習完成！\n",
    "\n",
    "恭喜你完成了 Python 數據類型和結構的學習！\n",
    "\n",
    "### 📚 你已經掌握了:\n",
    "- ✅ 基本數據類型 (Integer, Float, Boolean, String)\n",
    "- ✅ List 列表的創建、訪問、修改和操作\n",
    "- ✅ Set 集合的特性和集合運算\n",
    "- ✅ NumPy Array 數組的多維操作和向量化運算\n",
    "- ✅ Dictionary 字典的鍵值對管理和 JSON 處理\n",
    "- ✅ 性能比較和最佳實踐\n",
    "\n",
    "### 🔥 下一步學習建議:\n",
    "1. **實踐項目**: 使用這些數據結構完成實際項目\n",
    "2. **進階主題**: 學習 Pandas 數據分析庫\n",
    "3. **演算法**: 了解不同數據結構在演算法中的應用\n",
    "4. **性能優化**: 深入學習 Python 性能優化技巧\n",
    "\n",
    "---\n",
    "*📝 筆記作者: Claude Code*  \n",
    "*📅 創建日期: 2025-09-12*  \n",
    "*🎯 目標: 提供完整且實用的 Python 數據結構學習指南*"
   ]
  }
 ],
 "metadata": {
  "kernelspec": {
   "display_name": "base",
   "language": "python",
   "name": "python3"
  },
  "language_info": {
   "codemirror_mode": {
    "name": "ipython",
    "version": 3
   },
   "file_extension": ".py",
   "mimetype": "text/x-python",
   "name": "python",
   "nbconvert_exporter": "python",
   "pygments_lexer": "ipython3",
   "version": "3.12.2"
  }
 },
 "nbformat": 4,
 "nbformat_minor": 4
}
