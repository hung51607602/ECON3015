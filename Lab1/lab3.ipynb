{
 "cells": [
  {
   "cell_type": "markdown",
   "id": "dda042fd",
   "metadata": {},
   "source": [
    "1: Data type\n",
    "- Number (interger , float)\n",
    "- String\n",
    "- boolean\n",
    "\n",
    "2: list / dictionary"
   ]
  }
 ],
 "metadata": {
  "language_info": {
   "name": "python"
  }
 },
 "nbformat": 4,
 "nbformat_minor": 5
}
