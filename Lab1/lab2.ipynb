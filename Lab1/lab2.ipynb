{
 "cells": [
  {
   "cell_type": "markdown",
   "metadata": {},
   "source": [
    "import numpy as np\n",
    "import pandas as"
   ]
  },
  {
   "cell_type": "code",
   "execution_count": null,
   "metadata": {},
   "outputs": [],
   "source": []
  },
  {
   "cell_type": "code",
   "execution_count": 3,
   "metadata": {},
   "outputs": [],
   "source": [
    "import numpy as np\n",
    "import pandas as pd\n",
    "# from pandas import Series, DataFrame"
   ]
  },
  {
   "cell_type": "markdown",
   "metadata": {},
   "source": [
    "2 Type of data warehorse"
   ]
  },
  {
   "cell_type": "code",
   "execution_count": 6,
   "metadata": {},
   "outputs": [
    {
     "name": "stdout",
     "output_type": "stream",
     "text": [
      "0    4\n",
      "1    7\n",
      "2   -5\n",
      "3    3\n",
      "dtype: int64\n"
     ]
    }
   ],
   "source": [
    "obj = pd.Series([4,7,-5,3])\n",
    "\n",
    "\n",
    "print(obj)"
   ]
  },
  {
   "cell_type": "markdown",
   "metadata": {},
   "source": [
    "將 Series 變成 Array"
   ]
  },
  {
   "cell_type": "code",
   "execution_count": 19,
   "metadata": {},
   "outputs": [
    {
     "name": "stdout",
     "output_type": "stream",
     "text": [
      "<NumpyExtensionArray>\n",
      "[4, 7, -5, 3]\n",
      "Length: 4, dtype: int64\n",
      "\n",
      "================\n",
      "RangeIndex(start=0, stop=4, step=1)\n"
     ]
    }
   ],
   "source": [
    "obj_copy = obj\n",
    "obj_copy\n",
    "obj_copy = obj_copy.array\n",
    "print(obj_copy)\n",
    "\n",
    "print(\"\")\n",
    "print(\"================\")\n",
    "\n",
    "print(obj.index)"
   ]
  },
  {
   "cell_type": "markdown",
   "metadata": {},
   "source": [
    "自定義 index"
   ]
  },
  {
   "cell_type": "markdown",
   "metadata": {},
   "source": []
  },
  {
   "cell_type": "code",
   "execution_count": 39,
   "metadata": {},
   "outputs": [
    {
     "name": "stdout",
     "output_type": "stream",
     "text": [
      "b    4\n",
      "c    7\n",
      "d   -5\n",
      "a    3\n",
      "dtype: int64\n",
      "\n",
      "================\n",
      "\n",
      "Index(['b', 'c', 'd', 'a'], dtype='object')\n",
      "\n",
      "================\n",
      "\n",
      "3\n",
      "123\n",
      "*** 如果你要單獨選某幾幾個 index 要加2個中括號, 可能因為裡面只能放一個東西 ***\n",
      " obj2[ [再來一個list] ]\n",
      "c      7\n",
      "a    123\n",
      "dtype: int64\n"
     ]
    }
   ],
   "source": [
    "obj2 = pd.Series([4, 7,-5, 3], index=[\"b\",\"c\",\"d\",\"a\"])\n",
    "print(obj2)\n",
    "\n",
    "\n",
    "print(\"\")\n",
    "print(\"================\")\n",
    "print(\"\")\n",
    "\n",
    "print(obj2.index)\n",
    "\n",
    "print(\"\")\n",
    "print(\"================\")\n",
    "print(\"\")\n",
    "\n",
    "print(obj2[\"a\"])\n",
    "obj2[\"a\"] = 123\n",
    "print(obj2[\"a\"])\n",
    "\n",
    "# 如果你要單獨選某幾幾個 index 要加2個中括號\n",
    "\n",
    "print(\"*** 如果你要單獨選某幾幾個 index 要加2個中括號, 可能因為裡面只能放一個東西 ***\")\n",
    "print( \" obj2[ [再來一個list] ]\")\n",
    "print(obj2[[\"c\",\"a\"]])\n",
    "\n",
    "\n"
   ]
  },
  {
   "cell_type": "code",
   "execution_count": null,
   "metadata": {},
   "outputs": [],
   "source": []
  }
 ],
 "metadata": {
  "kernelspec": {
   "display_name": "base",
   "language": "python",
   "name": "python3"
  },
  "language_info": {
   "codemirror_mode": {
    "name": "ipython",
    "version": 3
   },
   "file_extension": ".py",
   "mimetype": "text/x-python",
   "name": "python",
   "nbconvert_exporter": "python",
   "pygments_lexer": "ipython3",
   "version": "3.12.2"
  }
 },
 "nbformat": 4,
 "nbformat_minor": 4
}
