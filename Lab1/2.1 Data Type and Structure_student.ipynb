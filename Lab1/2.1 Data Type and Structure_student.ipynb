{
 "cells": [
  {
   "cell_type": "markdown",
   "metadata": {},
   "source": [
    "# 1. Data Types\n",
    "* Integer\n",
    "* Floating number\n",
    "* Boolean\n",
    "* String"
   ]
  },
  {
   "cell_type": "code",
   "execution_count": 2,
   "metadata": {},
   "outputs": [
    {
     "data": {
      "text/plain": [
       "int"
      ]
     },
     "metadata": {},
     "output_type": "display_data"
    },
    {
     "data": {
      "text/plain": [
       "float"
      ]
     },
     "metadata": {},
     "output_type": "display_data"
    },
    {
     "data": {
      "text/plain": [
       "bool"
      ]
     },
     "metadata": {},
     "output_type": "display_data"
    },
    {
     "data": {
      "text/plain": [
       "str"
      ]
     },
     "metadata": {},
     "output_type": "display_data"
    }
   ],
   "source": [
    "x1 = 1\n",
    "x2 = 1.5\n",
    "x3 = True\n",
    "x4 = 'apple'\n",
    "\n",
    "display(type(x1), type(x2), type(x3), type(x4))  # display() print out everything nicely"
   ]
  },
  {
   "cell_type": "markdown",
   "metadata": {},
   "source": [
    "# 2.  Data Structures\n",
    "\n",
    "We will cover the following python data structures. \n",
    "\n",
    "* Sequence - list\n",
    "* Set\n",
    "* Array\n",
    "* Dictionary"
   ]
  },
  {
   "cell_type": "markdown",
   "metadata": {},
   "source": [
    "## 2.1 Sequence - list\n",
    "\n",
    "All sequence data (e.g.,list, range, string) can be looped over. We will cover list here only. \n",
    "\n",
    "- A list is an **ordered** and **changeable** collection of **items**, it contains values of **different types** and **allows duplicate members**."
   ]
  },
  {
   "cell_type": "code",
   "execution_count": 3,
   "metadata": {},
   "outputs": [
    {
     "data": {
      "text/plain": [
       "list"
      ]
     },
     "execution_count": 3,
     "metadata": {},
     "output_type": "execute_result"
    }
   ],
   "source": [
    "lst1 = [True, \"apple\", 3.0, 4, 'apple']    # create a list with different data types\n",
    "\n",
    "type(lst1)"
   ]
  },
  {
   "cell_type": "code",
   "execution_count": 4,
   "metadata": {},
   "outputs": [
    {
     "data": {
      "text/plain": [
       "True"
      ]
     },
     "execution_count": 4,
     "metadata": {},
     "output_type": "execute_result"
    }
   ],
   "source": [
    "lst1[0]         # select a value from a list "
   ]
  },
  {
   "cell_type": "code",
   "execution_count": 5,
   "metadata": {},
   "outputs": [
    {
     "data": {
      "text/plain": [
       "[3.0, 4, 'apple']"
      ]
     },
     "execution_count": 5,
     "metadata": {},
     "output_type": "execute_result"
    }
   ],
   "source": [
    "lst1[2:]        # select a range of values "
   ]
  },
  {
   "cell_type": "code",
   "execution_count": 6,
   "metadata": {},
   "outputs": [
    {
     "data": {
      "text/plain": [
       "2"
      ]
     },
     "execution_count": 6,
     "metadata": {},
     "output_type": "execute_result"
    }
   ],
   "source": [
    "lst1.count('apple')        # count the frequency of a value in a list"
   ]
  },
  {
   "cell_type": "code",
   "execution_count": 7,
   "metadata": {},
   "outputs": [
    {
     "data": {
      "text/plain": [
       "1"
      ]
     },
     "execution_count": 7,
     "metadata": {},
     "output_type": "execute_result"
    }
   ],
   "source": [
    "lst1.index('apple')        # find index of the first occurrence of a value in a list"
   ]
  },
  {
   "cell_type": "markdown",
   "metadata": {},
   "source": [
    "**Modify a list**\n",
    "\n",
    "Note that the original list will be updated after the operation."
   ]
  },
  {
   "cell_type": "code",
   "execution_count": 8,
   "metadata": {},
   "outputs": [
    {
     "data": {
      "text/plain": [
       "[False, 'apple', 3.0, 4, 'apple']"
      ]
     },
     "execution_count": 8,
     "metadata": {},
     "output_type": "execute_result"
    }
   ],
   "source": [
    "lst1[0] = False                  # replace a value using the assignment operator (=)\n",
    "\n",
    "lst1"
   ]
  },
  {
   "cell_type": "code",
   "execution_count": 9,
   "metadata": {},
   "outputs": [
    {
     "data": {
      "text/plain": [
       "[False, 'apple', 'watermelon', 3.0, 4, 'apple']"
      ]
     },
     "execution_count": 9,
     "metadata": {},
     "output_type": "execute_result"
    }
   ],
   "source": [
    "lst1.insert(2, \"watermelon\")    # insert a value in 3rd position\n",
    "\n",
    "lst1"
   ]
  },
  {
   "cell_type": "code",
   "execution_count": 10,
   "metadata": {},
   "outputs": [
    {
     "data": {
      "text/plain": [
       "[False, 'apple', 'watermelon', 3.0, 4, 'apple', 12]"
      ]
     },
     "execution_count": 10,
     "metadata": {},
     "output_type": "execute_result"
    }
   ],
   "source": [
    "lst1.append(12)                 # append a value in the end\n",
    "\n",
    "lst1"
   ]
  },
  {
   "cell_type": "code",
   "execution_count": 11,
   "metadata": {},
   "outputs": [
    {
     "data": {
      "text/plain": [
       "[False, 'apple', 3.0, 4, 'apple', 12]"
      ]
     },
     "execution_count": 11,
     "metadata": {},
     "output_type": "execute_result"
    }
   ],
   "source": [
    "lst1.remove(\"watermelon\")      # remove a value\n",
    "\n",
    "lst1"
   ]
  },
  {
   "cell_type": "markdown",
   "metadata": {},
   "source": [
    "**Sort a list**\n",
    "\n",
    "Again,  the original list will be updated after the operation."
   ]
  },
  {
   "cell_type": "code",
   "execution_count": 12,
   "metadata": {},
   "outputs": [
    {
     "data": {
      "text/plain": [
       "[23, 50, 65, 82, 100]"
      ]
     },
     "execution_count": 12,
     "metadata": {},
     "output_type": "execute_result"
    }
   ],
   "source": [
    "lst2 = [100, 50, 65, 82, 23]\n",
    "lst2.sort()              # sort in ascending order(default)\n",
    "\n",
    "lst2 "
   ]
  },
  {
   "cell_type": "code",
   "execution_count": 13,
   "metadata": {},
   "outputs": [
    {
     "data": {
      "text/plain": [
       "[100, 82, 65, 50, 23]"
      ]
     },
     "execution_count": 13,
     "metadata": {},
     "output_type": "execute_result"
    }
   ],
   "source": [
    "lst2.sort(reverse=True)  # sort in descending order\n",
    "\n",
    "lst2"
   ]
  },
  {
   "cell_type": "markdown",
   "metadata": {},
   "source": [
    "**Join two lists**"
   ]
  },
  {
   "cell_type": "code",
   "execution_count": 14,
   "metadata": {},
   "outputs": [
    {
     "data": {
      "text/plain": [
       "[False, 'apple', 3.0, 4, 'apple', 12, 100, 82, 65, 50, 23]"
      ]
     },
     "execution_count": 14,
     "metadata": {},
     "output_type": "execute_result"
    }
   ],
   "source": [
    "lst1 + lst2   "
   ]
  },
  {
   "cell_type": "markdown",
   "metadata": {},
   "source": [
    "**Loop over a list and list comprehension**\n",
    "\n",
    "Loop through a list named `fruits` and return a new list with values that contains the character ``\"a\"``."
   ]
  },
  {
   "cell_type": "code",
   "execution_count": 15,
   "metadata": {},
   "outputs": [
    {
     "data": {
      "text/plain": [
       "['apple', 'banana', 'cherry', 'kiwi', 'mango']"
      ]
     },
     "execution_count": 15,
     "metadata": {},
     "output_type": "execute_result"
    }
   ],
   "source": [
    "fruits = [\"apple\", \"banana\", \"cherry\", \"kiwi\", \"mango\"]   # create a list named fruits\n",
    "\n",
    "fruits"
   ]
  },
  {
   "cell_type": "code",
   "execution_count": 16,
   "metadata": {},
   "outputs": [
    {
     "data": {
      "text/plain": [
       "['apple', 'banana', 'mango']"
      ]
     },
     "execution_count": 16,
     "metadata": {},
     "output_type": "execute_result"
    }
   ],
   "source": [
    "newlist = []                    # create a empty list to contain new values\n",
    "\n",
    "for x in fruits:                # loop over each value(x) in the list(fruits)  \n",
    "    if \"a\" in x:                # check with membership operator\n",
    "        newlist.append(x)       # if true, append the value in the end of newlist \n",
    "\n",
    "newlist    "
   ]
  },
  {
   "cell_type": "markdown",
   "metadata": {},
   "source": [
    "List comprehension offers a shorter syntax when you want to create a new list based on an existing list."
   ]
  },
  {
   "cell_type": "code",
   "execution_count": 17,
   "metadata": {},
   "outputs": [
    {
     "data": {
      "text/plain": [
       "['apple', 'banana', 'mango']"
      ]
     },
     "execution_count": 17,
     "metadata": {},
     "output_type": "execute_result"
    }
   ],
   "source": [
    "[x for x in fruits if \"a\" in x]   # alternatively, use list comprehension"
   ]
  },
  {
   "cell_type": "markdown",
   "metadata": {},
   "source": [
    "<font color=red>***Exercise 1: Your Codes Here***</font>  \n",
    "\n",
    "\n",
    "Task: loop over every value in ``lst1``, which we created in the 2nd block,  return another list which contains only `str` data, use either for loop or list comprehension.  \n",
    "- *Hints: use ``type()`` to check data type of a variable (e.g., `x`), use ``==`` or ``is`` for comparison, e.g. ``type(x) == str``*"
   ]
  },
  {
   "cell_type": "code",
   "execution_count": 41,
   "metadata": {},
   "outputs": [
    {
     "name": "stdout",
     "output_type": "stream",
     "text": [
      "[False, 'apple', 3.0, 4, 'apple', 12]\n",
      "===========\n",
      "=========== answer below ===========\n"
     ]
    },
    {
     "data": {
      "text/plain": [
       "['apple', 'apple']"
      ]
     },
     "execution_count": 41,
     "metadata": {},
     "output_type": "execute_result"
    }
   ],
   "source": [
    "lst1\n",
    "print(lst1)\n",
    "lst_str =[]\n",
    "\n",
    "print(\"===========\")\n",
    "\n",
    "for x in lst1:\n",
    "    if type(x) is str:\n",
    "        lst_str.append(x)\n",
    "\n",
    "\n",
    "print(\"=========== answer below ===========\")\n",
    "lst_str\n",
    "\n"
   ]
  },
  {
   "cell_type": "markdown",
   "metadata": {},
   "source": [
    "## 2.2 Sets\n",
    "\n",
    "\n",
    "A set is an **unordered**, **unchangeable** , and  **unindexed** collection of **unique items** (can be of different data type).  No duplicate members allowed.\n",
    "\n",
    "- *Note: although set data is unchangeable, we can remove and add items.*"
   ]
  },
  {
   "cell_type": "code",
   "execution_count": 18,
   "metadata": {},
   "outputs": [
    {
     "data": {
      "text/plain": [
       "{'apple', 'banana', 'cherry'}"
      ]
     },
     "execution_count": 18,
     "metadata": {},
     "output_type": "execute_result"
    }
   ],
   "source": [
    "set1 = {\"apple\", \"banana\", \"cherry\"}   # same as set([\"apple\", \"banana\", \"cherry\"]) \n",
    "\n",
    "set1  "
   ]
  },
  {
   "cell_type": "code",
   "execution_count": null,
   "metadata": {},
   "outputs": [
    {
     "ename": "TypeError",
     "evalue": "'set' object is not subscriptable",
     "output_type": "error",
     "traceback": [
      "\u001b[0;31m---------------------------------------------------------------------------\u001b[0m",
      "\u001b[0;31mTypeError\u001b[0m                                 Traceback (most recent call last)",
      "Cell \u001b[0;32mIn[42], line 2\u001b[0m\n\u001b[1;32m      1\u001b[0m \u001b[38;5;66;03m#set1[0]               # error: set is unindexed and unchangeable\u001b[39;00m\n\u001b[0;32m----> 2\u001b[0m set1[\u001b[38;5;241m0\u001b[39m]\n",
      "\u001b[0;31mTypeError\u001b[0m: 'set' object is not subscriptable"
     ]
    }
   ],
   "source": [
    "#set1[0]               # error: set is unindexed and unchangeable\n",
    "# set1[0] will show error as set can not be indexed, set[ x ] is a indexing behaviour\n"
   ]
  },
  {
   "cell_type": "markdown",
   "metadata": {},
   "source": [
    "**Set operations**\n",
    "\n",
    "union, intersection, difference, symmetric difference"
   ]
  },
  {
   "cell_type": "code",
   "execution_count": 20,
   "metadata": {},
   "outputs": [
    {
     "data": {
      "text/plain": [
       "{'apple', 'mango', 'orange'}"
      ]
     },
     "execution_count": 20,
     "metadata": {},
     "output_type": "execute_result"
    }
   ],
   "source": [
    "set2 = {\"apple\", \"mango\" , \"orange\"}   # create a new set\n",
    "\n",
    "set2"
   ]
  },
  {
   "cell_type": "code",
   "execution_count": null,
   "metadata": {},
   "outputs": [
    {
     "data": {
      "text/plain": [
       "{'apple', 'banana', 'cherry', 'mango', 'orange'}"
      ]
     },
     "execution_count": 21,
     "metadata": {},
     "output_type": "execute_result"
    }
   ],
   "source": [
    "# set1 = {\"apple\", \"banana\", \"cherry\"} \n",
    "# set2 = {\"apple\", \"mango\" , \"orange\"}\n",
    "\n",
    "set1.union(set2)                     # join two sets"
   ]
  },
  {
   "cell_type": "code",
   "execution_count": 22,
   "metadata": {},
   "outputs": [
    {
     "data": {
      "text/plain": [
       "{'apple'}"
      ]
     },
     "execution_count": 22,
     "metadata": {},
     "output_type": "execute_result"
    }
   ],
   "source": [
    "set1.intersection(set2)              # return items apeared in both sets"
   ]
  },
  {
   "cell_type": "code",
   "execution_count": 23,
   "metadata": {},
   "outputs": [
    {
     "data": {
      "text/plain": [
       "{'banana', 'cherry'}"
      ]
     },
     "execution_count": 23,
     "metadata": {},
     "output_type": "execute_result"
    }
   ],
   "source": [
    "set1.difference(set2)                # returns items appeared in set1 but not set2 "
   ]
  },
  {
   "cell_type": "code",
   "execution_count": 24,
   "metadata": {},
   "outputs": [
    {
     "data": {
      "text/plain": [
       "{'banana', 'cherry', 'mango', 'orange'}"
      ]
     },
     "execution_count": 24,
     "metadata": {},
     "output_type": "execute_result"
    }
   ],
   "source": [
    "set1.symmetric_difference(set2)      # return items in either set1 or set2 but not both "
   ]
  },
  {
   "cell_type": "markdown",
   "metadata": {},
   "source": [
    "## 2.3 NumPy Arrays\n",
    "\n",
    "To host data values of the **same type**, the built-in ``array`` module (available since Python 3.3) can be used.  A more more useful tool is the ``NumPy`` package (check the [Documentation](https://numpy.org/doc/stable/index.html)).\n",
    "\n",
    "You may need to install the package first:\n",
    "```python\n",
    ">>>pip install numpy\n",
    "```"
   ]
  },
  {
   "cell_type": "markdown",
   "metadata": {},
   "source": [
    "**1D Array**\n",
    "\n",
    "1D array can be looped through as a sequence."
   ]
  },
  {
   "cell_type": "code",
   "execution_count": 25,
   "metadata": {
    "collapsed": false,
    "jupyter": {
     "outputs_hidden": false
    }
   },
   "outputs": [
    {
     "data": {
      "text/plain": [
       "array([1, 4, 2, 5, 3])"
      ]
     },
     "metadata": {},
     "output_type": "display_data"
    },
    {
     "data": {
      "text/plain": [
       "(5,)"
      ]
     },
     "metadata": {},
     "output_type": "display_data"
    }
   ],
   "source": [
    "import numpy as np                      # make sure numpy has been installed first\n",
    "\n",
    "arr1 = np.array([1, 4, 2, 5, 3])        # create an integer array\n",
    "\n",
    "display(arr1, arr1.shape)               # display its values and check its shape"
   ]
  },
  {
   "cell_type": "code",
   "execution_count": 26,
   "metadata": {},
   "outputs": [
    {
     "data": {
      "text/plain": [
       "1"
      ]
     },
     "metadata": {},
     "output_type": "display_data"
    },
    {
     "data": {
      "text/plain": [
       "array([1, 4, 2])"
      ]
     },
     "metadata": {},
     "output_type": "display_data"
    }
   ],
   "source": [
    "display(arr1[0], arr1[:3])              # select a value and a range of values,  from the 1D array"
   ]
  },
  {
   "cell_type": "code",
   "execution_count": 27,
   "metadata": {},
   "outputs": [
    {
     "data": {
      "text/plain": [
       "array([ 0,  2,  4,  6,  8, 10, 12, 14, 16, 18])"
      ]
     },
     "execution_count": 27,
     "metadata": {},
     "output_type": "execute_result"
    }
   ],
   "source": [
    "np.arange(0, 20, 2)                     # create an 1D array with numbers in a range: (start, stop-excluded, stepsize)"
   ]
  },
  {
   "cell_type": "code",
   "execution_count": 28,
   "metadata": {
    "collapsed": false,
    "jupyter": {
     "outputs_hidden": false
    }
   },
   "outputs": [
    {
     "data": {
      "text/plain": [
       "array(['3.14', '4', '2', '3', 'string'], dtype='<U32')"
      ]
     },
     "execution_count": 28,
     "metadata": {},
     "output_type": "execute_result"
    }
   ],
   "source": [
    "np.array([3.14, 4, 2, 3,'string'])     # if data types do not match, NumPy will upcast if possible."
   ]
  },
  {
   "cell_type": "markdown",
   "metadata": {},
   "source": [
    "**2D Array**\n",
    "\n",
    "Arrays can be multi-dimensional, here let's focus on 2D array (matrix) only."
   ]
  },
  {
   "cell_type": "code",
   "execution_count": 29,
   "metadata": {},
   "outputs": [
    {
     "data": {
      "text/plain": [
       "array([[1, 2, 3],\n",
       "       [2, 3, 4]])"
      ]
     },
     "metadata": {},
     "output_type": "display_data"
    },
    {
     "data": {
      "text/plain": [
       "(2, 3)"
      ]
     },
     "metadata": {},
     "output_type": "display_data"
    }
   ],
   "source": [
    "arr2 = np.array([[1,2,3],[2,3,4]])         # create a 2D array (matrix), what's the shape? \n",
    "\n",
    "display(arr2, arr2.shape)"
   ]
  },
  {
   "cell_type": "markdown",
   "metadata": {},
   "source": [
    "Select values in the 1st row, 1st col, and a particular value in row 1 & col 2."
   ]
  },
  {
   "cell_type": "code",
   "execution_count": 30,
   "metadata": {},
   "outputs": [
    {
     "data": {
      "text/plain": [
       "array([1, 2, 3])"
      ]
     },
     "metadata": {},
     "output_type": "display_data"
    },
    {
     "data": {
      "text/plain": [
       "array([1, 2])"
      ]
     },
     "metadata": {},
     "output_type": "display_data"
    },
    {
     "data": {
      "text/plain": [
       "2"
      ]
     },
     "metadata": {},
     "output_type": "display_data"
    }
   ],
   "source": [
    "display(arr2[0,:], arr2[:,0], arr2[0,1])    # arr2[0,:] is same as arr2[0]"
   ]
  },
  {
   "cell_type": "markdown",
   "metadata": {},
   "source": [
    "**Reshape an array**"
   ]
  },
  {
   "cell_type": "code",
   "execution_count": 31,
   "metadata": {},
   "outputs": [
    {
     "data": {
      "text/plain": [
       "array([[3, 6, 5],\n",
       "       [1, 4, 2]])"
      ]
     },
     "metadata": {},
     "output_type": "display_data"
    },
    {
     "data": {
      "text/plain": [
       "(2, 3)"
      ]
     },
     "metadata": {},
     "output_type": "display_data"
    }
   ],
   "source": [
    "arr3 = np.array([3,6,5,1,4,2])      # create a 1D array\n",
    "\n",
    "arr3_2D = arr3.reshape(2,3)         # reshape it as 2D (2 rows, 3 columns)\n",
    "\n",
    "display(arr3_2D, arr3_2D.shape)"
   ]
  },
  {
   "cell_type": "markdown",
   "metadata": {},
   "source": [
    "**Array operations**"
   ]
  },
  {
   "cell_type": "code",
   "execution_count": 32,
   "metadata": {},
   "outputs": [
    {
     "data": {
      "text/plain": [
       "array([[3, 0, 5],\n",
       "       [1, 4, 2]])"
      ]
     },
     "execution_count": 32,
     "metadata": {},
     "output_type": "execute_result"
    }
   ],
   "source": [
    "arr3_2D[0,1] = 0             # modify a particular value \n",
    "\n",
    "arr3_2D"
   ]
  },
  {
   "cell_type": "code",
   "execution_count": 33,
   "metadata": {},
   "outputs": [
    {
     "data": {
      "text/plain": [
       "array([[0.3, 0. , 0.5],\n",
       "       [0.1, 0.4, 0.2]])"
      ]
     },
     "execution_count": 33,
     "metadata": {},
     "output_type": "execute_result"
    }
   ],
   "source": [
    "arr3_2D/10                   # elment-wise computation "
   ]
  },
  {
   "cell_type": "markdown",
   "metadata": {},
   "source": [
    "<font color=red>***Exercise 2: Your Codes Here***</font>  \n",
    "\n",
    "- Task 1: please create an 1D array named ``arr4`` with 20 values starting with 5 and stopping at 100 (inclusive), stepsize at 5.\n",
    "- Task 2: reshape ``arr4`` as 2D ``arr4_2D`` with 5 rows and 4 columns.\n",
    "- Task 3: multiply each value in ``arr4_2D`` by 3 and then minus 10, display the final result."
   ]
  },
  {
   "cell_type": "code",
   "execution_count": 58,
   "metadata": {},
   "outputs": [
    {
     "name": "stdout",
     "output_type": "stream",
     "text": [
      "====== Task 1 =====\n",
      "[  5  10  15  20  25  30  35  40  45  50  55  60  65  70  75  80  85  90\n",
      "  95 100]\n",
      "\n",
      "====== Task 2 =====\n",
      "(20,)\n",
      "[[  5  10  15  20]\n",
      " [ 25  30  35  40]\n",
      " [ 45  50  55  60]\n",
      " [ 65  70  75  80]\n",
      " [ 85  90  95 100]]\n",
      "(5, 4)\n",
      "\n",
      "====== Task 3 =====\n",
      "[[ 0.5  1.   1.5  2. ]\n",
      " [ 2.5  3.   3.5  4. ]\n",
      " [ 4.5  5.   5.5  6. ]\n",
      " [ 6.5  7.   7.5  8. ]\n",
      " [ 8.5  9.   9.5 10. ]]\n"
     ]
    }
   ],
   "source": [
    "print(\"====== Task 1 =====\")\n",
    "arr4 = np.arange(5,105,5)\n",
    "print(arr4)\n",
    "\n",
    "print(\"\")\n",
    "print(\"====== Task 2 =====\")\n",
    "print(arr4.shape)\n",
    "arr4_2D = arr4.reshape(5,4)\n",
    "print(arr4_2D)\n",
    "print(arr4_2D.shape)\n",
    "\n",
    "print(\"\")\n",
    "print(\"====== Task 3 =====\")\n",
    "print(arr4_2D /10)\n",
    "\n",
    "\n",
    "\n"
   ]
  },
  {
   "cell_type": "markdown",
   "metadata": {},
   "source": [
    "## 2.4 Dictionary"
   ]
  },
  {
   "cell_type": "markdown",
   "metadata": {},
   "source": [
    "Dictionaries hold data in (key, value) pairs, each can be in different data type and length."
   ]
  },
  {
   "cell_type": "code",
   "execution_count": 34,
   "metadata": {},
   "outputs": [
    {
     "data": {
      "text/plain": [
       "{'brand': 'Ford',\n",
       " 'electric': False,\n",
       " 'year': 1964,\n",
       " 'colors': ['red', 'white', 'blue']}"
      ]
     },
     "execution_count": 34,
     "metadata": {},
     "output_type": "execute_result"
    }
   ],
   "source": [
    "cars = {\"brand\": \"Ford\",\n",
    "        \"electric\": False,\n",
    "        \"year\": 1964,\n",
    "        \"colors\": [\"red\", \"white\", \"blue\"]}\n",
    "\n",
    "cars"
   ]
  },
  {
   "cell_type": "code",
   "execution_count": 35,
   "metadata": {},
   "outputs": [
    {
     "data": {
      "text/plain": [
       "['red', 'white', 'blue']"
      ]
     },
     "execution_count": 35,
     "metadata": {},
     "output_type": "execute_result"
    }
   ],
   "source": [
    "cars[\"colors\"]             # index values using their key, same as cars.get(\"colors\")"
   ]
  },
  {
   "cell_type": "code",
   "execution_count": 36,
   "metadata": {},
   "outputs": [
    {
     "data": {
      "text/plain": [
       "{'brand': 'Ford', 'electric': False, 'year': 1964, 'colors': 'white'}"
      ]
     },
     "execution_count": 36,
     "metadata": {},
     "output_type": "execute_result"
    }
   ],
   "source": [
    "cars[\"colors\"] = \"white\"   # modify values with its key\n",
    "cars"
   ]
  },
  {
   "cell_type": "code",
   "execution_count": 37,
   "metadata": {},
   "outputs": [
    {
     "data": {
      "text/plain": [
       "{'brand': 'Ford',\n",
       " 'electric': False,\n",
       " 'year': 1964,\n",
       " 'colors': 'white',\n",
       " 'price': 50000}"
      ]
     },
     "execution_count": 37,
     "metadata": {},
     "output_type": "execute_result"
    }
   ],
   "source": [
    "cars[\"price\"] = 50000     # add an key-value pair \n",
    "cars "
   ]
  },
  {
   "cell_type": "code",
   "execution_count": 38,
   "metadata": {},
   "outputs": [
    {
     "data": {
      "text/plain": [
       "{'brand': 'Ford', 'electric': False, 'colors': 'white', 'price': 50000}"
      ]
     },
     "execution_count": 38,
     "metadata": {},
     "output_type": "execute_result"
    }
   ],
   "source": [
    "cars.pop(\"year\")         # remove a key-value pair\n",
    "cars"
   ]
  },
  {
   "cell_type": "markdown",
   "metadata": {},
   "source": [
    "**Useful Notes for Group Project**\n",
    "\n",
    "JSON data is organized in key-value pairs (i.e., objects) and ordered lists of values (i.e., arrays).\n",
    "\n",
    "- Objects: Represented by curly braces {}, objects contain key-value pairs (i.e., dictionary data).\n",
    "- Arrays: Represented by square brackets [], arrays contain ordered lists of values (i.e., objects) separated by commas.\n",
    "\n",
    "The following codes display how to read the `luxury_cosmetics_popups.json` file (one of project data).\n",
    "```python\n",
    "import json\n",
    "\n",
    "# Open and read the JSON file (make sure the file in the folder where this notebook is located)\n",
    "with open('luxury_cosmetics_popups.json', 'r') as file:\n",
    "    data = json.load(file)\n",
    "\n",
    "# Display the number of objects and the first object \n",
    "display(len(data), data[0])\n",
    "```"
   ]
  }
 ],
 "metadata": {
  "anaconda-cloud": {},
  "jupytext": {
   "formats": "ipynb,md"
  },
  "kernelspec": {
   "display_name": "base",
   "language": "python",
   "name": "python3"
  },
  "language_info": {
   "codemirror_mode": {
    "name": "ipython",
    "version": 3
   },
   "file_extension": ".py",
   "mimetype": "text/x-python",
   "name": "python",
   "nbconvert_exporter": "python",
   "pygments_lexer": "ipython3",
   "version": "3.12.2"
  }
 },
 "nbformat": 4,
 "nbformat_minor": 4
}
