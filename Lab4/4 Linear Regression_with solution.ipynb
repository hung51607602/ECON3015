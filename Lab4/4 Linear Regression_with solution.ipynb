{
 "cells": [
  {
   "cell_type": "code",
   "execution_count": 1,
   "id": "5df6396a",
   "metadata": {},
   "outputs": [],
   "source": [
    "import numpy as np\n",
    "import pandas as pd\n",
    "import matplotlib.pyplot as plt\n",
    "\n",
    "from sklearn.linear_model import LinearRegression\n",
    "from sklearn.model_selection import train_test_split\n",
    "from sklearn.preprocessing import MinMaxScaler\n",
    "from sklearn.preprocessing import PolynomialFeatures\n",
    "from sklearn.metrics import mean_squared_error, r2_score"
   ]
  },
  {
   "cell_type": "markdown",
   "id": "b82f321f",
   "metadata": {},
   "source": [
    "\n",
    "While both ``scikit-learn`` and ``statsmodels``packages can train linear models, they differ in several ways and serve different purposes. In general, ``scikit-learn`` is designed for prediction, while ``statsmodels``  is more suitable for explanatory/inferential analysis.  We use ``scikit-learn`` for machine learning.\n",
    "\n",
    "- Check the [documentation](https://scikit-learn.org/stable/modules/generated/sklearn.linear_model.LinearRegression.html) to learn more details about ``LinearRegression`` function from ``scikit-learn`` package."
   ]
  },
  {
   "cell_type": "markdown",
   "id": "12969b2f-ad03-40ac-8070-258bb4a5b916",
   "metadata": {},
   "source": [
    "# 1. Simple and Multiple Linear Regression"
   ]
  },
  {
   "cell_type": "markdown",
   "id": "4e8697c5-b066-4731-8f7e-a31c9418cd24",
   "metadata": {},
   "source": [
    "## 1.1 Data Preparation"
   ]
  },
  {
   "cell_type": "code",
   "execution_count": 2,
   "id": "317e34a7",
   "metadata": {},
   "outputs": [
    {
     "data": {
      "text/html": [
       "<div>\n",
       "<style scoped>\n",
       "    .dataframe tbody tr th:only-of-type {\n",
       "        vertical-align: middle;\n",
       "    }\n",
       "\n",
       "    .dataframe tbody tr th {\n",
       "        vertical-align: top;\n",
       "    }\n",
       "\n",
       "    .dataframe thead th {\n",
       "        text-align: right;\n",
       "    }\n",
       "</style>\n",
       "<table border=\"1\" class=\"dataframe\">\n",
       "  <thead>\n",
       "    <tr style=\"text-align: right;\">\n",
       "      <th></th>\n",
       "      <th>TV</th>\n",
       "      <th>Radio</th>\n",
       "      <th>Newspaper</th>\n",
       "      <th>Sales</th>\n",
       "    </tr>\n",
       "  </thead>\n",
       "  <tbody>\n",
       "    <tr>\n",
       "      <th>count</th>\n",
       "      <td>200.000000</td>\n",
       "      <td>200.000000</td>\n",
       "      <td>200.000000</td>\n",
       "      <td>200.000000</td>\n",
       "    </tr>\n",
       "    <tr>\n",
       "      <th>mean</th>\n",
       "      <td>147.042500</td>\n",
       "      <td>23.264000</td>\n",
       "      <td>30.554000</td>\n",
       "      <td>14.022500</td>\n",
       "    </tr>\n",
       "    <tr>\n",
       "      <th>std</th>\n",
       "      <td>85.854236</td>\n",
       "      <td>14.846809</td>\n",
       "      <td>21.778621</td>\n",
       "      <td>5.217457</td>\n",
       "    </tr>\n",
       "    <tr>\n",
       "      <th>min</th>\n",
       "      <td>0.700000</td>\n",
       "      <td>0.000000</td>\n",
       "      <td>0.300000</td>\n",
       "      <td>1.600000</td>\n",
       "    </tr>\n",
       "    <tr>\n",
       "      <th>25%</th>\n",
       "      <td>74.375000</td>\n",
       "      <td>9.975000</td>\n",
       "      <td>12.750000</td>\n",
       "      <td>10.375000</td>\n",
       "    </tr>\n",
       "    <tr>\n",
       "      <th>50%</th>\n",
       "      <td>149.750000</td>\n",
       "      <td>22.900000</td>\n",
       "      <td>25.750000</td>\n",
       "      <td>12.900000</td>\n",
       "    </tr>\n",
       "    <tr>\n",
       "      <th>75%</th>\n",
       "      <td>218.825000</td>\n",
       "      <td>36.525000</td>\n",
       "      <td>45.100000</td>\n",
       "      <td>17.400000</td>\n",
       "    </tr>\n",
       "    <tr>\n",
       "      <th>max</th>\n",
       "      <td>296.400000</td>\n",
       "      <td>49.600000</td>\n",
       "      <td>114.000000</td>\n",
       "      <td>27.000000</td>\n",
       "    </tr>\n",
       "  </tbody>\n",
       "</table>\n",
       "</div>"
      ],
      "text/plain": [
       "               TV       Radio   Newspaper       Sales\n",
       "count  200.000000  200.000000  200.000000  200.000000\n",
       "mean   147.042500   23.264000   30.554000   14.022500\n",
       "std     85.854236   14.846809   21.778621    5.217457\n",
       "min      0.700000    0.000000    0.300000    1.600000\n",
       "25%     74.375000    9.975000   12.750000   10.375000\n",
       "50%    149.750000   22.900000   25.750000   12.900000\n",
       "75%    218.825000   36.525000   45.100000   17.400000\n",
       "max    296.400000   49.600000  114.000000   27.000000"
      ]
     },
     "execution_count": 2,
     "metadata": {},
     "output_type": "execute_result"
    }
   ],
   "source": [
    "ads = pd.read_csv('advertising.csv')    # you may need to modify the path \n",
    "\n",
    "ads.describe()                          # statistical summary of all numerical variables, any features need scaling? "
   ]
  },
  {
   "cell_type": "markdown",
   "id": "d1a069f1",
   "metadata": {},
   "source": [
    "### 1.1(a) Split the Data  \n",
    "\n",
    "Let's split the data into train and test sets. \n"
   ]
  },
  {
   "cell_type": "code",
   "execution_count": 3,
   "id": "16588e46",
   "metadata": {},
   "outputs": [
    {
     "data": {
      "text/plain": [
       "(160, 3)"
      ]
     },
     "metadata": {},
     "output_type": "display_data"
    },
    {
     "data": {
      "text/plain": [
       "(40, 3)"
      ]
     },
     "metadata": {},
     "output_type": "display_data"
    },
    {
     "data": {
      "text/plain": [
       "(160,)"
      ]
     },
     "metadata": {},
     "output_type": "display_data"
    },
    {
     "data": {
      "text/plain": [
       "(40,)"
      ]
     },
     "metadata": {},
     "output_type": "display_data"
    }
   ],
   "source": [
    "X = ads.drop(columns = 'Sales')      # features in 2D\n",
    "\n",
    "y = ads['Sales']                     # target in 1D\n",
    "\n",
    "X_train, X_test, y_train, y_test = train_test_split(X, y, test_size = 0.2, random_state=0)       # split data into train & test\n",
    "\n",
    "display(X_train.shape, X_test.shape, y_train.shape, y_test.shape)"
   ]
  },
  {
   "cell_type": "markdown",
   "id": "c8d84115",
   "metadata": {},
   "source": [
    "### 1.1(b) Scale the features \n",
    "\n",
    "Fit the scaler with the training set, then apply the trained scaler to transform the training and test sets later.\n",
    "\n",
    "- **Never** fit the scaler to test data: referencing the test data in model training can lead to **data leakage**. "
   ]
  },
  {
   "cell_type": "code",
   "execution_count": 4,
   "id": "6e589604",
   "metadata": {},
   "outputs": [],
   "source": [
    "scaler = MinMaxScaler()          # define a scaler \n",
    "\n",
    "scaler.fit(X_train)              # fit the scaler to train set\n",
    "\n",
    "X_train_scaled = scaler.transform(X_train)   # apply the scaler to transform the train set\n",
    "\n",
    "X_test_scaled  = scaler.transform(X_test)    # apply the scaler to transform the test set"
   ]
  },
  {
   "cell_type": "markdown",
   "id": "44d2c1cd",
   "metadata": {},
   "source": [
    "Alternatively, we can combine both the ``train`` and ``transform`` step on the train set with below codes: \n",
    "```python\n",
    "scaler = MinMaxScaler()\n",
    "X_train_scaled = scaler.fit_transform(X_train)   # scaler fitting and transformation on train set in one-go\n",
    "X_test_scaled  = scaler.transform(X_test)        # apply the scaler to tranform test set only\n",
    "```"
   ]
  },
  {
   "cell_type": "markdown",
   "id": "7427d2aa",
   "metadata": {},
   "source": [
    "Both **X_train_scaled** and **X_test_scaled** are 2D arrays without column names, let's add column names back for easier demonstration."
   ]
  },
  {
   "cell_type": "code",
   "execution_count": 5,
   "id": "bd084978",
   "metadata": {},
   "outputs": [
    {
     "data": {
      "text/html": [
       "<div>\n",
       "<style scoped>\n",
       "    .dataframe tbody tr th:only-of-type {\n",
       "        vertical-align: middle;\n",
       "    }\n",
       "\n",
       "    .dataframe tbody tr th {\n",
       "        vertical-align: top;\n",
       "    }\n",
       "\n",
       "    .dataframe thead th {\n",
       "        text-align: right;\n",
       "    }\n",
       "</style>\n",
       "<table border=\"1\" class=\"dataframe\">\n",
       "  <thead>\n",
       "    <tr style=\"text-align: right;\">\n",
       "      <th></th>\n",
       "      <th>TV</th>\n",
       "      <th>Radio</th>\n",
       "      <th>Newspaper</th>\n",
       "    </tr>\n",
       "  </thead>\n",
       "  <tbody>\n",
       "    <tr>\n",
       "      <th>count</th>\n",
       "      <td>160.000000</td>\n",
       "      <td>160.000000</td>\n",
       "      <td>160.000000</td>\n",
       "    </tr>\n",
       "    <tr>\n",
       "      <th>mean</th>\n",
       "      <td>0.500917</td>\n",
       "      <td>0.471535</td>\n",
       "      <td>0.292256</td>\n",
       "    </tr>\n",
       "    <tr>\n",
       "      <th>std</th>\n",
       "      <td>0.290651</td>\n",
       "      <td>0.297102</td>\n",
       "      <td>0.214448</td>\n",
       "    </tr>\n",
       "    <tr>\n",
       "      <th>min</th>\n",
       "      <td>0.000000</td>\n",
       "      <td>0.000000</td>\n",
       "      <td>0.000000</td>\n",
       "    </tr>\n",
       "    <tr>\n",
       "      <th>25%</th>\n",
       "      <td>0.247263</td>\n",
       "      <td>0.192036</td>\n",
       "      <td>0.107750</td>\n",
       "    </tr>\n",
       "    <tr>\n",
       "      <th>50%</th>\n",
       "      <td>0.524461</td>\n",
       "      <td>0.489919</td>\n",
       "      <td>0.250000</td>\n",
       "    </tr>\n",
       "    <tr>\n",
       "      <th>75%</th>\n",
       "      <td>0.739822</td>\n",
       "      <td>0.732863</td>\n",
       "      <td>0.442000</td>\n",
       "    </tr>\n",
       "    <tr>\n",
       "      <th>max</th>\n",
       "      <td>1.000000</td>\n",
       "      <td>1.000000</td>\n",
       "      <td>1.000000</td>\n",
       "    </tr>\n",
       "  </tbody>\n",
       "</table>\n",
       "</div>"
      ],
      "text/plain": [
       "               TV       Radio   Newspaper\n",
       "count  160.000000  160.000000  160.000000\n",
       "mean     0.500917    0.471535    0.292256\n",
       "std      0.290651    0.297102    0.214448\n",
       "min      0.000000    0.000000    0.000000\n",
       "25%      0.247263    0.192036    0.107750\n",
       "50%      0.524461    0.489919    0.250000\n",
       "75%      0.739822    0.732863    0.442000\n",
       "max      1.000000    1.000000    1.000000"
      ]
     },
     "metadata": {},
     "output_type": "display_data"
    },
    {
     "data": {
      "text/html": [
       "<div>\n",
       "<style scoped>\n",
       "    .dataframe tbody tr th:only-of-type {\n",
       "        vertical-align: middle;\n",
       "    }\n",
       "\n",
       "    .dataframe tbody tr th {\n",
       "        vertical-align: top;\n",
       "    }\n",
       "\n",
       "    .dataframe thead th {\n",
       "        text-align: right;\n",
       "    }\n",
       "</style>\n",
       "<table border=\"1\" class=\"dataframe\">\n",
       "  <thead>\n",
       "    <tr style=\"text-align: right;\">\n",
       "      <th></th>\n",
       "      <th>TV</th>\n",
       "      <th>Radio</th>\n",
       "      <th>Newspaper</th>\n",
       "    </tr>\n",
       "  </thead>\n",
       "  <tbody>\n",
       "    <tr>\n",
       "      <th>count</th>\n",
       "      <td>40.000000</td>\n",
       "      <td>40.000000</td>\n",
       "      <td>40.000000</td>\n",
       "    </tr>\n",
       "    <tr>\n",
       "      <th>mean</th>\n",
       "      <td>0.441464</td>\n",
       "      <td>0.459022</td>\n",
       "      <td>0.313675</td>\n",
       "    </tr>\n",
       "    <tr>\n",
       "      <th>std</th>\n",
       "      <td>0.304784</td>\n",
       "      <td>0.311751</td>\n",
       "      <td>0.232708</td>\n",
       "    </tr>\n",
       "    <tr>\n",
       "      <th>min</th>\n",
       "      <td>-0.011632</td>\n",
       "      <td>0.006048</td>\n",
       "      <td>-0.006000</td>\n",
       "    </tr>\n",
       "    <tr>\n",
       "      <th>25%</th>\n",
       "      <td>0.186965</td>\n",
       "      <td>0.220766</td>\n",
       "      <td>0.143500</td>\n",
       "    </tr>\n",
       "    <tr>\n",
       "      <th>50%</th>\n",
       "      <td>0.421827</td>\n",
       "      <td>0.408266</td>\n",
       "      <td>0.237500</td>\n",
       "    </tr>\n",
       "    <tr>\n",
       "      <th>75%</th>\n",
       "      <td>0.671656</td>\n",
       "      <td>0.744960</td>\n",
       "      <td>0.430000</td>\n",
       "    </tr>\n",
       "    <tr>\n",
       "      <th>max</th>\n",
       "      <td>0.977078</td>\n",
       "      <td>0.995968</td>\n",
       "      <td>1.131000</td>\n",
       "    </tr>\n",
       "  </tbody>\n",
       "</table>\n",
       "</div>"
      ],
      "text/plain": [
       "              TV      Radio  Newspaper\n",
       "count  40.000000  40.000000  40.000000\n",
       "mean    0.441464   0.459022   0.313675\n",
       "std     0.304784   0.311751   0.232708\n",
       "min    -0.011632   0.006048  -0.006000\n",
       "25%     0.186965   0.220766   0.143500\n",
       "50%     0.421827   0.408266   0.237500\n",
       "75%     0.671656   0.744960   0.430000\n",
       "max     0.977078   0.995968   1.131000"
      ]
     },
     "metadata": {},
     "output_type": "display_data"
    }
   ],
   "source": [
    "X_train_scaled = pd.DataFrame(X_train_scaled, columns = X_train.columns)\n",
    "\n",
    "X_test_scaled = pd.DataFrame(X_test_scaled, columns = X_test.columns)\n",
    "\n",
    "display(X_train_scaled.describe(), X_test_scaled.describe())  # note the max of test features is NOT 0"
   ]
  },
  {
   "cell_type": "markdown",
   "id": "913647a7",
   "metadata": {},
   "source": [
    "## 1.2 Simple Linear Regression\n",
    "\n",
    "### 1.2(a) Modeling\n",
    "\n",
    "Let's train a linear regression model **lm1** to predict **Sales**  with **TV** advertising expenditure.\n",
    "\n",
    "- Make sure the features (even there is only one here) are in a 2D data frame/array."
   ]
  },
  {
   "cell_type": "code",
   "execution_count": 6,
   "id": "5aabbfd6",
   "metadata": {},
   "outputs": [
    {
     "name": "stdout",
     "output_type": "stream",
     "text": [
      "lm1 intercept(w0):  7.48112571093173\n",
      "lm1 coefficients (w1):  [13.4480769]\n",
      "lm1 features:  ['TV']\n"
     ]
    }
   ],
   "source": [
    "lm1 = LinearRegression()                 # define a model\n",
    "\n",
    "lm1.fit(X_train_scaled[['TV']], y_train)  # return a fitted model\n",
    "\n",
    "#lm1 = LinearRegression().fit(X_train_scaled[['TV']], y_train)      # alternatively, combine the above two steps\n",
    "\n",
    "print(\"lm1 intercept(w0): \", lm1.intercept_)  \n",
    "print(\"lm1 coefficients (w1): \", lm1.coef_)   \n",
    "print(\"lm1 features: \", lm1.feature_names_in_)              # feature names seen in model fitting"
   ]
  },
  {
   "cell_type": "markdown",
   "id": "f4fe0626",
   "metadata": {},
   "source": [
    "### 1.2(b) Model Application and Evaluation\n",
    "\n",
    "**Prediction and Evaluation on Train Set** \n",
    "\n",
    "Predict the sales values for each market according to their TV ads expenditure."
   ]
  },
  {
   "cell_type": "code",
   "execution_count": 7,
   "id": "0ae98529",
   "metadata": {},
   "outputs": [
    {
     "data": {
      "text/plain": [
       "array([ 8.99018121,  8.74173915, 13.86700691, 16.93572647, 17.20257165,\n",
       "       12.01749377,  7.68816076,  8.07002542, 13.07567293, 12.10490857,\n",
       "       12.34414907, 17.85128149, 18.96927077, 15.79933407,  9.34904197,\n",
       "       10.15877907, 20.76817535, 15.22883748, 16.60907117,  7.62835064,\n",
       "       19.49375958, 16.383633  , 17.3451958 , 14.06944118, 15.17362813,\n",
       "       17.30838957, 19.3787401 , 14.81476737, 11.91167585, 10.80288812,\n",
       "       15.79933407, 13.47133992, 19.88482579, 20.92920261, 11.71844313,\n",
       "       12.34414907, 19.04288324, 16.68268363, 18.33896406, 16.20420262,\n",
       "       16.08458237, 11.4193925 ,  9.27082873,  9.04999134,  7.89519582,\n",
       "       18.30215783,  8.08382775, 16.98633504,  8.47029319, 15.43587253,\n",
       "       16.81150544, 10.33360867, 14.17985988, 13.24590175, 11.62642755,\n",
       "       20.02284916, 20.03205071,  7.65135453, 18.83584818, 15.37606241,\n",
       "        7.83078491, 10.76608189, 16.48485014, 17.87888616, 12.23373038,\n",
       "       17.68105267, 14.80556582, 13.32411499, 16.80690466, 15.43587253,\n",
       "       17.26698256, 10.3704149 , 17.74546357, 16.18119872, 11.77825326,\n",
       "       11.23536134, 17.79607214, 13.71058042,  9.51467001, 17.34059502,\n",
       "       16.28241586,  7.54093584, 18.25154926, 17.24857944, 17.52462618,\n",
       "        8.55770799, 14.2626739 , 13.69677809, 12.68460672, 20.3403029 ,\n",
       "        9.93794168, 18.21474303, 17.11515685,  8.15744022,  7.48112571,\n",
       "       14.86077516, 11.61262522,  8.60831656, 17.97090174, 17.1703662 ,\n",
       "        8.18504489, 20.18387642, 20.66695821, 13.55875472, 10.46703126,\n",
       "        9.33984041, 13.79339444, 15.96036133, 20.8003808 , 13.63696796,\n",
       "        7.67895921, 15.04020554, 20.23908577,  9.27542951, 17.40500593,\n",
       "       15.69351616, 14.18446066, 17.42800982, 11.69543924, 18.73923183,\n",
       "       10.89030292, 12.85943632, 12.48677322,  8.11603321, 10.9823185 ,\n",
       "       18.72082871, 11.76445092, 17.43721138, 20.37250836, 18.48158821,\n",
       "       10.54064372, 13.51274693, 10.75688033, 12.62939737, 10.74767877,\n",
       "        9.04078978, 14.96659308,  8.52550253, 12.83643242, 19.38794166,\n",
       "       18.08132044, 18.32516172, 20.4507216 , 17.52462618,  9.10980146,\n",
       "       17.7822698 , 16.99093582, 10.66946553, 11.3549816 , 16.45264468,\n",
       "       12.38555608, 19.57197282, 18.21474303, 16.48485014, 15.93735744,\n",
       "       13.70137887,  8.08382775, 10.8074889 , 18.3297625 ,  8.19424645])"
      ]
     },
     "execution_count": 7,
     "metadata": {},
     "output_type": "execute_result"
    }
   ],
   "source": [
    "train_pred1 = lm1.predict(X_train_scaled[['TV']])    # Note feature data should always in 2D\n",
    "\n",
    "train_pred1     "
   ]
  },
  {
   "cell_type": "markdown",
   "id": "efea2f50",
   "metadata": {},
   "source": [
    "Regression models are evaluated in terms of R2 and Mean Squared Error.   \n",
    "\n",
    "- **String Formating**: Here we format numeric outputs with the `format` method of strings (check [documentation](https://docs.python.org/3/library/stdtypes.html#str.format)).  The method places numbers in specific positions of the string and format them according to the format specifier within the place holder `{}`.   \n"
   ]
  },
  {
   "cell_type": "code",
   "execution_count": 8,
   "id": "44dcb825",
   "metadata": {},
   "outputs": [
    {
     "name": "stdout",
     "output_type": "stream",
     "text": [
      "lm1 Train MSE: 10.62\n",
      "lm1 Train R2: 58.85%\n"
     ]
    }
   ],
   "source": [
    "mse_train = mean_squared_error(y_train, train_pred1)  \n",
    "\n",
    "r2_train = r2_score(y_train, train_pred1)              # r2_train = lm1.score(X_train_scaled[['TV']], y_train)\n",
    "\n",
    "print(\"lm1 Train MSE: {:.2f}\".format(mse_train))       # round to 2 decimal places, display as floating number\n",
    "print(\"lm1 Train R2: {:.2%}\".format(r2_train))         # round to 2 decimal places, display as percentage "
   ]
  },
  {
   "cell_type": "markdown",
   "id": "3ad409ef",
   "metadata": {},
   "source": [
    "**Prediction and Evaluation on Test Set**\n",
    "\n",
    "Check R2 and Mean Squared Error on the test set. \n",
    "\n",
    "- Make sure we transform test features before apply the model for prediction. We already transformed **X_test** into **X_test_scaled**  earlier.  "
   ]
  },
  {
   "cell_type": "code",
   "execution_count": 9,
   "id": "504e4df5",
   "metadata": {},
   "outputs": [
    {
     "name": "stdout",
     "output_type": "stream",
     "text": [
      "lm1 Test MSE: 10.19\n",
      "lm1 Test R2: 67.63%\n"
     ]
    }
   ],
   "source": [
    "test_pred1 = lm1.predict(X_test_scaled[['TV']])         # predict sales on scaled test data\n",
    "\n",
    "mse_test = mean_squared_error(y_test, test_pred1)\n",
    "\n",
    "r2_test = r2_score(y_test, test_pred1)                  # r2_test = lm2.score(X_test_scaled[['TV']], y_test)\n",
    "\n",
    "print(\"lm1 Test MSE: {:.2f}\".format(mse_test))\n",
    "print(\"lm1 Test R2: {:.2%}\".format(r2_test))     "
   ]
  },
  {
   "cell_type": "markdown",
   "id": "7f34c68a",
   "metadata": {},
   "source": [
    "## 1.3 Multiple Linear Regression\n",
    "\n",
    "\n",
    "### 1.3(a) Modeling\n",
    "\n",
    "Build another model **lm2** to predict **Sales**  with **TV**, **Radio**, **Newspaper** advertising expenditure together."
   ]
  },
  {
   "cell_type": "code",
   "execution_count": 10,
   "id": "001da49c",
   "metadata": {},
   "outputs": [
    {
     "name": "stdout",
     "output_type": "stream",
     "text": [
      "lm2 intercept(w0):  3.1751841954034408\n",
      "lm2 coefficients (w1,w2,w3):  [13.03190908  9.74625289 -0.2781464 ]\n",
      "lm2 features:  ['TV' 'Radio' 'Newspaper']\n"
     ]
    }
   ],
   "source": [
    "lm2 = LinearRegression().fit(X_train_scaled, y_train)    # now we use all three features (X_train_scaled)\n",
    "\n",
    "print(\"lm2 intercept(w0): \", lm2.intercept_)\n",
    "print(\"lm2 coefficients (w1,w2,w3): \", lm2.coef_)\n",
    "print(\"lm2 features: \", lm2.feature_names_in_)"
   ]
  },
  {
   "cell_type": "markdown",
   "id": "1182d76a",
   "metadata": {},
   "source": [
    "\n",
    "### 1.3(b) Model Application and Evaluation\n",
    "\n",
    "**Prediction and Evaluation on Train Set**"
   ]
  },
  {
   "cell_type": "code",
   "execution_count": 11,
   "id": "a06d352e",
   "metadata": {},
   "outputs": [
    {
     "name": "stdout",
     "output_type": "stream",
     "text": [
      "lm2 Train MSE: 2.41\n",
      "lm2 Train R2: 90.67%\n"
     ]
    }
   ],
   "source": [
    "train_pred2 = lm2.predict(X_train_scaled)\n",
    "\n",
    "mse_train2 = mean_squared_error(y_train, train_pred2)\n",
    "\n",
    "r2_train2 = r2_score(y_train, train_pred2)                 # r2_train2 = lm1.score(X_train_scaled, y_train)\n",
    "\n",
    "print(\"lm2 Train MSE: {:.2f}\".format(mse_train2))\n",
    "print(\"lm2 Train R2: {:.2%}\".format(r2_train2))            # explained more variance than lm1(train) "
   ]
  },
  {
   "cell_type": "markdown",
   "id": "bddae8ef",
   "metadata": {},
   "source": [
    "**Prediction and Evaluation on Test Set**\n",
    "\n",
    "Check R2 and MSE for **lm2** on test data.\n",
    "\n",
    "<font color=red>***Exercise 1: Your Codes Here***</font>  \n"
   ]
  },
  {
   "cell_type": "code",
   "execution_count": 12,
   "id": "0c850b02",
   "metadata": {},
   "outputs": [
    {
     "name": "stdout",
     "output_type": "stream",
     "text": [
      "lm2 Test MSE: 4.40\n",
      "lm2 Test R2: 86.01%\n"
     ]
    }
   ],
   "source": [
    "test_pred2 = lm2.predict(X_test_scaled)            #  use X_test_scaled for prediction\n",
    "\n",
    "mse_test2 = mean_squared_error(y_test, test_pred2)\n",
    "\n",
    "r2_test2 = r2_score(y_test, test_pred2)            # r2_test2 = lm1.score(X_test_scaled, y_test)\n",
    "\n",
    "print(\"lm2 Test MSE: {:.2f}\".format(mse_test2))\n",
    "print(\"lm2 Test R2: {:.2%}\".format(r2_test2))      # explained more variance than lm1(test) "
   ]
  },
  {
   "cell_type": "markdown",
   "id": "46c252bb",
   "metadata": {},
   "source": [
    "# 2. Categorical and Polynomial Features\n",
    "\n",
    "## 2.1 Data Preparation\n",
    "\n",
    "Let's start with a new dataset **house_price.csv** for this section. "
   ]
  },
  {
   "cell_type": "code",
   "execution_count": 13,
   "id": "4909e85a",
   "metadata": {},
   "outputs": [
    {
     "data": {
      "text/plain": [
       "(1000, 5)"
      ]
     },
     "metadata": {},
     "output_type": "display_data"
    },
    {
     "data": {
      "text/html": [
       "<div>\n",
       "<style scoped>\n",
       "    .dataframe tbody tr th:only-of-type {\n",
       "        vertical-align: middle;\n",
       "    }\n",
       "\n",
       "    .dataframe tbody tr th {\n",
       "        vertical-align: top;\n",
       "    }\n",
       "\n",
       "    .dataframe thead th {\n",
       "        text-align: right;\n",
       "    }\n",
       "</style>\n",
       "<table border=\"1\" class=\"dataframe\">\n",
       "  <thead>\n",
       "    <tr style=\"text-align: right;\">\n",
       "      <th></th>\n",
       "      <th>dist</th>\n",
       "      <th>age</th>\n",
       "      <th>room</th>\n",
       "      <th>school</th>\n",
       "      <th>price</th>\n",
       "    </tr>\n",
       "  </thead>\n",
       "  <tbody>\n",
       "    <tr>\n",
       "      <th>0</th>\n",
       "      <td>2.000000</td>\n",
       "      <td>12</td>\n",
       "      <td>3</td>\n",
       "      <td>1</td>\n",
       "      <td>17748.526691</td>\n",
       "    </tr>\n",
       "    <tr>\n",
       "      <th>1</th>\n",
       "      <td>2.048048</td>\n",
       "      <td>15</td>\n",
       "      <td>3</td>\n",
       "      <td>1</td>\n",
       "      <td>15734.586643</td>\n",
       "    </tr>\n",
       "    <tr>\n",
       "      <th>2</th>\n",
       "      <td>2.096096</td>\n",
       "      <td>21</td>\n",
       "      <td>4</td>\n",
       "      <td>0</td>\n",
       "      <td>17801.694257</td>\n",
       "    </tr>\n",
       "    <tr>\n",
       "      <th>3</th>\n",
       "      <td>2.144144</td>\n",
       "      <td>0</td>\n",
       "      <td>3</td>\n",
       "      <td>1</td>\n",
       "      <td>20155.145308</td>\n",
       "    </tr>\n",
       "    <tr>\n",
       "      <th>4</th>\n",
       "      <td>2.192192</td>\n",
       "      <td>3</td>\n",
       "      <td>4</td>\n",
       "      <td>0</td>\n",
       "      <td>18883.183762</td>\n",
       "    </tr>\n",
       "  </tbody>\n",
       "</table>\n",
       "</div>"
      ],
      "text/plain": [
       "       dist  age  room  school         price\n",
       "0  2.000000   12     3       1  17748.526691\n",
       "1  2.048048   15     3       1  15734.586643\n",
       "2  2.096096   21     4       0  17801.694257\n",
       "3  2.144144    0     3       1  20155.145308\n",
       "4  2.192192    3     4       0  18883.183762"
      ]
     },
     "metadata": {},
     "output_type": "display_data"
    }
   ],
   "source": [
    "house = pd.read_csv('house_price.csv')   # you may need to modify the path \n",
    "\n",
    "display(house.shape, house.head())"
   ]
  },
  {
   "cell_type": "markdown",
   "id": "9419bd81",
   "metadata": {},
   "source": [
    "**Split the Data into Train and Test**\n",
    "\n",
    "- Here let's skip the scaling step for simplicity. "
   ]
  },
  {
   "cell_type": "code",
   "execution_count": 14,
   "id": "d26b9e63",
   "metadata": {},
   "outputs": [
    {
     "data": {
      "text/plain": [
       "(800, 4)"
      ]
     },
     "metadata": {},
     "output_type": "display_data"
    },
    {
     "data": {
      "text/plain": [
       "(200, 4)"
      ]
     },
     "metadata": {},
     "output_type": "display_data"
    },
    {
     "data": {
      "text/plain": [
       "(800,)"
      ]
     },
     "metadata": {},
     "output_type": "display_data"
    },
    {
     "data": {
      "text/plain": [
       "(200,)"
      ]
     },
     "metadata": {},
     "output_type": "display_data"
    }
   ],
   "source": [
    "X = house.drop(columns = 'price')\n",
    "\n",
    "y = house['price']\n",
    "\n",
    "X_train, X_test, y_train, y_test = train_test_split(X, y, test_size = 0.2, random_state=0)    \n",
    "\n",
    "display(X_train.shape, X_test.shape, y_train.shape, y_test.shape)"
   ]
  },
  {
   "cell_type": "markdown",
   "id": "3a9559d1",
   "metadata": {},
   "source": [
    "## 2.2 Categorical Features\n",
    "\n",
    "### 2.2(a) Modeling\n",
    "\n",
    "Let's train **lm3** to predict **price** with four features: **dist**, **age**, **room**, and **school**. How shall we we interpret the coefficent for **school** (w4)?\n",
    "\n",
    "- Note that feature **school** means whether the house is close to any top ranked school (within 2km): 1 means yes, 0 means no.  \n",
    "- To transform categorical variables with multiple unique values, please check the [documentation](https://pandas.pydata.org/docs/reference/api/pandas.get_dummies.html) of ``pandas.get_dummies`` function."
   ]
  },
  {
   "cell_type": "code",
   "execution_count": 15,
   "id": "d50d3956-70c2-4587-a510-2696822628ee",
   "metadata": {},
   "outputs": [
    {
     "name": "stdout",
     "output_type": "stream",
     "text": [
      "lm3 intercept:  27333.76833092165\n",
      "lm3 coefficients:  [-206.6458122  -760.50998783  321.35940265  548.76431954]\n",
      "lm3 features:  ['dist' 'age' 'room' 'school']\n"
     ]
    }
   ],
   "source": [
    "lm3 = LinearRegression().fit(X_train, y_train)     # train a model with all features\n",
    "\n",
    "print(\"lm3 intercept: \",lm3.intercept_)\n",
    "print(\"lm3 coefficients: \", lm3.coef_)\n",
    "print(\"lm3 features: \", lm3.feature_names_in_)   "
   ]
  },
  {
   "cell_type": "markdown",
   "id": "4149aa7c-b896-469d-8a57-85f947d7f5a3",
   "metadata": {},
   "source": [
    "### 2.2(b) Model Evaluation\n",
    "\n",
    "Let's evaluate the model on both train and test data by calculting the R2.  "
   ]
  },
  {
   "cell_type": "code",
   "execution_count": 16,
   "id": "a1815d6b-950d-49ad-85ca-72175f7c58e4",
   "metadata": {},
   "outputs": [
    {
     "name": "stdout",
     "output_type": "stream",
     "text": [
      "lm3 Train R2: 78.84%\n",
      "lm3 test R2: 81.48%\n"
     ]
    }
   ],
   "source": [
    "train_pred3 = lm3.predict(X_train)\n",
    "r2_train3 = r2_score(y_train, train_pred3)      # r2_train3 = lm3.score(X_train, y_train)\n",
    "\n",
    "test_pred3 = lm3.predict(X_test)\n",
    "r2_test3 = r2_score(y_test, test_pred3)         # r2_test3 = lm3.score(X_test, y_test)\n",
    "\n",
    "print(\"lm3 Train R2: {:.2%}\".format(r2_train3))  \n",
    "print(\"lm3 test R2: {:.2%}\".format(r2_test3))"
   ]
  },
  {
   "cell_type": "markdown",
   "id": "c3268077",
   "metadata": {},
   "source": [
    "## 2.3 Polynomial Features: Interaction Terms only\n",
    "\n",
    "To generate interaction features, we use  ``PolynomialFeatures`` function from ``sklearn.preprocessing`` module. The function generates a new feature matrix consisting of all polynomial combinations of  the input features with degree less than or equal to the specified degree.   Check [documentation](https://scikit-learn.org/stable/modules/generated/sklearn.preprocessing.PolynomialFeatures.html) for details.\n",
    "\n",
    "- By default, `interaction_only=False`, therefore the function returns both interaction and exponential features. \n",
    "\n",
    "### 2.3(a) Feature Engineering\n",
    "\n",
    "Here let's keep only interaction terms with maxmium ``degree = 2`` (default), as we only need 2 degree interaction here.   \n",
    "\n",
    "**We get 10 features in total!**   \n"
   ]
  },
  {
   "cell_type": "code",
   "execution_count": 17,
   "id": "8d4f628f",
   "metadata": {},
   "outputs": [
    {
     "data": {
      "text/plain": [
       "(800, 10)"
      ]
     },
     "metadata": {},
     "output_type": "display_data"
    },
    {
     "data": {
      "text/plain": [
       "array(['dist', 'age', 'room', 'school', 'dist age', 'dist room',\n",
       "       'dist school', 'age room', 'age school', 'room school'],\n",
       "      dtype=object)"
      ]
     },
     "metadata": {},
     "output_type": "display_data"
    }
   ],
   "source": [
    "poly1 = PolynomialFeatures(degree = 2,               # degree 2 (default, can skip here) \n",
    "                           interaction_only = True,  # default False, return both interaction and expoential terms\n",
    "                           include_bias = False)     # no need to add 1 for intercept (auto-added in the model)  \n",
    "                                                               \n",
    "X_train_poly = poly1.fit_transform(X_train)         # fit the transformer on train set and transform it (can separate into two steps) \n",
    "\n",
    "display(X_train_poly.shape, poly1.get_feature_names_out())       "
   ]
  },
  {
   "cell_type": "markdown",
   "id": "258c22ee",
   "metadata": {},
   "source": [
    "### 2.3(b) Modeling\n",
    "\n",
    "\n",
    "Let's train **lm4** with all the 10 features (different from the lecture), and display all parameters. \n",
    "\n",
    "- Here we create two dataframes and concatenate them using `pandas.concat` function. Check [documentation](https://pandas.pydata.org/docs/reference/api/pandas.concat.html) for details.\n",
    "\n",
    "- Note that **lm4** has no **feature_names_in_** attribute, as **X_train_poly** is an 2D array without column names. Therefore, we  get the feature names from the polynomial transformer trained above.\n"
   ]
  },
  {
   "cell_type": "code",
   "execution_count": 18,
   "id": "69499dc6-cc93-4667-9661-cafa5ddcabe0",
   "metadata": {},
   "outputs": [
    {
     "data": {
      "text/html": [
       "<div>\n",
       "<style scoped>\n",
       "    .dataframe tbody tr th:only-of-type {\n",
       "        vertical-align: middle;\n",
       "    }\n",
       "\n",
       "    .dataframe tbody tr th {\n",
       "        vertical-align: top;\n",
       "    }\n",
       "\n",
       "    .dataframe thead th {\n",
       "        text-align: right;\n",
       "    }\n",
       "</style>\n",
       "<table border=\"1\" class=\"dataframe\">\n",
       "  <thead>\n",
       "    <tr style=\"text-align: right;\">\n",
       "      <th></th>\n",
       "      <th>features</th>\n",
       "      <th>parameters</th>\n",
       "    </tr>\n",
       "  </thead>\n",
       "  <tbody>\n",
       "    <tr>\n",
       "      <th>0</th>\n",
       "      <td>intercept</td>\n",
       "      <td>23046.929479</td>\n",
       "    </tr>\n",
       "    <tr>\n",
       "      <th>1</th>\n",
       "      <td>dist</td>\n",
       "      <td>-40.672195</td>\n",
       "    </tr>\n",
       "    <tr>\n",
       "      <th>2</th>\n",
       "      <td>age</td>\n",
       "      <td>-399.223853</td>\n",
       "    </tr>\n",
       "    <tr>\n",
       "      <th>3</th>\n",
       "      <td>room</td>\n",
       "      <td>317.761946</td>\n",
       "    </tr>\n",
       "    <tr>\n",
       "      <th>4</th>\n",
       "      <td>school</td>\n",
       "      <td>-368.082695</td>\n",
       "    </tr>\n",
       "    <tr>\n",
       "      <th>5</th>\n",
       "      <td>dist age</td>\n",
       "      <td>-13.777894</td>\n",
       "    </tr>\n",
       "    <tr>\n",
       "      <th>6</th>\n",
       "      <td>dist room</td>\n",
       "      <td>0.352720</td>\n",
       "    </tr>\n",
       "    <tr>\n",
       "      <th>7</th>\n",
       "      <td>dist school</td>\n",
       "      <td>29.075926</td>\n",
       "    </tr>\n",
       "    <tr>\n",
       "      <th>8</th>\n",
       "      <td>age room</td>\n",
       "      <td>-0.860280</td>\n",
       "    </tr>\n",
       "    <tr>\n",
       "      <th>9</th>\n",
       "      <td>age school</td>\n",
       "      <td>-6.046453</td>\n",
       "    </tr>\n",
       "    <tr>\n",
       "      <th>10</th>\n",
       "      <td>room school</td>\n",
       "      <td>38.387584</td>\n",
       "    </tr>\n",
       "  </tbody>\n",
       "</table>\n",
       "</div>"
      ],
      "text/plain": [
       "       features    parameters\n",
       "0     intercept  23046.929479\n",
       "1          dist    -40.672195\n",
       "2           age   -399.223853\n",
       "3          room    317.761946\n",
       "4        school   -368.082695\n",
       "5      dist age    -13.777894\n",
       "6     dist room      0.352720\n",
       "7   dist school     29.075926\n",
       "8      age room     -0.860280\n",
       "9    age school     -6.046453\n",
       "10  room school     38.387584"
      ]
     },
     "execution_count": 18,
     "metadata": {},
     "output_type": "execute_result"
    }
   ],
   "source": [
    "# train the model\n",
    "lm4 = LinearRegression().fit(X_train_poly, y_train)      \n",
    "\n",
    "# save intercepts in a dataframe, note we put the single value in a list to avoid value error\n",
    "intercept = pd.DataFrame({'features': ['intercept'], 'parameters': [lm4.intercept_]})    \n",
    "\n",
    "# save coefficients and feature names in a data frame \n",
    "coefs = pd.DataFrame({'features':poly1.get_feature_names_out(), \"parameters\": lm4.coef_}) \n",
    "\n",
    "# concatenate the two dataframes along rows (reset index)\n",
    "pd.concat([intercept, coefs], ignore_index = True)    "
   ]
  },
  {
   "cell_type": "markdown",
   "id": "55a472f8",
   "metadata": {},
   "source": [
    "### 2.3(c) Model Evaluation \n",
    "\n",
    "**Model Evaluation on Train Set**\n",
    "\n",
    "- Check R2 only.  "
   ]
  },
  {
   "cell_type": "code",
   "execution_count": 19,
   "id": "d7b17f41",
   "metadata": {},
   "outputs": [
    {
     "name": "stdout",
     "output_type": "stream",
     "text": [
      "lm4 Train R2: 82.97%\n"
     ]
    }
   ],
   "source": [
    "train_pred4 = lm4.predict(X_train_poly)               # make predictions with transformed features!\n",
    "\n",
    "r2_train4  = r2_score(y_train, train_pred4)           # r2_train4 = lm4.score(X_train_poly, y_train)\n",
    "\n",
    "print(\"lm4 Train R2: {:.2%}\".format(r2_train4))       # higher than lm3 (train)"
   ]
  },
  {
   "cell_type": "markdown",
   "id": "c2477e7f",
   "metadata": {},
   "source": [
    "**Model Evaluation on Test Set**\n",
    "\n",
    "- **Hint**: need to apply the fitted transformer **poly1**  to transform **X_test** before prediction/evaluation.  Make sure we do NOT fit the transformer again. \n",
    "\n",
    "<font color=red>***Exercise 2: Your Codes Here***</font>  \n"
   ]
  },
  {
   "cell_type": "code",
   "execution_count": 20,
   "id": "40e1ec86",
   "metadata": {},
   "outputs": [
    {
     "name": "stdout",
     "output_type": "stream",
     "text": [
      "lm4 Test R2: 86.08%\n"
     ]
    }
   ],
   "source": [
    "X_test_poly = poly1.transform(X_test)          # transform test features first  \n",
    "\n",
    "test_pred4 = lm4.predict(X_test_poly)  \n",
    "\n",
    "r2_test4 = r2_score(y_test, test_pred4)        # r2_test4 = lm4.score(X_test_poly, y_test)\n",
    "\n",
    "print(\"lm4 Test R2: {:.2%}\".format(r2_test4))  # higher than lm3(test)"
   ]
  },
  {
   "cell_type": "markdown",
   "id": "504fdf4c",
   "metadata": {},
   "source": [
    "## 2.4 Polynomial Features: Exponential Terms only\n",
    "\n",
    "### 2.4(a) Data Simulation and Preparation\n",
    "\n",
    "As the house price data is not suitable for demonstration of exponential features, let's create a simulated data set as below.\n",
    "\n",
    "- To create **X**, we use `numpy.random.rand` function to generate 500 random numbers from a uniform distribution over [0, 1). Check [documentation](https://numpy.org/doc/stable/reference/random/generated/numpy.random.rand.html) for details.\n",
    "\n",
    "- To create **y**, we (1) use `numpy.sin` function (check [documentation](https://numpy.org/doc/stable/reference/generated/numpy.sin.html)  for details) to apply non-linear transformation of **X**, and (2) use `numpy.random.stand_normal` function  (check [documentaion](https://numpy.org/doc/stable/reference/random/generated/numpy.random.standard_normal.html) for details) to generate 500 random numbers from a standard normal distribution (mean = 0, std = 1) as random errors.\n",
    "\n"
   ]
  },
  {
   "cell_type": "code",
   "execution_count": 21,
   "id": "4b86ec1a-e6ed-4b2b-bb57-c21aae02dec4",
   "metadata": {},
   "outputs": [
    {
     "data": {
      "text/plain": [
       "(500, 2)"
      ]
     },
     "metadata": {},
     "output_type": "display_data"
    },
    {
     "data": {
      "text/html": [
       "<div>\n",
       "<style scoped>\n",
       "    .dataframe tbody tr th:only-of-type {\n",
       "        vertical-align: middle;\n",
       "    }\n",
       "\n",
       "    .dataframe tbody tr th {\n",
       "        vertical-align: top;\n",
       "    }\n",
       "\n",
       "    .dataframe thead th {\n",
       "        text-align: right;\n",
       "    }\n",
       "</style>\n",
       "<table border=\"1\" class=\"dataframe\">\n",
       "  <thead>\n",
       "    <tr style=\"text-align: right;\">\n",
       "      <th></th>\n",
       "      <th>X</th>\n",
       "      <th>y</th>\n",
       "    </tr>\n",
       "  </thead>\n",
       "  <tbody>\n",
       "    <tr>\n",
       "      <th>0</th>\n",
       "      <td>4.170220</td>\n",
       "      <td>-0.868190</td>\n",
       "    </tr>\n",
       "    <tr>\n",
       "      <th>1</th>\n",
       "      <td>7.203245</td>\n",
       "      <td>0.778092</td>\n",
       "    </tr>\n",
       "    <tr>\n",
       "      <th>2</th>\n",
       "      <td>0.001144</td>\n",
       "      <td>-0.092248</td>\n",
       "    </tr>\n",
       "    <tr>\n",
       "      <th>3</th>\n",
       "      <td>3.023326</td>\n",
       "      <td>0.064689</td>\n",
       "    </tr>\n",
       "    <tr>\n",
       "      <th>4</th>\n",
       "      <td>1.467559</td>\n",
       "      <td>0.852020</td>\n",
       "    </tr>\n",
       "  </tbody>\n",
       "</table>\n",
       "</div>"
      ],
      "text/plain": [
       "          X         y\n",
       "0  4.170220 -0.868190\n",
       "1  7.203245  0.778092\n",
       "2  0.001144 -0.092248\n",
       "3  3.023326  0.064689\n",
       "4  1.467559  0.852020"
      ]
     },
     "metadata": {},
     "output_type": "display_data"
    }
   ],
   "source": [
    "np.random.seed(1)                                      # set random seed\n",
    "\n",
    "X = 10 * np.random.rand(500)                           # X: 500 random values from a uniform distribution over [0, 1) \n",
    "\n",
    "y = np.sin(X) + 0.1 * np.random.standard_normal(500)   # y: apply non-linear transformation to X + some random errors from standard normal distribution \n",
    "\n",
    "df = pd.DataFrame({'X': X, 'y': y})                    # convert as a dataframe\n",
    "\n",
    "display(df.shape, df.head())"
   ]
  },
  {
   "cell_type": "markdown",
   "id": "ed5a8a53",
   "metadata": {},
   "source": [
    "**Split the Data into Train and Test**\n",
    "\n",
    "- Again, let's skip feature scaling for simplicity.  "
   ]
  },
  {
   "cell_type": "code",
   "execution_count": 22,
   "id": "cdfd19f2",
   "metadata": {},
   "outputs": [
    {
     "data": {
      "text/plain": [
       "(400, 1)"
      ]
     },
     "metadata": {},
     "output_type": "display_data"
    },
    {
     "data": {
      "text/plain": [
       "(100, 1)"
      ]
     },
     "metadata": {},
     "output_type": "display_data"
    },
    {
     "data": {
      "text/plain": [
       "(400,)"
      ]
     },
     "metadata": {},
     "output_type": "display_data"
    },
    {
     "data": {
      "text/plain": [
       "(100,)"
      ]
     },
     "metadata": {},
     "output_type": "display_data"
    }
   ],
   "source": [
    "X = df[['X']]    # 2D features, same as df.drop(columns = 'y')\n",
    "\n",
    "y = df['y']\n",
    "\n",
    "X_train, X_test, y_train, y_test = train_test_split(X, y, test_size = 0.2, random_state=0)    \n",
    "\n",
    "display(X_train.shape, X_test.shape, y_train.shape, y_test.shape)"
   ]
  },
  {
   "cell_type": "markdown",
   "id": "22aa00ac",
   "metadata": {},
   "source": [
    "**Visualize the data**\n",
    "\n",
    "Use `matplotlib.pyplot.scatter` function to create scatter plots. Check [documentation](https://matplotlib.org/stable/api/_as_gen/matplotlib.pyplot.scatter.html) for details.\n",
    "- The parameter `c` or `color` takes a single color (to set same color for all instances) or a list of [colors](https://matplotlib.org/stable/users/explain/colors/colors.html#colors-def) (to set different colors for instances).\n",
    "- The difference of the two parameters are covered in week 6. "
   ]
  },
  {
   "cell_type": "code",
   "execution_count": 23,
   "id": "07d5cb95",
   "metadata": {},
   "outputs": [
    {
     "data": {
      "image/png": "[encoded data removed]",
      "text/plain": [
       "<Figure size 800x500 with 1 Axes>"
      ]
     },
     "metadata": {},
     "output_type": "display_data"
    }
   ],
   "source": [
    "plt.figure(figsize=(8,5))                                     # create a figure with 8/5 inches for width/height\n",
    "plt.scatter(x = X_train['X'], y = y_train)                    # plot the train data (default color blue)\n",
    "plt.scatter(x = X_test['X'], y = y_test, c = 'pink')          # plot the test data with a different color\n",
    "plt.xlabel('X')\n",
    "plt.ylabel('y')\n",
    "plt.title('The Train and Test Data')\n",
    "plt.show()"
   ]
  },
  {
   "cell_type": "markdown",
   "id": "cf7a3a2c",
   "metadata": {},
   "source": [
    "### 2.4(b) Feature Engineering, Modeling, and Evaluation\n",
    "\n",
    "<font color=red>***Exercise 3: Your Codes Here***</font>  \n",
    "\n",
    "Please complete the following four steps.\n",
    "\n",
    "\n",
    "**Step 1: Feature Engineering**\n",
    "\n",
    "Please create a polynomial transformer to raise **X** to its 7th degree(X^2, X^3... X^7).  Name the transformer as **poly2** and tranform **X_train** as **X_train_poly**.\n",
    "\n",
    "- Note by default ``interaction_only = False``, which will generate both interaction and exponential terms. However, as we have only one feature here, no interaction terms can be generated.   "
   ]
  },
  {
   "cell_type": "code",
   "execution_count": 24,
   "id": "aebe3503",
   "metadata": {},
   "outputs": [
    {
     "data": {
      "text/plain": [
       "array(['X', 'X^2', 'X^3', 'X^4', 'X^5', 'X^6', 'X^7'], dtype=object)"
      ]
     },
     "metadata": {},
     "output_type": "display_data"
    },
    {
     "data": {
      "text/plain": [
       "(400, 7)"
      ]
     },
     "metadata": {},
     "output_type": "display_data"
    }
   ],
   "source": [
    "poly2 = PolynomialFeatures(degree = 7, include_bias = False)        \n",
    "\n",
    "X_train_poly = poly2.fit_transform(X_train) \n",
    "\n",
    "display(poly2.get_feature_names_out(), X_train_poly.shape)    "
   ]
  },
  {
   "cell_type": "markdown",
   "id": "ddfb9b14",
   "metadata": {},
   "source": [
    "**Step 2: Train Model lm5 on Train Set**\n",
    "\n",
    "- Check the parameter values as well."
   ]
  },
  {
   "cell_type": "code",
   "execution_count": 25,
   "id": "74ab8e2f",
   "metadata": {},
   "outputs": [
    {
     "data": {
      "text/html": [
       "<div>\n",
       "<style scoped>\n",
       "    .dataframe tbody tr th:only-of-type {\n",
       "        vertical-align: middle;\n",
       "    }\n",
       "\n",
       "    .dataframe tbody tr th {\n",
       "        vertical-align: top;\n",
       "    }\n",
       "\n",
       "    .dataframe thead th {\n",
       "        text-align: right;\n",
       "    }\n",
       "</style>\n",
       "<table border=\"1\" class=\"dataframe\">\n",
       "  <thead>\n",
       "    <tr style=\"text-align: right;\">\n",
       "      <th></th>\n",
       "      <th>features</th>\n",
       "      <th>parameters</th>\n",
       "    </tr>\n",
       "  </thead>\n",
       "  <tbody>\n",
       "    <tr>\n",
       "      <th>0</th>\n",
       "      <td>intercept</td>\n",
       "      <td>0.106979</td>\n",
       "    </tr>\n",
       "    <tr>\n",
       "      <th>1</th>\n",
       "      <td>X</td>\n",
       "      <td>0.218936</td>\n",
       "    </tr>\n",
       "    <tr>\n",
       "      <th>2</th>\n",
       "      <td>X^2</td>\n",
       "      <td>1.270595</td>\n",
       "    </tr>\n",
       "    <tr>\n",
       "      <th>3</th>\n",
       "      <td>X^3</td>\n",
       "      <td>-1.011064</td>\n",
       "    </tr>\n",
       "    <tr>\n",
       "      <th>4</th>\n",
       "      <td>X^4</td>\n",
       "      <td>0.269386</td>\n",
       "    </tr>\n",
       "    <tr>\n",
       "      <th>5</th>\n",
       "      <td>X^5</td>\n",
       "      <td>-0.032131</td>\n",
       "    </tr>\n",
       "    <tr>\n",
       "      <th>6</th>\n",
       "      <td>X^6</td>\n",
       "      <td>0.001741</td>\n",
       "    </tr>\n",
       "    <tr>\n",
       "      <th>7</th>\n",
       "      <td>X^7</td>\n",
       "      <td>-0.000034</td>\n",
       "    </tr>\n",
       "  </tbody>\n",
       "</table>\n",
       "</div>"
      ],
      "text/plain": [
       "    features  parameters\n",
       "0  intercept    0.106979\n",
       "1          X    0.218936\n",
       "2        X^2    1.270595\n",
       "3        X^3   -1.011064\n",
       "4        X^4    0.269386\n",
       "5        X^5   -0.032131\n",
       "6        X^6    0.001741\n",
       "7        X^7   -0.000034"
      ]
     },
     "execution_count": 25,
     "metadata": {},
     "output_type": "execute_result"
    }
   ],
   "source": [
    "lm5 = LinearRegression().fit(X_train_poly,y_train) #train the model\n",
    "\n",
    "intercept2 = pd.DataFrame({'features': ['intercept'], 'parameters': [lm5.intercept_]})     # display intercepts in a dataframe \n",
    "\n",
    "coefs2 = pd.DataFrame({'features':poly2.get_feature_names_out(), \"parameters\": lm5.coef_})  # display coefficients and feature names in a data frame \n",
    "\n",
    "pd.concat([intercept2, coefs2], ignore_index = True)   # concatenate the two dataframes"
   ]
  },
  {
   "cell_type": "markdown",
   "id": "8f2320ef",
   "metadata": {},
   "source": [
    "**Step 3: Model Evaluation on Train Set**\n",
    "\n",
    "- Check the R2 only.\n"
   ]
  },
  {
   "cell_type": "code",
   "execution_count": 26,
   "id": "6821b0b0",
   "metadata": {},
   "outputs": [
    {
     "name": "stdout",
     "output_type": "stream",
     "text": [
      "lm5 Train R2: 97.56%\n"
     ]
    }
   ],
   "source": [
    "train_pred5 = lm5.predict(X_train_poly)           # predict on transformed X_train\n",
    "\n",
    "r2_train5 = r2_score(y_train, train_pred5)        # r2_train5 = lm5.score(X_train_poly, y_train)\n",
    "\n",
    "print(\"lm5 Train R2: {:.2%}\".format(r2_train5))   # almost perfect"
   ]
  },
  {
   "cell_type": "markdown",
   "id": "ba9d9421",
   "metadata": {},
   "source": [
    "**Step 4: Model Evaluation on Test Set**\n",
    "\n",
    "- **Hint**: need to use **poly2** to transform **X_test** before prediction/evaluation.  "
   ]
  },
  {
   "cell_type": "code",
   "execution_count": 27,
   "id": "b19d306e",
   "metadata": {},
   "outputs": [
    {
     "name": "stdout",
     "output_type": "stream",
     "text": [
      "lm5 Test R2: 96.62%\n"
     ]
    }
   ],
   "source": [
    "X_test_poly = poly2.transform(X_test)     # transform X_test\n",
    "\n",
    "test_pred5 = lm5.predict(X_test_poly)     # predict on transformed X_test\n",
    "\n",
    "r2_test5 = r2_score(y_test, test_pred5)    # r2_test5 = lm5.score(X_test_poly, y_test)\n",
    "\n",
    "print(\"lm5 Test R2: {:.2%}\".format(r2_test5))  "
   ]
  },
  {
   "cell_type": "markdown",
   "id": "87c2bd3d",
   "metadata": {},
   "source": [
    "### 2.4(c) Model Visualization\n",
    "\n",
    "To visualize the model (a curly line in 2D space), let's generate 1000 evenly spaced values and make predictions for them. \n",
    "\n",
    "- Use `numpy.linspace` function to generate 1000 evenly spaced number in a range. Check [documentation](https://numpy.org/doc/stable/reference/generated/numpy.linspace.html) for details. Note the stop number is included.\n",
    "- Alternatively, you may use `numpy.arange` function to create 1000 numbers with even stepsize in a range. Check [documentation](https://numpy.org/doc/stable/reference/generated/numpy.arange.html) for details. Note the stop number is NOT included. "
   ]
  },
  {
   "cell_type": "code",
   "execution_count": 28,
   "id": "d3a2ce11",
   "metadata": {},
   "outputs": [
    {
     "name": "stderr",
     "output_type": "stream",
     "text": [
      "/Library/Frameworks/Python.framework/Versions/3.13/lib/python3.13/site-packages/sklearn/utils/validation.py:2749: UserWarning: X does not have valid feature names, but PolynomialFeatures was fitted with feature names\n",
      "  warnings.warn(\n"
     ]
    }
   ],
   "source": [
    "new_X = np.linspace(0, 10, 1000)         # new X: 1000 numbers evenly spaced over [0,10].\n",
    "\n",
    "new_X_2D = new_X.reshape(1000,1)         # convert 1D data into a 2D, same as new_X_2D = new_X[:, np.newaxis]  \n",
    "\n",
    "X_poly = poly2.transform(new_X_2D)       # apply the transformer to transform new_X_2D \n",
    "\n",
    "y_pred = lm5.predict(X_poly)             # make predictions, note the warning message   "
   ]
  },
  {
   "cell_type": "markdown",
   "id": "cc9e0b48-326a-4d74-a194-939abd2aaa6e",
   "metadata": {},
   "source": [
    "**Plot the Model (with Data)**\n",
    "\n",
    "Use `matplotlib.pyplot.plot` function (check [documentation](https://matplotlib.org/stable/api/_as_gen/matplotlib.pyplot.plot.html)) to create a line (i.e., the model).   By default, a solid blue line is created to connect all points. \n",
    "\n",
    "- `x` : the horizontal coordinate of the data points.\n",
    "- `y` : the vertical coordinate of the data points.\n",
    "\n",
    "Note the function relies on **positional arguments** for `x`,  `y` (and `fmt`), NOT **keyword argument**, therefore there is no need to specify the parameter names.  \n",
    "\n",
    "- Other keyword parameters such as  `linewidth`, `markersize`, `color`/`c` (which override the color in `fmt`) should be placed after positional paramters."
   ]
  },
  {
   "cell_type": "code",
   "execution_count": 29,
   "id": "047b6956",
   "metadata": {},
   "outputs": [
    {
     "data": {
      "image/png": "[encoded data removed]",
      "text/plain": [
       "<Figure size 800x500 with 1 Axes>"
      ]
     },
     "metadata": {},
     "output_type": "display_data"
    }
   ],
   "source": [
    "plt.figure(figsize=(8,5))\n",
    "\n",
    "plt.scatter(x = X_train['X'], y = y_train)                       # plot the train data as well\n",
    "plt.scatter(x = X_test['X'], y = y_test, c = 'pink')             # plot the test data\n",
    "plt.plot(new_X, y_pred, c = 'gold', linewidth = 3)               # plot the model as a line defined by new_X and y_pred \n",
    "\n",
    "plt.xlabel('X')\n",
    "plt.ylabel('y')\n",
    "plt.title('The Train/Test Data and the Polynomial Model lm5')\n",
    "plt.show()"
   ]
  },
  {
   "cell_type": "markdown",
   "id": "b0850faa",
   "metadata": {},
   "source": [
    "Training models with high-degree polynomial features can result in overfitting, so we often control the model complexity by adding regularization, resulting in regularized regression models such as Ridge and Lasso regression:\n",
    "\n",
    "- Explore  the ``Ridge`` (check [documentation](https://scikit-learn.org/1.5/modules/generated/sklearn.linear_model.Ridge.html)) and ``Lasso`` (check [documentation](https://scikit-learn.org/1.5/modules/generated/sklearn.linear_model.Lasso.html)) to learn more."
   ]
  }
 ],
 "metadata": {
  "kernelspec": {
   "display_name": "Python 3 (ipykernel)",
   "language": "python",
   "name": "python3"
  },
  "language_info": {
   "codemirror_mode": {
    "name": "ipython",
    "version": 3
   },
   "file_extension": ".py",
   "mimetype": "text/x-python",
   "name": "python",
   "nbconvert_exporter": "python",
   "pygments_lexer": "ipython3",
   "version": "3.13.7"
  }
 },
 "nbformat": 4,
 "nbformat_minor": 5
}
