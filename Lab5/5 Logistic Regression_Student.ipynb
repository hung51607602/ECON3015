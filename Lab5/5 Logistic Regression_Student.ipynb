{
 "cells": [
  {
   "cell_type": "markdown",
   "metadata": {},
   "source": [
    "Check [documentation](https://scikit-learn.org/stable/modules/generated/sklearn.linear_model.LogisticRegression.html) of ``LogisticRegression`` function from ``sklearn.linear_model`` for details."
   ]
  },
  {
   "cell_type": "code",
   "execution_count": 299,
   "metadata": {},
   "outputs": [],
   "source": [
    "import pandas as pd\n",
    "import numpy as np\n",
    "\n",
    "from sklearn.linear_model import LogisticRegression\n",
    "from sklearn.model_selection import train_test_split\n",
    "from sklearn.preprocessing import MinMaxScaler\n",
    "from sklearn.metrics import accuracy_score  "
   ]
  },
  {
   "cell_type": "markdown",
   "metadata": {},
   "source": [
    "# 1. Data Pre-processing"
   ]
  },
  {
   "cell_type": "code",
   "execution_count": 300,
   "metadata": {},
   "outputs": [
    {
     "data": {
      "text/html": [
       "<div>\n",
       "<style scoped>\n",
       "    .dataframe tbody tr th:only-of-type {\n",
       "        vertical-align: middle;\n",
       "    }\n",
       "\n",
       "    .dataframe tbody tr th {\n",
       "        vertical-align: top;\n",
       "    }\n",
       "\n",
       "    .dataframe thead th {\n",
       "        text-align: right;\n",
       "    }\n",
       "</style>\n",
       "<table border=\"1\" class=\"dataframe\">\n",
       "  <thead>\n",
       "    <tr style=\"text-align: right;\">\n",
       "      <th></th>\n",
       "      <th>COLLEGE</th>\n",
       "      <th>INCOME</th>\n",
       "      <th>OVERAGE</th>\n",
       "      <th>LEFTOVER</th>\n",
       "      <th>HOUSE</th>\n",
       "      <th>HANDSET_PRICE</th>\n",
       "      <th>OVER_15MINS_CALLS_PER_MONTH</th>\n",
       "      <th>AVERAGE_CALL_DURATION</th>\n",
       "      <th>REPORTED_SATISFACTION</th>\n",
       "      <th>REPORTED_USAGE_LEVEL</th>\n",
       "      <th>CONSIDERING_CHANGE_OF_PLAN</th>\n",
       "      <th>LEAVE</th>\n",
       "    </tr>\n",
       "  </thead>\n",
       "  <tbody>\n",
       "    <tr>\n",
       "      <th>1</th>\n",
       "      <td>zero</td>\n",
       "      <td>31953</td>\n",
       "      <td>0</td>\n",
       "      <td>6</td>\n",
       "      <td>313378</td>\n",
       "      <td>161</td>\n",
       "      <td>0</td>\n",
       "      <td>4</td>\n",
       "      <td>unsat</td>\n",
       "      <td>little</td>\n",
       "      <td>no</td>\n",
       "      <td>STAY</td>\n",
       "    </tr>\n",
       "    <tr>\n",
       "      <th>2</th>\n",
       "      <td>one</td>\n",
       "      <td>36147</td>\n",
       "      <td>0</td>\n",
       "      <td>13</td>\n",
       "      <td>800586</td>\n",
       "      <td>244</td>\n",
       "      <td>0</td>\n",
       "      <td>6</td>\n",
       "      <td>unsat</td>\n",
       "      <td>little</td>\n",
       "      <td>considering</td>\n",
       "      <td>STAY</td>\n",
       "    </tr>\n",
       "    <tr>\n",
       "      <th>3</th>\n",
       "      <td>one</td>\n",
       "      <td>27273</td>\n",
       "      <td>230</td>\n",
       "      <td>0</td>\n",
       "      <td>305049</td>\n",
       "      <td>201</td>\n",
       "      <td>16</td>\n",
       "      <td>15</td>\n",
       "      <td>unsat</td>\n",
       "      <td>very_little</td>\n",
       "      <td>perhaps</td>\n",
       "      <td>STAY</td>\n",
       "    </tr>\n",
       "    <tr>\n",
       "      <th>4</th>\n",
       "      <td>zero</td>\n",
       "      <td>120070</td>\n",
       "      <td>38</td>\n",
       "      <td>33</td>\n",
       "      <td>788235</td>\n",
       "      <td>780</td>\n",
       "      <td>3</td>\n",
       "      <td>2</td>\n",
       "      <td>unsat</td>\n",
       "      <td>very_high</td>\n",
       "      <td>considering</td>\n",
       "      <td>LEAVE</td>\n",
       "    </tr>\n",
       "    <tr>\n",
       "      <th>5</th>\n",
       "      <td>one</td>\n",
       "      <td>29215</td>\n",
       "      <td>208</td>\n",
       "      <td>85</td>\n",
       "      <td>224784</td>\n",
       "      <td>241</td>\n",
       "      <td>21</td>\n",
       "      <td>1</td>\n",
       "      <td>very_unsat</td>\n",
       "      <td>little</td>\n",
       "      <td>never_thought</td>\n",
       "      <td>STAY</td>\n",
       "    </tr>\n",
       "  </tbody>\n",
       "</table>\n",
       "</div>"
      ],
      "text/plain": [
       "  COLLEGE  INCOME  OVERAGE  LEFTOVER   HOUSE  HANDSET_PRICE  \\\n",
       "1    zero   31953        0         6  313378            161   \n",
       "2     one   36147        0        13  800586            244   \n",
       "3     one   27273      230         0  305049            201   \n",
       "4    zero  120070       38        33  788235            780   \n",
       "5     one   29215      208        85  224784            241   \n",
       "\n",
       "   OVER_15MINS_CALLS_PER_MONTH  AVERAGE_CALL_DURATION REPORTED_SATISFACTION  \\\n",
       "1                            0                      4                 unsat   \n",
       "2                            0                      6                 unsat   \n",
       "3                           16                     15                 unsat   \n",
       "4                            3                      2                 unsat   \n",
       "5                           21                      1            very_unsat   \n",
       "\n",
       "  REPORTED_USAGE_LEVEL CONSIDERING_CHANGE_OF_PLAN  LEAVE  \n",
       "1               little                         no   STAY  \n",
       "2               little                considering   STAY  \n",
       "3          very_little                    perhaps   STAY  \n",
       "4            very_high                considering  LEAVE  \n",
       "5               little              never_thought   STAY  "
      ]
     },
     "metadata": {},
     "output_type": "display_data"
    },
    {
     "data": {
      "text/plain": [
       "COLLEGE                        object\n",
       "INCOME                          int64\n",
       "OVERAGE                         int64\n",
       "LEFTOVER                        int64\n",
       "HOUSE                           int64\n",
       "HANDSET_PRICE                   int64\n",
       "OVER_15MINS_CALLS_PER_MONTH     int64\n",
       "AVERAGE_CALL_DURATION           int64\n",
       "REPORTED_SATISFACTION          object\n",
       "REPORTED_USAGE_LEVEL           object\n",
       "CONSIDERING_CHANGE_OF_PLAN     object\n",
       "LEAVE                          object\n",
       "dtype: object"
      ]
     },
     "metadata": {},
     "output_type": "display_data"
    }
   ],
   "source": [
    "churn = pd.read_csv('churn.csv', sep=' ')     # modify your data path if needed\n",
    "\n",
    "display(churn.head(), churn.dtypes)           # some variables are object (string or mixed) "
   ]
  },
  {
   "cell_type": "code",
   "execution_count": 301,
   "metadata": {},
   "outputs": [
    {
     "name": "stdout",
     "output_type": "stream",
     "text": [
      "==================================================\n",
      "<class 'pandas.core.frame.DataFrame'>\n",
      "Index: 20000 entries, 1 to 20000\n",
      "Data columns (total 12 columns):\n",
      " #   Column                       Non-Null Count  Dtype \n",
      "---  ------                       --------------  ----- \n",
      " 0   COLLEGE                      20000 non-null  object\n",
      " 1   INCOME                       20000 non-null  int64 \n",
      " 2   OVERAGE                      20000 non-null  int64 \n",
      " 3   LEFTOVER                     20000 non-null  int64 \n",
      " 4   HOUSE                        20000 non-null  int64 \n",
      " 5   HANDSET_PRICE                20000 non-null  int64 \n",
      " 6   OVER_15MINS_CALLS_PER_MONTH  20000 non-null  int64 \n",
      " 7   AVERAGE_CALL_DURATION        20000 non-null  int64 \n",
      " 8   REPORTED_SATISFACTION        20000 non-null  object\n",
      " 9   REPORTED_USAGE_LEVEL         20000 non-null  object\n",
      " 10  CONSIDERING_CHANGE_OF_PLAN   20000 non-null  object\n",
      " 11  LEAVE                        20000 non-null  object\n",
      "dtypes: int64(7), object(5)\n",
      "memory usage: 2.0+ MB\n",
      "None\n",
      "==================================================\n",
      "Shape of churn:  (20000, 12)\n",
      "==================================================\n",
      "  COLLEGE  INCOME  OVERAGE  LEFTOVER   HOUSE  HANDSET_PRICE  OVER_15MINS_CALLS_PER_MONTH  AVERAGE_CALL_DURATION REPORTED_SATISFACTION REPORTED_USAGE_LEVEL CONSIDERING_CHANGE_OF_PLAN  LEAVE\n",
      "1    zero   31953        0         6  313378            161                            0                      4                 unsat               little                         no   STAY\n",
      "2     one   36147        0        13  800586            244                            0                      6                 unsat               little                considering   STAY\n",
      "3     one   27273      230         0  305049            201                           16                     15                 unsat          very_little                    perhaps   STAY\n",
      "4    zero  120070       38        33  788235            780                            3                      2                 unsat            very_high                considering  LEAVE\n",
      "5     one   29215      208        85  224784            241                           21                      1            very_unsat               little              never_thought   STAY\n",
      "==================================================\n",
      "  COLLEGE  INCOME  OVERAGE  LEFTOVER   HOUSE  HANDSET_PRICE  OVER_15MINS_CALLS_PER_MONTH  AVERAGE_CALL_DURATION REPORTED_SATISFACTION REPORTED_USAGE_LEVEL CONSIDERING_CHANGE_OF_PLAN  LEAVE\n",
      "1    zero   31953        0         6  313378            161                            0                      4                 unsat               little                         no   STAY\n",
      "2     one   36147        0        13  800586            244                            0                      6                 unsat               little                considering   STAY\n",
      "3     one   27273      230         0  305049            201                           16                     15                 unsat          very_little                    perhaps   STAY\n",
      "4    zero  120070       38        33  788235            780                            3                      2                 unsat            very_high                considering  LEAVE\n",
      "5     one   29215      208        85  224784            241                           21                      1            very_unsat               little              never_thought   STAY\n"
     ]
    }
   ],
   "source": [
    "\n",
    "print(\"==================================================\")\n",
    "print(churn.info())\n",
    "print(\"==================================================\")\n",
    "print(\"Shape of churn: \",churn.shape)\n",
    "print(\"==================================================\")\n",
    "print(churn.head().to_string())\n",
    "\n",
    "print(\"==================================================\")\n",
    "churn_copy = churn\n",
    "print(churn_copy.head().to_string())"
   ]
  },
  {
   "cell_type": "markdown",
   "metadata": {},
   "source": [
    "## 1.1 Convert Target Variable as Numbers (Optional)\n",
    "\n",
    "Although **scikit-learn** accepts non-numeric target variable.  The classifier automatically assign integers to each class (i.e., `'LEAVE'` = `0`, `'STAY'` = `1`) before model training.  If so, \n",
    "\n",
    "- The positive class is `STAY`, then the log_odds and probability returned by the linear equation represent the log_odds and probability of ``STAY``.\n",
    "- In the array of class probabilities, ``LEAVE`` is in the 1st column and `STAY` is in the 2nd column, as we saw in week 3. \n",
    "- The parameter values will be the reverse (e.g., negative instead of positive) from what we have here. \n",
    "\n",
    "Here we convert the target as numbers mannually,  as we expect ``'LEAVE'`` as positive class (``1``) and ``'STAY'`` as  negative class (``0``). \n",
    "\n",
    "- Here we use `pandas.Series.replace` function (check [documentation](https://pandas.pydata.org/docs/reference/api/pandas.Series.replace.html)) to replace target values as numbers. After conversion, the target's data type changed from `object` (mixed data type) to  `int64` automatically.\n",
    "\n"
   ]
  },
  {
   "cell_type": "code",
   "execution_count": 302,
   "metadata": {},
   "outputs": [
    {
     "name": "stdout",
     "output_type": "stream",
     "text": [
      "Original table:\n",
      "--------------------------------------------------------------------------------------------------------------------------------------------------------------------------------------------------------------\n",
      "  COLLEGE  INCOME  OVERAGE  LEFTOVER   HOUSE  HANDSET_PRICE  OVER_15MINS_CALLS_PER_MONTH  AVERAGE_CALL_DURATION REPORTED_SATISFACTION REPORTED_USAGE_LEVEL CONSIDERING_CHANGE_OF_PLAN  LEAVE\n",
      "1    zero   31953        0         6  313378            161                            0                      4                 unsat               little                         no   STAY\n",
      "2     one   36147        0        13  800586            244                            0                      6                 unsat               little                considering   STAY\n",
      "3     one   27273      230         0  305049            201                           16                     15                 unsat          very_little                    perhaps   STAY\n",
      "4    zero  120070       38        33  788235            780                            3                      2                 unsat            very_high                considering  LEAVE\n",
      "5     one   29215      208        85  224784            241                           21                      1            very_unsat               little              never_thought   STAY\n",
      "--------------------------------------------------------------------------------------------------------------------------------------------------------------------------------------------------------------\n",
      "Updated table:\n",
      "--------------------------------------------------------------------------------------------------------------------------------------------------------------------------------------------------------------\n",
      "  COLLEGE  INCOME  OVERAGE  LEFTOVER   HOUSE  HANDSET_PRICE  OVER_15MINS_CALLS_PER_MONTH  AVERAGE_CALL_DURATION REPORTED_SATISFACTION REPORTED_USAGE_LEVEL CONSIDERING_CHANGE_OF_PLAN  LEAVE\n",
      "1    zero   31953        0         6  313378            161                            0                      4                 unsat               little                         no      0\n",
      "2     one   36147        0        13  800586            244                            0                      6                 unsat               little                considering      0\n",
      "3     one   27273      230         0  305049            201                           16                     15                 unsat          very_little                    perhaps      0\n",
      "4    zero  120070       38        33  788235            780                            3                      2                 unsat            very_high                considering      1\n",
      "5     one   29215      208        85  224784            241                           21                      1            very_unsat               little              never_thought      0\n",
      "--------------------------------------------------------------------------------------------------------------------------------------------------------------------------------------------------------------\n"
     ]
    },
    {
     "name": "stderr",
     "output_type": "stream",
     "text": [
      "/var/folders/_1/w3rmdmrx14qdr85c4l_crhq80000gn/T/ipykernel_12844/3447388459.py:9: FutureWarning: A value is trying to be set on a copy of a DataFrame or Series through chained assignment using an inplace method.\n",
      "The behavior will change in pandas 3.0. This inplace method will never work because the intermediate object on which we are setting values always behaves as a copy.\n",
      "\n",
      "For example, when doing 'df[col].method(value, inplace=True)', try using 'df.method({col: value}, inplace=True)' or df[col] = df[col].method(value) instead, to perform the operation inplace on the original object.\n",
      "\n",
      "\n",
      "  churn[\"LEAVE\"].replace({\"STAY\":0,\"LEAVE\":1},inplace=True)\n",
      "/var/folders/_1/w3rmdmrx14qdr85c4l_crhq80000gn/T/ipykernel_12844/3447388459.py:9: FutureWarning: Downcasting behavior in `replace` is deprecated and will be removed in a future version. To retain the old behavior, explicitly call `result.infer_objects(copy=False)`. To opt-in to the future behavior, set `pd.set_option('future.no_silent_downcasting', True)`\n",
      "  churn[\"LEAVE\"].replace({\"STAY\":0,\"LEAVE\":1},inplace=True)\n"
     ]
    }
   ],
   "source": [
    "print(\"Original table:\")\n",
    "print(\"--------------------------------------------------------------------------------------------------------------------------------------------------------------------------------------------------------------\")\n",
    "print(churn.head().to_string())\n",
    "print(\"--------------------------------------------------------------------------------------------------------------------------------------------------------------------------------------------------------------\")\n",
    "\n",
    "\n",
    "# churn['LEAVE'] = churn['LEAVE'].replace({'LEAVE':1, 'STAY':0})    # Please don't opt-int to future behavior\n",
    "# Replace column LEAVE , STAY -> 0 , LEAVE -> 1\n",
    "churn[\"LEAVE\"].replace({\"STAY\":0,\"LEAVE\":1},inplace=True)\n",
    "# churn.head()    # now LEAVE is considered as positive (1)\n",
    "print(\"Updated table:\")\n",
    "print(\"--------------------------------------------------------------------------------------------------------------------------------------------------------------------------------------------------------------\")\n",
    "print(churn.head().to_string())\n",
    "print(\"--------------------------------------------------------------------------------------------------------------------------------------------------------------------------------------------------------------\")\n"
   ]
  },
  {
   "cell_type": "markdown",
   "metadata": {},
   "source": [
    "**Notes** \n",
    "\n",
    "If we use conditional selection for this, the target's data type is still `object`. The ambiguous data type will confuse the logistic regression algorithm as it expects `integer` or `category` data type for a numeric target.  To address this, we need to manually change the target's data type as either `int64` or  `category`. See the codes below.\n",
    "  \n",
    "```python\n",
    "churn.loc[churn['LEAVE']=='LEAVE','LEAVE'] = 1        # conditional selection\n",
    "churn.loc[churn['LEAVE']=='STAY','LEAVE'] = 0\n",
    "churn = churn.astype({'LEAVE': 'int64'})              # or churn = churn.astype({'LEAVE': 'category'}) \n",
    "```\n"
   ]
  },
  {
   "cell_type": "markdown",
   "metadata": {},
   "source": [
    "## 1.2 Convert Non-Numeric Features as Numbers (Required)\n",
    "\n",
    "As **scikit-learn** can only take numeric predictors, we need to convert all string features as numbers. "
   ]
  },
  {
   "cell_type": "markdown",
   "metadata": {},
   "source": [
    "Feature in form of String: \n",
    " \n",
    "- COLLEGE  \n",
    "\n",
    "- REPORTED_SATISFACTION \n",
    "\n",
    "- REPORTED_USAGE_LEVEL\n",
    "\n",
    "- CONSIDERING_CHANGE_OF_PLAN "
   ]
  },
  {
   "cell_type": "code",
   "execution_count": 303,
   "metadata": {},
   "outputs": [
    {
     "name": "stdout",
     "output_type": "stream",
     "text": [
      "Original table:\n",
      "--------------------------------------------------------------------------------------------------------------------------------------------------------------------------------------------------------------\n",
      "  COLLEGE  INCOME  OVERAGE  LEFTOVER   HOUSE  HANDSET_PRICE  OVER_15MINS_CALLS_PER_MONTH  AVERAGE_CALL_DURATION REPORTED_SATISFACTION REPORTED_USAGE_LEVEL CONSIDERING_CHANGE_OF_PLAN  LEAVE\n",
      "1    zero   31953        0         6  313378            161                            0                      4                 unsat               little                         no      0\n",
      "2     one   36147        0        13  800586            244                            0                      6                 unsat               little                considering      0\n",
      "3     one   27273      230         0  305049            201                           16                     15                 unsat          very_little                    perhaps      0\n",
      "4    zero  120070       38        33  788235            780                            3                      2                 unsat            very_high                considering      1\n",
      "5     one   29215      208        85  224784            241                           21                      1            very_unsat               little              never_thought      0\n",
      "--------------------------------------------------------------------------------------------------------------------------------------------------------------------------------------------------------------\n",
      "Updated table:\n",
      "--------------------------------------------------------------------------------------------------------------------------------------------------------------------------------------------------------------\n",
      "   COLLEGE  INCOME  OVERAGE  LEFTOVER   HOUSE  HANDSET_PRICE  OVER_15MINS_CALLS_PER_MONTH  AVERAGE_CALL_DURATION REPORTED_SATISFACTION REPORTED_USAGE_LEVEL CONSIDERING_CHANGE_OF_PLAN  LEAVE\n",
      "1        0   31953        0         6  313378            161                            0                      4                 unsat               little                         no      0\n",
      "2        1   36147        0        13  800586            244                            0                      6                 unsat               little                considering      0\n",
      "3        1   27273      230         0  305049            201                           16                     15                 unsat          very_little                    perhaps      0\n",
      "4        0  120070       38        33  788235            780                            3                      2                 unsat            very_high                considering      1\n",
      "5        1   29215      208        85  224784            241                           21                      1            very_unsat               little              never_thought      0\n",
      "--------------------------------------------------------------------------------------------------------------------------------------------------------------------------------------------------------------\n"
     ]
    },
    {
     "name": "stderr",
     "output_type": "stream",
     "text": [
      "/var/folders/_1/w3rmdmrx14qdr85c4l_crhq80000gn/T/ipykernel_12844/1999022856.py:10: FutureWarning: A value is trying to be set on a copy of a DataFrame or Series through chained assignment using an inplace method.\n",
      "The behavior will change in pandas 3.0. This inplace method will never work because the intermediate object on which we are setting values always behaves as a copy.\n",
      "\n",
      "For example, when doing 'df[col].method(value, inplace=True)', try using 'df.method({col: value}, inplace=True)' or df[col] = df[col].method(value) instead, to perform the operation inplace on the original object.\n",
      "\n",
      "\n",
      "  churn['COLLEGE'].replace({'zero':0,'one':1},inplace=True)\n",
      "/var/folders/_1/w3rmdmrx14qdr85c4l_crhq80000gn/T/ipykernel_12844/1999022856.py:10: FutureWarning: Downcasting behavior in `replace` is deprecated and will be removed in a future version. To retain the old behavior, explicitly call `result.infer_objects(copy=False)`. To opt-in to the future behavior, set `pd.set_option('future.no_silent_downcasting', True)`\n",
      "  churn['COLLEGE'].replace({'zero':0,'one':1},inplace=True)\n"
     ]
    }
   ],
   "source": [
    "# Convert COLLEGE as numbers \n",
    "\n",
    "# churn['COLLEGE'] = churn['COLLEGE'].replace({'zero':0, 'one':1})  # alternatively, use conditional selection\n",
    "\n",
    "print(\"Original table:\")\n",
    "print(\"--------------------------------------------------------------------------------------------------------------------------------------------------------------------------------------------------------------\")\n",
    "print(churn.head().to_string())\n",
    "print(\"--------------------------------------------------------------------------------------------------------------------------------------------------------------------------------------------------------------\")\n",
    "\n",
    "churn['COLLEGE'].replace({'zero':0,'one':1},inplace=True)\n",
    "\n",
    "print(\"Updated table:\")\n",
    "print(\"--------------------------------------------------------------------------------------------------------------------------------------------------------------------------------------------------------------\")\n",
    "print(churn.head().to_string())\n",
    "print(\"--------------------------------------------------------------------------------------------------------------------------------------------------------------------------------------------------------------\")\n"
   ]
  },
  {
   "cell_type": "markdown",
   "metadata": {},
   "source": [
    "Here we use `pandas.Categorical` function to convert the string data as an ordered categorical variables and obtain the numeric codes.\n",
    "\n",
    "- Check [documentation](https://pandas.pydata.org/docs/reference/api/pandas.Categorical.html) for details.\n",
    "- pd.Categorical()函數 用於 將字串列轉換為分類變量。\n",
    "- 語法部份 values ，categories ， ordered，\n",
    "- value： 要轉換成 categorical 的數值\n",
    "- categorical：定義轉換的規則，通常跟 values 差不多，是處理過後的 values 例如排序 ， 且不重要順序 (目的： 排序 / 標記沒出現過的為 NaN / 有些未出現的可以先有一個空 columnn，最終還是以 categorical 的為準)\n",
    "- ordered： 是否需要排序"
   ]
  },
  {
   "cell_type": "code",
   "execution_count": 304,
   "metadata": {},
   "outputs": [
    {
     "name": "stdout",
     "output_type": "stream",
     "text": [
      "['unsat' 'very_unsat' 'very_sat' 'avg' 'sat']\n",
      "['little' 'very_little' 'very_high' 'high' 'avg']\n",
      "['no' 'considering' 'perhaps' 'never_thought' 'actively_looking_into_it']\n"
     ]
    }
   ],
   "source": [
    "# check unique values for the three features\n",
    "\n",
    "# for col in ['REPORTED_SATISFACTION','REPORTED_USAGE_LEVEL','CONSIDERING_CHANGE_OF_PLAN']:\n",
    "#     print(col, churn[col].unique())      \n",
    "\n",
    "# 需要先找出 Unique 的值，後面要放在 categorical 裡\n",
    "# for i in churn['REPORTED_SATISFACTION']:\n",
    "#     print(i)\n",
    "\n",
    "\n",
    "print(churn['REPORTED_SATISFACTION'].unique())\n",
    "print(churn['REPORTED_USAGE_LEVEL'].unique())\n",
    "print(churn['CONSIDERING_CHANGE_OF_PLAN'].unique())\n",
    "\n",
    "uni_satisfaction = churn['REPORTED_SATISFACTION'].unique()\n",
    "uni_usage = churn['REPORTED_USAGE_LEVEL'].unique()\n",
    "uni_considering = churn['CONSIDERING_CHANGE_OF_PLAN'].unique()\n",
    "\n",
    "# print(churn[''].unique())\n",
    "\n"
   ]
  },
  {
   "cell_type": "code",
   "execution_count": null,
   "metadata": {},
   "outputs": [],
   "source": []
  },
  {
   "cell_type": "code",
   "execution_count": 305,
   "metadata": {
    "scrolled": true
   },
   "outputs": [],
   "source": [
    "# # Convert REPORTED_SATISFACTION as numeric (very_unsat = 0, unsat=1... very_sat =4)\n",
    "\n",
    "# # .codes：這是 Categorical對象的屬性，返回一個整數數組\n",
    "\n",
    "# # step 1 - convert the variable as a categorical variable (a pandas 1D array)\n",
    "# cat1 = pd.Categorical(values = churn['REPORTED_SATISFACTION'], \n",
    "#                       categories = [\"very_unsat\", \"unsat\", \"avg\", \"sat\",\"very_sat\"],  # specify the order\n",
    "#                       ordered = True)                                                # treat categories as ordered\n",
    "\n",
    "# # step 2 - obtain the numeric codes and update original feature\n",
    "# churn['REPORTED_SATISFACTION'] = cat1.codes           "
   ]
  },
  {
   "cell_type": "code",
   "execution_count": 306,
   "metadata": {},
   "outputs": [
    {
     "name": "stdout",
     "output_type": "stream",
     "text": [
      "Out put of cat1:\n",
      "------------------------------------------------------\n",
      "['unsat', 'unsat', 'unsat', 'unsat', 'very_unsat', ..., 'very_sat', 'very_sat', 'unsat', 'very_unsat', 'unsat']\n",
      "Length: 20000\n",
      "Categories (5, object): ['very_unsat' < 'unsat' < 'avg' < 'sat' < 'very_sat'] \n",
      "\n",
      "代碼解釋：\n",
      "這意味著 單純的 pd.Categorical 只會返回類別的定義，不會直接改變成 12345 等數字\n",
      "如果要改成成分類後的數字，要用到 xxx.codes,codes 會返回分類後的 數字的 column\n",
      "\n",
      "\n",
      "cat1.code:\n",
      "------------------------------------------------------\n",
      "[1 1 1 ... 1 0 1]\n"
     ]
    }
   ],
   "source": [
    "################################################################################\n",
    "# Step to convert:\n",
    "# step 1 - convert the variable as a categorical variable (a pandas 1D array)\n",
    "# step 2 - obtain the numeric codes and update original feature\n",
    "################################################################################\n",
    "\n",
    "cat1 = pd.Categorical(values= churn['REPORTED_SATISFACTION'],\n",
    "                      # categories= uni_satisfaction,  # <- 這個地方要自己定義的， 目前是我用 unique get到的，所以現在的分類是完全錯誤的\n",
    "                      categories= ['very_unsat' , 'unsat' , 'avg' , 'sat' ,'very_sat'],\n",
    "                      ordered=True\n",
    "                      )\n",
    "# cat1 是 已經將 churn['REPORTED_SATISFACTION'] 轉換之後 返回的是 被更改後的 churn['REPORTED_SATISFACTION']\n",
    "# 這個時候原本的還沒被改變，我們需要手動把它換過去\n",
    "# print(churn['REPORTED_SATISFACTION'])  --> output: ['unsat' 'very_unsat' 'very_sat' 'avg' 'sat']\n",
    "print(\"Out put of cat1:\")\n",
    "print('------------------------------------------------------')\n",
    "print(cat1,'\\n')\n",
    "print(f\"代碼解釋：\\n這意味著 單純的 pd.Categorical 只會返回類別的定義，不會直接改變成 12345 等數字\\n如果要改成成分類後的數字，要用到 xxx.codes,codes 會返回分類後的 數字的 column\")\n",
    "\n",
    "print()\n",
    "print()\n",
    "\n",
    "print(\"cat1.code:\")\n",
    "print('------------------------------------------------------')\n",
    "print(cat1.codes)\n",
    "churn['REPORTED_SATISFACTION'] = cat1.codes\n",
    "\n"
   ]
  },
  {
   "cell_type": "code",
   "execution_count": 307,
   "metadata": {},
   "outputs": [],
   "source": [
    "# Convert REPORTED_USAGE_LEVEL as numeric\n",
    "\n",
    "# step 1\n",
    "cat2 = pd.Categorical(values = churn['REPORTED_USAGE_LEVEL'], \n",
    "                      categories = [\"very_little\", \"little\", \"avg\", \"high\",\"very_high\"],   \n",
    "                      ordered = True)\n",
    "\n",
    "# step 2\n",
    "churn['REPORTED_USAGE_LEVEL'] = cat2.codes     "
   ]
  },
  {
   "cell_type": "code",
   "execution_count": 308,
   "metadata": {
    "scrolled": true
   },
   "outputs": [],
   "source": [
    "# Convert CONSIDERING_CHANGE_OF_PLAN as numeric\n",
    "\n",
    "# step 1\n",
    "cat3 = pd.Categorical(values = churn['CONSIDERING_CHANGE_OF_PLAN'], \n",
    "                      categories=[\"never_thought\", \"no\", \"perhaps\", \"considering\",\"actively_looking_into_it\"], \n",
    "                      ordered= True)\n",
    "\n",
    "# step 2\n",
    "churn['CONSIDERING_CHANGE_OF_PLAN'] = cat3.codes"
   ]
  },
  {
   "cell_type": "code",
   "execution_count": 309,
   "metadata": {},
   "outputs": [
    {
     "data": {
      "text/html": [
       "<div>\n",
       "<style scoped>\n",
       "    .dataframe tbody tr th:only-of-type {\n",
       "        vertical-align: middle;\n",
       "    }\n",
       "\n",
       "    .dataframe tbody tr th {\n",
       "        vertical-align: top;\n",
       "    }\n",
       "\n",
       "    .dataframe thead th {\n",
       "        text-align: right;\n",
       "    }\n",
       "</style>\n",
       "<table border=\"1\" class=\"dataframe\">\n",
       "  <thead>\n",
       "    <tr style=\"text-align: right;\">\n",
       "      <th></th>\n",
       "      <th>COLLEGE</th>\n",
       "      <th>INCOME</th>\n",
       "      <th>OVERAGE</th>\n",
       "      <th>LEFTOVER</th>\n",
       "      <th>HOUSE</th>\n",
       "      <th>HANDSET_PRICE</th>\n",
       "      <th>OVER_15MINS_CALLS_PER_MONTH</th>\n",
       "      <th>AVERAGE_CALL_DURATION</th>\n",
       "      <th>REPORTED_SATISFACTION</th>\n",
       "      <th>REPORTED_USAGE_LEVEL</th>\n",
       "      <th>CONSIDERING_CHANGE_OF_PLAN</th>\n",
       "      <th>LEAVE</th>\n",
       "    </tr>\n",
       "  </thead>\n",
       "  <tbody>\n",
       "    <tr>\n",
       "      <th>1</th>\n",
       "      <td>0</td>\n",
       "      <td>31953</td>\n",
       "      <td>0</td>\n",
       "      <td>6</td>\n",
       "      <td>313378</td>\n",
       "      <td>161</td>\n",
       "      <td>0</td>\n",
       "      <td>4</td>\n",
       "      <td>1</td>\n",
       "      <td>1</td>\n",
       "      <td>1</td>\n",
       "      <td>0</td>\n",
       "    </tr>\n",
       "    <tr>\n",
       "      <th>2</th>\n",
       "      <td>1</td>\n",
       "      <td>36147</td>\n",
       "      <td>0</td>\n",
       "      <td>13</td>\n",
       "      <td>800586</td>\n",
       "      <td>244</td>\n",
       "      <td>0</td>\n",
       "      <td>6</td>\n",
       "      <td>1</td>\n",
       "      <td>1</td>\n",
       "      <td>3</td>\n",
       "      <td>0</td>\n",
       "    </tr>\n",
       "    <tr>\n",
       "      <th>3</th>\n",
       "      <td>1</td>\n",
       "      <td>27273</td>\n",
       "      <td>230</td>\n",
       "      <td>0</td>\n",
       "      <td>305049</td>\n",
       "      <td>201</td>\n",
       "      <td>16</td>\n",
       "      <td>15</td>\n",
       "      <td>1</td>\n",
       "      <td>0</td>\n",
       "      <td>2</td>\n",
       "      <td>0</td>\n",
       "    </tr>\n",
       "    <tr>\n",
       "      <th>4</th>\n",
       "      <td>0</td>\n",
       "      <td>120070</td>\n",
       "      <td>38</td>\n",
       "      <td>33</td>\n",
       "      <td>788235</td>\n",
       "      <td>780</td>\n",
       "      <td>3</td>\n",
       "      <td>2</td>\n",
       "      <td>1</td>\n",
       "      <td>4</td>\n",
       "      <td>3</td>\n",
       "      <td>1</td>\n",
       "    </tr>\n",
       "    <tr>\n",
       "      <th>5</th>\n",
       "      <td>1</td>\n",
       "      <td>29215</td>\n",
       "      <td>208</td>\n",
       "      <td>85</td>\n",
       "      <td>224784</td>\n",
       "      <td>241</td>\n",
       "      <td>21</td>\n",
       "      <td>1</td>\n",
       "      <td>0</td>\n",
       "      <td>1</td>\n",
       "      <td>0</td>\n",
       "      <td>0</td>\n",
       "    </tr>\n",
       "  </tbody>\n",
       "</table>\n",
       "</div>"
      ],
      "text/plain": [
       "   COLLEGE  INCOME  OVERAGE  LEFTOVER   HOUSE  HANDSET_PRICE  \\\n",
       "1        0   31953        0         6  313378            161   \n",
       "2        1   36147        0        13  800586            244   \n",
       "3        1   27273      230         0  305049            201   \n",
       "4        0  120070       38        33  788235            780   \n",
       "5        1   29215      208        85  224784            241   \n",
       "\n",
       "   OVER_15MINS_CALLS_PER_MONTH  AVERAGE_CALL_DURATION  REPORTED_SATISFACTION  \\\n",
       "1                            0                      4                      1   \n",
       "2                            0                      6                      1   \n",
       "3                           16                     15                      1   \n",
       "4                            3                      2                      1   \n",
       "5                           21                      1                      0   \n",
       "\n",
       "   REPORTED_USAGE_LEVEL  CONSIDERING_CHANGE_OF_PLAN  LEAVE  \n",
       "1                     1                           1      0  \n",
       "2                     1                           3      0  \n",
       "3                     0                           2      0  \n",
       "4                     4                           3      1  \n",
       "5                     1                           0      0  "
      ]
     },
     "execution_count": 309,
     "metadata": {},
     "output_type": "execute_result"
    }
   ],
   "source": [
    "churn.head(5)     # check first 5 rows  "
   ]
  },
  {
   "cell_type": "markdown",
   "metadata": {},
   "source": [
    "Check the data type again, make sure the data type of a numeric target is either `int64` or `category`.  \n",
    "- If we use the original string target, then it is fine to be `object` data type. \n",
    "- 最終目的是讓所有的 column 都變成 數字 \n",
    "- 都變成數字後，就可以用來訓練了 ，就正式進入訓練階段了 \n",
    "- 所以要先用 dtype check 一下變成 數字了嗎"
   ]
  },
  {
   "cell_type": "code",
   "execution_count": 310,
   "metadata": {},
   "outputs": [
    {
     "data": {
      "text/plain": [
       "COLLEGE                        int64\n",
       "INCOME                         int64\n",
       "OVERAGE                        int64\n",
       "LEFTOVER                       int64\n",
       "HOUSE                          int64\n",
       "HANDSET_PRICE                  int64\n",
       "OVER_15MINS_CALLS_PER_MONTH    int64\n",
       "AVERAGE_CALL_DURATION          int64\n",
       "REPORTED_SATISFACTION           int8\n",
       "REPORTED_USAGE_LEVEL            int8\n",
       "CONSIDERING_CHANGE_OF_PLAN      int8\n",
       "LEAVE                          int64\n",
       "dtype: object"
      ]
     },
     "execution_count": 310,
     "metadata": {},
     "output_type": "execute_result"
    }
   ],
   "source": [
    "churn.dtypes    # check data type: target is now int64 (discrete)"
   ]
  },
  {
   "cell_type": "markdown",
   "metadata": {},
   "source": [
    "## 1.3 Split into Train and Test \n",
    "- 至於如何分割數據，首先 先確認 target value 是哪一個 也就是 y\n",
    "- X 是除了 target feature 之外的所有 column， 所以就是要 drop target column\n",
    "- 然後用 train_test_split ,定義好 X 和 Y 分別是誰 ，然後就可以 set test data 的數量(test_size= 0.x )"
   ]
  },
  {
   "cell_type": "code",
   "execution_count": 311,
   "metadata": {},
   "outputs": [
    {
     "data": {
      "text/plain": [
       "(16000, 11)"
      ]
     },
     "metadata": {},
     "output_type": "display_data"
    },
    {
     "data": {
      "text/plain": [
       "(4000, 11)"
      ]
     },
     "metadata": {},
     "output_type": "display_data"
    },
    {
     "data": {
      "text/plain": [
       "(16000,)"
      ]
     },
     "metadata": {},
     "output_type": "display_data"
    },
    {
     "data": {
      "text/plain": [
       "(4000,)"
      ]
     },
     "metadata": {},
     "output_type": "display_data"
    }
   ],
   "source": [
    "X = churn.drop(columns = 'LEAVE')\n",
    "\n",
    "y = churn['LEAVE']\n",
    "\n",
    "X_train, X_test, y_train, y_test = train_test_split(X, y, test_size=0.2, random_state=42)  \n",
    "\n",
    "display(X_train.shape, X_test.shape, y_train.shape, y_test.shape)"
   ]
  },
  {
   "cell_type": "markdown",
   "metadata": {},
   "source": [
    "## 1.4 Scale Data\n",
    "\n",
    "Fit the scaler with the training set, then apply the same scaler to transform the trainand the test set later.\n",
    "**Do NOT** fit the scaler with the test data: referencing the test data can lead to data leakage. \n",
    "\n",
    "- Remember to use scaled data for model training and prediction!"
   ]
  },
  {
   "cell_type": "code",
   "execution_count": 312,
   "metadata": {},
   "outputs": [],
   "source": [
    "scaler = MinMaxScaler()                          \n",
    "\n",
    "X_train_scaled = scaler.fit_transform(X_train)   # combine train and transform together\n",
    "\n",
    "X_test_scaled  = scaler.transform(X_test)        # apply the scaler on test"
   ]
  },
  {
   "cell_type": "markdown",
   "metadata": {},
   "source": [
    "After scaling, the transformed data is a numpy array without col names. We add the names back by converting them as a dataframes with column names."
   ]
  },
  {
   "cell_type": "code",
   "execution_count": 313,
   "metadata": {},
   "outputs": [
    {
     "data": {
      "text/html": [
       "<div>\n",
       "<style scoped>\n",
       "    .dataframe tbody tr th:only-of-type {\n",
       "        vertical-align: middle;\n",
       "    }\n",
       "\n",
       "    .dataframe tbody tr th {\n",
       "        vertical-align: top;\n",
       "    }\n",
       "\n",
       "    .dataframe thead th {\n",
       "        text-align: right;\n",
       "    }\n",
       "</style>\n",
       "<table border=\"1\" class=\"dataframe\">\n",
       "  <thead>\n",
       "    <tr style=\"text-align: right;\">\n",
       "      <th></th>\n",
       "      <th>COLLEGE</th>\n",
       "      <th>INCOME</th>\n",
       "      <th>OVERAGE</th>\n",
       "      <th>LEFTOVER</th>\n",
       "      <th>HOUSE</th>\n",
       "      <th>HANDSET_PRICE</th>\n",
       "      <th>OVER_15MINS_CALLS_PER_MONTH</th>\n",
       "      <th>AVERAGE_CALL_DURATION</th>\n",
       "      <th>REPORTED_SATISFACTION</th>\n",
       "      <th>REPORTED_USAGE_LEVEL</th>\n",
       "      <th>CONSIDERING_CHANGE_OF_PLAN</th>\n",
       "    </tr>\n",
       "  </thead>\n",
       "  <tbody>\n",
       "    <tr>\n",
       "      <th>0</th>\n",
       "      <td>1.0</td>\n",
       "      <td>0.560291</td>\n",
       "      <td>0.198813</td>\n",
       "      <td>0.000000</td>\n",
       "      <td>0.090536</td>\n",
       "      <td>0.343303</td>\n",
       "      <td>0.172414</td>\n",
       "      <td>0.714286</td>\n",
       "      <td>0.0</td>\n",
       "      <td>1.00</td>\n",
       "      <td>0.75</td>\n",
       "    </tr>\n",
       "    <tr>\n",
       "      <th>1</th>\n",
       "      <td>1.0</td>\n",
       "      <td>0.827085</td>\n",
       "      <td>0.005935</td>\n",
       "      <td>0.000000</td>\n",
       "      <td>0.267077</td>\n",
       "      <td>0.526658</td>\n",
       "      <td>1.000000</td>\n",
       "      <td>0.928571</td>\n",
       "      <td>0.0</td>\n",
       "      <td>0.50</td>\n",
       "      <td>0.75</td>\n",
       "    </tr>\n",
       "    <tr>\n",
       "      <th>2</th>\n",
       "      <td>0.0</td>\n",
       "      <td>0.924286</td>\n",
       "      <td>0.635015</td>\n",
       "      <td>0.707865</td>\n",
       "      <td>0.570410</td>\n",
       "      <td>0.556567</td>\n",
       "      <td>0.689655</td>\n",
       "      <td>0.000000</td>\n",
       "      <td>1.0</td>\n",
       "      <td>0.25</td>\n",
       "      <td>0.00</td>\n",
       "    </tr>\n",
       "    <tr>\n",
       "      <th>3</th>\n",
       "      <td>1.0</td>\n",
       "      <td>0.109198</td>\n",
       "      <td>0.620178</td>\n",
       "      <td>0.247191</td>\n",
       "      <td>0.850993</td>\n",
       "      <td>0.093628</td>\n",
       "      <td>0.758621</td>\n",
       "      <td>0.357143</td>\n",
       "      <td>0.5</td>\n",
       "      <td>0.75</td>\n",
       "      <td>0.75</td>\n",
       "    </tr>\n",
       "    <tr>\n",
       "      <th>4</th>\n",
       "      <td>1.0</td>\n",
       "      <td>0.452864</td>\n",
       "      <td>0.112760</td>\n",
       "      <td>0.000000</td>\n",
       "      <td>0.034099</td>\n",
       "      <td>0.188557</td>\n",
       "      <td>0.000000</td>\n",
       "      <td>0.785714</td>\n",
       "      <td>0.0</td>\n",
       "      <td>1.00</td>\n",
       "      <td>0.25</td>\n",
       "    </tr>\n",
       "  </tbody>\n",
       "</table>\n",
       "</div>"
      ],
      "text/plain": [
       "   COLLEGE    INCOME   OVERAGE  LEFTOVER     HOUSE  HANDSET_PRICE  \\\n",
       "0      1.0  0.560291  0.198813  0.000000  0.090536       0.343303   \n",
       "1      1.0  0.827085  0.005935  0.000000  0.267077       0.526658   \n",
       "2      0.0  0.924286  0.635015  0.707865  0.570410       0.556567   \n",
       "3      1.0  0.109198  0.620178  0.247191  0.850993       0.093628   \n",
       "4      1.0  0.452864  0.112760  0.000000  0.034099       0.188557   \n",
       "\n",
       "   OVER_15MINS_CALLS_PER_MONTH  AVERAGE_CALL_DURATION  REPORTED_SATISFACTION  \\\n",
       "0                     0.172414               0.714286                    0.0   \n",
       "1                     1.000000               0.928571                    0.0   \n",
       "2                     0.689655               0.000000                    1.0   \n",
       "3                     0.758621               0.357143                    0.5   \n",
       "4                     0.000000               0.785714                    0.0   \n",
       "\n",
       "   REPORTED_USAGE_LEVEL  CONSIDERING_CHANGE_OF_PLAN  \n",
       "0                  1.00                        0.75  \n",
       "1                  0.50                        0.75  \n",
       "2                  0.25                        0.00  \n",
       "3                  0.75                        0.75  \n",
       "4                  1.00                        0.25  "
      ]
     },
     "metadata": {},
     "output_type": "display_data"
    },
    {
     "data": {
      "text/html": [
       "<div>\n",
       "<style scoped>\n",
       "    .dataframe tbody tr th:only-of-type {\n",
       "        vertical-align: middle;\n",
       "    }\n",
       "\n",
       "    .dataframe tbody tr th {\n",
       "        vertical-align: top;\n",
       "    }\n",
       "\n",
       "    .dataframe thead th {\n",
       "        text-align: right;\n",
       "    }\n",
       "</style>\n",
       "<table border=\"1\" class=\"dataframe\">\n",
       "  <thead>\n",
       "    <tr style=\"text-align: right;\">\n",
       "      <th></th>\n",
       "      <th>COLLEGE</th>\n",
       "      <th>INCOME</th>\n",
       "      <th>OVERAGE</th>\n",
       "      <th>LEFTOVER</th>\n",
       "      <th>HOUSE</th>\n",
       "      <th>HANDSET_PRICE</th>\n",
       "      <th>OVER_15MINS_CALLS_PER_MONTH</th>\n",
       "      <th>AVERAGE_CALL_DURATION</th>\n",
       "      <th>REPORTED_SATISFACTION</th>\n",
       "      <th>REPORTED_USAGE_LEVEL</th>\n",
       "      <th>CONSIDERING_CHANGE_OF_PLAN</th>\n",
       "    </tr>\n",
       "  </thead>\n",
       "  <tbody>\n",
       "    <tr>\n",
       "      <th>0</th>\n",
       "      <td>1.0</td>\n",
       "      <td>0.033484</td>\n",
       "      <td>0.560831</td>\n",
       "      <td>0.325843</td>\n",
       "      <td>0.103968</td>\n",
       "      <td>0.074122</td>\n",
       "      <td>0.413793</td>\n",
       "      <td>0.000000</td>\n",
       "      <td>0.00</td>\n",
       "      <td>0.75</td>\n",
       "      <td>0.25</td>\n",
       "    </tr>\n",
       "    <tr>\n",
       "      <th>1</th>\n",
       "      <td>1.0</td>\n",
       "      <td>0.191894</td>\n",
       "      <td>0.551929</td>\n",
       "      <td>0.000000</td>\n",
       "      <td>0.128988</td>\n",
       "      <td>0.042913</td>\n",
       "      <td>0.758621</td>\n",
       "      <td>0.714286</td>\n",
       "      <td>0.25</td>\n",
       "      <td>0.25</td>\n",
       "      <td>0.75</td>\n",
       "    </tr>\n",
       "    <tr>\n",
       "      <th>2</th>\n",
       "      <td>1.0</td>\n",
       "      <td>0.260613</td>\n",
       "      <td>0.005935</td>\n",
       "      <td>0.595506</td>\n",
       "      <td>0.685019</td>\n",
       "      <td>0.313394</td>\n",
       "      <td>0.034483</td>\n",
       "      <td>0.000000</td>\n",
       "      <td>0.25</td>\n",
       "      <td>0.00</td>\n",
       "      <td>1.00</td>\n",
       "    </tr>\n",
       "    <tr>\n",
       "      <th>3</th>\n",
       "      <td>0.0</td>\n",
       "      <td>0.774350</td>\n",
       "      <td>0.133531</td>\n",
       "      <td>0.101124</td>\n",
       "      <td>0.173329</td>\n",
       "      <td>0.495449</td>\n",
       "      <td>0.172414</td>\n",
       "      <td>0.357143</td>\n",
       "      <td>0.00</td>\n",
       "      <td>0.25</td>\n",
       "      <td>0.75</td>\n",
       "    </tr>\n",
       "    <tr>\n",
       "      <th>4</th>\n",
       "      <td>1.0</td>\n",
       "      <td>0.613997</td>\n",
       "      <td>0.005935</td>\n",
       "      <td>0.292135</td>\n",
       "      <td>0.104067</td>\n",
       "      <td>0.907672</td>\n",
       "      <td>0.034483</td>\n",
       "      <td>0.000000</td>\n",
       "      <td>0.00</td>\n",
       "      <td>1.00</td>\n",
       "      <td>1.00</td>\n",
       "    </tr>\n",
       "  </tbody>\n",
       "</table>\n",
       "</div>"
      ],
      "text/plain": [
       "   COLLEGE    INCOME   OVERAGE  LEFTOVER     HOUSE  HANDSET_PRICE  \\\n",
       "0      1.0  0.033484  0.560831  0.325843  0.103968       0.074122   \n",
       "1      1.0  0.191894  0.551929  0.000000  0.128988       0.042913   \n",
       "2      1.0  0.260613  0.005935  0.595506  0.685019       0.313394   \n",
       "3      0.0  0.774350  0.133531  0.101124  0.173329       0.495449   \n",
       "4      1.0  0.613997  0.005935  0.292135  0.104067       0.907672   \n",
       "\n",
       "   OVER_15MINS_CALLS_PER_MONTH  AVERAGE_CALL_DURATION  REPORTED_SATISFACTION  \\\n",
       "0                     0.413793               0.000000                   0.00   \n",
       "1                     0.758621               0.714286                   0.25   \n",
       "2                     0.034483               0.000000                   0.25   \n",
       "3                     0.172414               0.357143                   0.00   \n",
       "4                     0.034483               0.000000                   0.00   \n",
       "\n",
       "   REPORTED_USAGE_LEVEL  CONSIDERING_CHANGE_OF_PLAN  \n",
       "0                  0.75                        0.25  \n",
       "1                  0.25                        0.75  \n",
       "2                  0.00                        1.00  \n",
       "3                  0.25                        0.75  \n",
       "4                  1.00                        1.00  "
      ]
     },
     "metadata": {},
     "output_type": "display_data"
    }
   ],
   "source": [
    "X_train_scaled = pd.DataFrame(X_train_scaled, columns = X_train.columns)  \n",
    "\n",
    "X_test_scaled = pd.DataFrame(X_test_scaled, columns = X_train.columns)\n",
    "\n",
    "display(X_train_scaled.head(), X_test_scaled.head())"
   ]
  },
  {
   "cell_type": "markdown",
   "metadata": {},
   "source": [
    "# 2. Train m1 with only two Features  "
   ]
  },
  {
   "cell_type": "markdown",
   "metadata": {},
   "source": [
    "##  2.1 Model Training "
   ]
  },
  {
   "cell_type": "code",
   "execution_count": 314,
   "metadata": {},
   "outputs": [
    {
     "data": {
      "text/plain": [
       "array([-0.31123949])"
      ]
     },
     "metadata": {},
     "output_type": "display_data"
    },
    {
     "data": {
      "text/plain": [
       "array([[0.05295155, 0.60633535]])"
      ]
     },
     "metadata": {},
     "output_type": "display_data"
    },
    {
     "data": {
      "text/plain": [
       "array(['COLLEGE', 'INCOME'], dtype=object)"
      ]
     },
     "metadata": {},
     "output_type": "display_data"
    }
   ],
   "source": [
    "X_train_sub = X_train_scaled[['COLLEGE', 'INCOME']]    # 2D features\n",
    "\n",
    "m1 = LogisticRegression().fit(X_train_sub, y_train)   \n",
    "\n",
    "display(m1.intercept_, m1.coef_, m1.feature_names_in_)  # Note that intercept in 1D, coeffs in 2D"
   ]
  },
  {
   "cell_type": "markdown",
   "metadata": {},
   "source": [
    "## 2.2  Predict and Evaluate on Train Set\n",
    "\n",
    "**Predict class labels** \n",
    "\n",
    "- When making predictions, the default cut-off point for class determination is 50%. "
   ]
  },
  {
   "cell_type": "code",
   "execution_count": 315,
   "metadata": {},
   "outputs": [
    {
     "data": {
      "text/plain": [
       "array([1, 1, 1, ..., 0, 0, 1], shape=(16000,))"
      ]
     },
     "execution_count": 315,
     "metadata": {},
     "output_type": "execute_result"
    }
   ],
   "source": [
    "train_pred1 = m1.predict(X_train_sub)  \n",
    "\n",
    "train_pred1"
   ]
  },
  {
   "cell_type": "markdown",
   "metadata": {},
   "source": [
    "**Estimate class probabilities**  \n",
    "\n",
    "- Note the order should be  0 (`STAY`), 1 (`LEAVE`). The probability of 1 (i.e., `LEAVE`) is in the 2nd column. "
   ]
  },
  {
   "cell_type": "code",
   "execution_count": 316,
   "metadata": {},
   "outputs": [
    {
     "data": {
      "text/plain": [
       "array([[0.47965222, 0.52034778],\n",
       "       [0.43949726, 0.56050274],\n",
       "       [0.43802348, 0.56197652],\n",
       "       ...,\n",
       "       [0.57495841, 0.42504159],\n",
       "       [0.54782924, 0.45217076],\n",
       "       [0.47444788, 0.52555212]], shape=(16000, 2))"
      ]
     },
     "execution_count": 316,
     "metadata": {},
     "output_type": "execute_result"
    }
   ],
   "source": [
    "train_prob1 = m1.predict_proba(X_train_sub)\n",
    "\n",
    "train_prob1     # probability of 0 (STAY), 1 (LEAVE)"
   ]
  },
  {
   "cell_type": "markdown",
   "metadata": {},
   "source": [
    "**Check model accuracy**"
   ]
  },
  {
   "cell_type": "code",
   "execution_count": 317,
   "metadata": {},
   "outputs": [
    {
     "data": {
      "text/plain": [
       "0.54325"
      ]
     },
     "execution_count": 317,
     "metadata": {},
     "output_type": "execute_result"
    }
   ],
   "source": [
    "accuracy_score(train_pred1, y_train)     # m1.score(X_train_sub, y_train)"
   ]
  },
  {
   "cell_type": "markdown",
   "metadata": {},
   "source": [
    "## 2.3  The log_odds and Probabilities of LEAVE"
   ]
  },
  {
   "attachments": {},
   "cell_type": "markdown",
   "metadata": {},
   "source": [
    "Below are the formulas you may need to use.\n",
    "\n",
    "\n",
    "- Estimate the ``log_odds`` of LEAVE (i.e., ``f(x)``) with the linear function. \n",
    "\n",
    "$$\n",
    "f(x) = w_0 + w_1 \\cdot \\text{COLLEGE} + w_2 \\cdot \\text{INCOME}\n",
    "$$\n",
    "\n",
    "\n",
    "- Estimate  the ``probability`` of LEAVE with the logistic function. \n",
    "\n",
    "$$\n",
    "P(Y=1 | x) = \\frac{1}{1 + e^{-f(x)}} \\quad \\text{or} \\quad P(Y=1 |x) = \\frac{e^{f(x)}}{1 + e^{f(x)}}\n",
    "$$\n",
    "\n",
    " "
   ]
  },
  {
   "cell_type": "markdown",
   "metadata": {},
   "source": [
    "<font color=red>***Exercise 1: Your Codes Here***</font>  \n",
    "\n",
    "Please complete the following two tasks:\n",
    "\n",
    "- Step 1: Calculate the log-odds of `LEAVE(1)` for the 1st instance in the training set.\n",
    "\n",
    "- Step 2: Calculate the probability of `LEAVE(1)` for the 1st instance as well. You may want to use  ``numpy.exp`` function to perform natural exponential function (with base e) to a value.\n",
    "\n",
    "Note (1) the intercept is in a 1D array and coefs are in 2D array (1*2), and (2) you may use  **.loc** or **.iloc** method to select the first customer's **COLLEGE** and **INCOME** value. "
   ]
  },
  {
   "cell_type": "code",
   "execution_count": null,
   "metadata": {},
   "outputs": [],
   "source": []
  },
  {
   "cell_type": "code",
   "execution_count": null,
   "metadata": {},
   "outputs": [],
   "source": []
  },
  {
   "cell_type": "markdown",
   "metadata": {},
   "source": [
    "**Calculate the log_odds and probability of LEAVE(1) for all instances**\n",
    "\n",
    "The ``log_odds`` values for all instances are returned by the ``decision_function`` method.  \n",
    "\n",
    "-  ``log_odds`` is proportional to instances' perpendicular distance to the hyperplane, and also called as ``confidence scores``."
   ]
  },
  {
   "cell_type": "code",
   "execution_count": 318,
   "metadata": {},
   "outputs": [
    {
     "data": {
      "text/plain": [
       "array([ 0.0814361 ,  0.24320265,  0.24918755, ..., -0.30211069,\n",
       "       -0.19190374,  0.1022976 ], shape=(16000,))"
      ]
     },
     "execution_count": 318,
     "metadata": {},
     "output_type": "execute_result"
    }
   ],
   "source": [
    "log_odds2 = m1.decision_function(X_train_sub)   \n",
    "\n",
    "log_odds2             # the first value is the log-odds for the 1st instance"
   ]
  },
  {
   "cell_type": "markdown",
   "metadata": {},
   "source": [
    "With the ``log_odds`` for all intances, we can calcualte the ``leaving probability`` for all customers very effectively. \n",
    "\n",
    "- The estimated leave probabilities should be the same as those returned by ``m1.predict_proba(X_train_sub)``, which is in the 2nd column of  **train_prob1**. "
   ]
  },
  {
   "cell_type": "code",
   "execution_count": 319,
   "metadata": {},
   "outputs": [
    {
     "data": {
      "text/plain": [
       "array([0.52034778, 0.56050274, 0.56197652, ..., 0.42504159, 0.45217076,\n",
       "       0.52555212], shape=(16000,))"
      ]
     },
     "execution_count": 319,
     "metadata": {},
     "output_type": "execute_result"
    }
   ],
   "source": [
    "prob2 = 1 /(1 + np.exp(-log_odds2))    # element-wise computation applies   \n",
    "\n",
    "prob2                                  # same as train_prob1[:,1]    "
   ]
  },
  {
   "cell_type": "markdown",
   "metadata": {},
   "source": [
    "## 2.4 Predict and Evaluate on Test Set\n",
    "\n",
    "When making class predictions,  the default threshhold is 0.5. "
   ]
  },
  {
   "cell_type": "code",
   "execution_count": null,
   "metadata": {},
   "outputs": [
    {
     "data": {
      "text/plain": [
       "0.5545"
      ]
     },
     "execution_count": 320,
     "metadata": {},
     "output_type": "execute_result"
    }
   ],
   "source": [
    "X_test_sub = X_test_scaled[['COLLEGE', 'INCOME']]     # Two features for m1\n",
    "\n",
    "test_pred1 = m1.predict(X_test_sub)\n",
    "\n",
    "accuracy_score(test_pred1, y_test)                   # same as m1.score(X_test_sub, y_test)"
   ]
  },
  {
   "cell_type": "markdown",
   "metadata": {},
   "source": [
    "#  3.  Train m2 with all features \n",
    "\n",
    "<font color=red>***Exercise 2: Your Codes Here***</font>  \n",
    "\n",
    "Please complete the following two steps: \n",
    "- Step 1: please train **m2** with all 11 features (i.e.,  **X_train_scaled**). Check the parameter values.\n",
    "- Step 2: evaluate **m2**'s performance on both train and test set. With more features used, is the model performance better?  \n"
   ]
  },
  {
   "cell_type": "code",
   "execution_count": null,
   "metadata": {},
   "outputs": [],
   "source": []
  },
  {
   "cell_type": "code",
   "execution_count": null,
   "metadata": {},
   "outputs": [],
   "source": []
  }
 ],
 "metadata": {
  "kernelspec": {
   "display_name": ".venv",
   "language": "python",
   "name": "python3"
  },
  "language_info": {
   "codemirror_mode": {
    "name": "ipython",
    "version": 3
   },
   "file_extension": ".py",
   "mimetype": "text/x-python",
   "name": "python",
   "nbconvert_exporter": "python",
   "pygments_lexer": "ipython3",
   "version": "3.12.8"
  }
 },
 "nbformat": 4,
 "nbformat_minor": 4
}
